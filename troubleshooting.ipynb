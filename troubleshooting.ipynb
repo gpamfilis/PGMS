{
 "cells": [
  {
   "cell_type": "code",
   "execution_count": 1,
   "metadata": {},
   "outputs": [
    {
     "name": "stderr",
     "output_type": "stream",
     "text": [
      "/home/kasper/PycharmProjects/venv/lib/python3.5/site-packages/h5py/__init__.py:36: FutureWarning: Conversion of the second argument of issubdtype from `float` to `np.floating` is deprecated. In future, it will be treated as `np.float64 == np.dtype(float).type`.\n",
      "  from ._conv import register_converters as _register_converters\n"
     ]
    }
   ],
   "source": [
    "import pandas as pd\n",
    "import numpy as np\n",
    "import h5py"
   ]
  },
  {
   "cell_type": "code",
   "execution_count": 15,
   "metadata": {
    "collapsed": true
   },
   "outputs": [],
   "source": [
    "df = pd.read_csv('/home/kasper/Dropbox/Scrapping/soccerway/csv/final_data_soccerway.csv', index_col='Unnamed: 0')"
   ]
  },
  {
   "cell_type": "code",
   "execution_count": 48,
   "metadata": {},
   "outputs": [
    {
     "data": {
      "text/html": [
       "<div>\n",
       "<table border=\"1\" class=\"dataframe\">\n",
       "  <thead>\n",
       "    <tr style=\"text-align: right;\">\n",
       "      <th></th>\n",
       "      <th>away_goals</th>\n",
       "      <th>away_team</th>\n",
       "      <th>championship</th>\n",
       "      <th>date</th>\n",
       "      <th>home_goals</th>\n",
       "      <th>home_team</th>\n",
       "      <th>over_under_0.5</th>\n",
       "      <th>over_under_1.5</th>\n",
       "      <th>over_under_2.5</th>\n",
       "      <th>over_under_3.5</th>\n",
       "      <th>over_under_4.5</th>\n",
       "      <th>result_final</th>\n",
       "      <th>score</th>\n",
       "      <th>total_goals</th>\n",
       "    </tr>\n",
       "  </thead>\n",
       "  <tbody>\n",
       "    <tr>\n",
       "      <th>0</th>\n",
       "      <td>1.0</td>\n",
       "      <td>Maccabi Herzliya</td>\n",
       "      <td>Israel  Ligat haAl</td>\n",
       "      <td>2000-01-01 00:00:00</td>\n",
       "      <td>3.0</td>\n",
       "      <td>Bnei Yehuda</td>\n",
       "      <td>0.0</td>\n",
       "      <td>0.0</td>\n",
       "      <td>0.0</td>\n",
       "      <td>0.0</td>\n",
       "      <td>1.0</td>\n",
       "      <td>0.0</td>\n",
       "      <td>3 - 1</td>\n",
       "      <td>4.0</td>\n",
       "    </tr>\n",
       "    <tr>\n",
       "      <th>1</th>\n",
       "      <td>0.0</td>\n",
       "      <td>Hapoel Jerusalem</td>\n",
       "      <td>Israel  Ligat haAl</td>\n",
       "      <td>2000-01-01 00:00:00</td>\n",
       "      <td>3.0</td>\n",
       "      <td>Hapoel Tel Aviv</td>\n",
       "      <td>0.0</td>\n",
       "      <td>0.0</td>\n",
       "      <td>0.0</td>\n",
       "      <td>1.0</td>\n",
       "      <td>1.0</td>\n",
       "      <td>0.0</td>\n",
       "      <td>3 - 0</td>\n",
       "      <td>3.0</td>\n",
       "    </tr>\n",
       "    <tr>\n",
       "      <th>2</th>\n",
       "      <td>1.0</td>\n",
       "      <td>Maccabi Petah Tikva</td>\n",
       "      <td>Israel  Ligat haAl</td>\n",
       "      <td>2000-01-01 00:00:00</td>\n",
       "      <td>0.0</td>\n",
       "      <td>Hapoel Petah Tikva</td>\n",
       "      <td>0.0</td>\n",
       "      <td>1.0</td>\n",
       "      <td>1.0</td>\n",
       "      <td>1.0</td>\n",
       "      <td>1.0</td>\n",
       "      <td>2.0</td>\n",
       "      <td>0 - 1</td>\n",
       "      <td>1.0</td>\n",
       "    </tr>\n",
       "    <tr>\n",
       "      <th>3</th>\n",
       "      <td>1.0</td>\n",
       "      <td>Ashdod</td>\n",
       "      <td>Israel  Ligat haAl</td>\n",
       "      <td>2000-01-01 00:00:00</td>\n",
       "      <td>3.0</td>\n",
       "      <td>Beitar Jerusalem</td>\n",
       "      <td>0.0</td>\n",
       "      <td>0.0</td>\n",
       "      <td>0.0</td>\n",
       "      <td>0.0</td>\n",
       "      <td>1.0</td>\n",
       "      <td>0.0</td>\n",
       "      <td>3 - 1</td>\n",
       "      <td>4.0</td>\n",
       "    </tr>\n",
       "    <tr>\n",
       "      <th>4</th>\n",
       "      <td>0.0</td>\n",
       "      <td>Maccabi Netanya</td>\n",
       "      <td>Israel  Ligat haAl</td>\n",
       "      <td>2000-01-01 00:00:00</td>\n",
       "      <td>1.0</td>\n",
       "      <td>Hapoel Rishon LeZion</td>\n",
       "      <td>0.0</td>\n",
       "      <td>1.0</td>\n",
       "      <td>1.0</td>\n",
       "      <td>1.0</td>\n",
       "      <td>1.0</td>\n",
       "      <td>0.0</td>\n",
       "      <td>1 - 0</td>\n",
       "      <td>1.0</td>\n",
       "    </tr>\n",
       "  </tbody>\n",
       "</table>\n",
       "</div>"
      ],
      "text/plain": [
       "   away_goals            away_team        championship                 date  \\\n",
       "0         1.0     Maccabi Herzliya  Israel  Ligat haAl  2000-01-01 00:00:00   \n",
       "1         0.0     Hapoel Jerusalem  Israel  Ligat haAl  2000-01-01 00:00:00   \n",
       "2         1.0  Maccabi Petah Tikva  Israel  Ligat haAl  2000-01-01 00:00:00   \n",
       "3         1.0               Ashdod  Israel  Ligat haAl  2000-01-01 00:00:00   \n",
       "4         0.0      Maccabi Netanya  Israel  Ligat haAl  2000-01-01 00:00:00   \n",
       "\n",
       "   home_goals             home_team  over_under_0.5  over_under_1.5  \\\n",
       "0         3.0           Bnei Yehuda             0.0             0.0   \n",
       "1         3.0       Hapoel Tel Aviv             0.0             0.0   \n",
       "2         0.0    Hapoel Petah Tikva             0.0             1.0   \n",
       "3         3.0      Beitar Jerusalem             0.0             0.0   \n",
       "4         1.0  Hapoel Rishon LeZion             0.0             1.0   \n",
       "\n",
       "   over_under_2.5  over_under_3.5  over_under_4.5  result_final  score  \\\n",
       "0             0.0             0.0             1.0           0.0  3 - 1   \n",
       "1             0.0             1.0             1.0           0.0  3 - 0   \n",
       "2             1.0             1.0             1.0           2.0  0 - 1   \n",
       "3             0.0             0.0             1.0           0.0  3 - 1   \n",
       "4             1.0             1.0             1.0           0.0  1 - 0   \n",
       "\n",
       "   total_goals  \n",
       "0          4.0  \n",
       "1          3.0  \n",
       "2          1.0  \n",
       "3          4.0  \n",
       "4          1.0  "
      ]
     },
     "execution_count": 48,
     "metadata": {},
     "output_type": "execute_result"
    }
   ],
   "source": [
    "df.head()"
   ]
  },
  {
   "cell_type": "code",
   "execution_count": 64,
   "metadata": {
    "collapsed": true
   },
   "outputs": [],
   "source": [
    "h5f = h5py.File('./scoring/elo_goals.h5','r')"
   ]
  },
  {
   "cell_type": "code",
   "execution_count": 65,
   "metadata": {},
   "outputs": [
    {
     "name": "stdout",
     "output_type": "stream",
     "text": [
      "Albania  Cup\n",
      "Belgium  Cup\n",
      "Brazil  Copa do Brasil\n",
      "Cyprus  1. Division\n",
      "England  League Two\n",
      "England  Premier League\n",
      "Estonia  Winter Tournament\n",
      "Northern Ireland  Premiership Development League\n",
      "Saudi Arabia  Division 1\n",
      "Spain  Copa del Rey\n",
      "United Arab Emirates  Youth League\n"
     ]
    }
   ],
   "source": [
    "for champ in h5f.keys():\n",
    "    print(champ)\n",
    "    champ_data = h5f[champ]\n",
    "    for team in champ_data.keys():\n",
    "        pass"
   ]
  },
  {
   "cell_type": "code",
   "execution_count": 56,
   "metadata": {},
   "outputs": [],
   "source": [
    "h5f.close()"
   ]
  },
  {
   "cell_type": "code",
   "execution_count": null,
   "metadata": {
    "collapsed": true
   },
   "outputs": [],
   "source": []
  },
  {
   "cell_type": "code",
   "execution_count": null,
   "metadata": {
    "collapsed": true
   },
   "outputs": [],
   "source": []
  },
  {
   "cell_type": "code",
   "execution_count": 61,
   "metadata": {},
   "outputs": [
    {
     "data": {
      "text/plain": [
       "('United Arab Emirates  Youth League', 'Khor Fakkan U21')"
      ]
     },
     "execution_count": 61,
     "metadata": {},
     "output_type": "execute_result"
    }
   ],
   "source": [
    "champ, team"
   ]
  },
  {
   "cell_type": "code",
   "execution_count": 66,
   "metadata": {},
   "outputs": [],
   "source": [
    "ix = h5f[champ][team][:]"
   ]
  },
  {
   "cell_type": "code",
   "execution_count": 67,
   "metadata": {},
   "outputs": [
    {
     "data": {
      "text/plain": [
       "array([[           nan,            nan,            nan,            nan,\n",
       "                   nan,            nan,            nan,            nan,\n",
       "                   nan,            nan,            nan,            nan,\n",
       "                   nan,            nan,            nan,            nan,\n",
       "                   nan,            nan,            nan,            nan,\n",
       "                   nan,            nan,            nan,            nan,\n",
       "                   nan,            nan,            nan,            nan,\n",
       "                   nan,            nan,            nan,            nan,\n",
       "                   nan,            nan,            nan,            nan,\n",
       "                   nan,            nan,            nan,            nan,\n",
       "                   nan,            nan,            nan,            nan,\n",
       "                   nan,            nan,            nan,            nan,\n",
       "                   nan,            nan,            nan,            nan,\n",
       "                   nan,            nan,            nan,            nan,\n",
       "                   nan,            nan,            nan,            nan,\n",
       "        1.09856128e+02, 1.19154294e+02, 1.23737768e+02, 1.28190552e+02,\n",
       "        1.41610505e+02, 1.53927773e+02, 1.42826137e+02, 1.32350144e+02,\n",
       "        1.26738018e+02, 1.21285578e+02, 1.30759453e+02, 1.39699372e+02,\n",
       "        1.26285697e+02, 1.13974069e+02, 1.03532438e+02, 9.36828020e+01,\n",
       "        9.36828020e+01, 9.36828020e+01, 9.36828020e+01, 9.36828020e+01,\n",
       "        9.36828020e+01, 9.36828020e+01, 8.06257942e+01, 6.88090144e+01,\n",
       "                   nan,            nan,            nan,            nan,\n",
       "                   nan,            nan,            nan,            nan],\n",
       "       [           nan,            nan,            nan,            nan,\n",
       "                   nan,            nan,            nan,            nan,\n",
       "                   nan,            nan,            nan,            nan,\n",
       "                   nan,            nan,            nan,            nan,\n",
       "                   nan,            nan,            nan,            nan,\n",
       "        2.05397900e+06, 2.05407200e+06, 2.05397100e+06, 2.05407300e+06,\n",
       "        2.05397100e+06, 2.05407300e+06, 1.97348600e+06, 1.97371100e+06,\n",
       "        1.98625800e+06, 1.98752200e+06, 1.99647600e+06, 1.99850100e+06,\n",
       "        2.01150700e+06, 2.01175600e+06, 2.02021600e+06, 2.02252200e+06,\n",
       "        2.03920000e+06, 2.03948600e+06, 2.08315000e+06, 2.08323500e+06,\n",
       "        2.08838900e+06, 2.08849800e+06, 2.09033000e+06, 2.09040900e+06,\n",
       "        2.09224200e+06, 2.09236100e+06, 2.09616300e+06, 2.09629500e+06,\n",
       "        2.10181300e+06, 2.10185100e+06, 2.10924300e+06, 2.11051300e+06,\n",
       "        1.97348600e+06, 1.97371100e+06, 1.98625900e+06, 1.98753200e+06,\n",
       "        1.99647800e+06, 1.99849900e+06, 2.02021400e+06, 2.02252400e+06,\n",
       "        2.03919900e+06, 2.03947000e+06, 2.07804300e+06, 2.07810700e+06,\n",
       "        2.08842300e+06, 2.08849900e+06, 2.09032800e+06, 2.09036000e+06,\n",
       "        2.09224200e+06, 2.09236100e+06, 2.09619800e+06, 2.09630000e+06,\n",
       "        2.10181400e+06, 2.10185000e+06, 1.97348700e+06, 1.97371200e+06,\n",
       "        1.99647600e+06, 1.99850100e+06, 2.01150600e+06, 2.01176700e+06,\n",
       "        2.02021500e+06, 2.02252300e+06, 2.03919900e+06, 2.03947000e+06,\n",
       "        2.07804200e+06, 2.07810800e+06, 2.08317100e+06, 2.08323600e+06,\n",
       "        2.08842100e+06, 2.08849700e+06, 2.09032800e+06, 2.09036000e+06]])"
      ]
     },
     "execution_count": 67,
     "metadata": {},
     "output_type": "execute_result"
    }
   ],
   "source": [
    "ix"
   ]
  },
  {
   "cell_type": "code",
   "execution_count": 47,
   "metadata": {},
   "outputs": [
    {
     "name": "stdout",
     "output_type": "stream",
     "text": [
      "Al Hamriyah U21      Al Ittihad Kalba U21\n",
      "Al Hamriyah U21      Al Ittihad Kalba U21\n",
      "Bani Yas U21      Al Hamriyah U21\n",
      "Bani Yas U21      Al Hamriyah U21\n",
      "Al Hamriyah U21      Deba Al Hissin U21\n",
      "Al Hamriyah U21      Deba Al Hissin U21\n",
      "Al Bataeh U21      Al Hamriyah U21\n",
      "Al Bataeh U21      Al Hamriyah U21\n",
      "Al Ittihad Kalba U21      Al Hamriyah U21\n",
      "Al Ittihad Kalba U21      Al Hamriyah U21\n",
      "Al Hamriyah U21      Bani Yas U21\n",
      "Al Hamriyah U21      Bani Yas U21\n",
      "Deba Al Hissin U21      Al Hamriyah U21\n",
      "Deba Al Hissin U21      Al Hamriyah U21\n",
      "Khor Fakkan U21      Al Hamriyah U21\n",
      "Khor Fakkan U21      Al Hamriyah U21\n",
      "Al Hamriyah U21      Al Fujairah U21\n",
      "Al Hamriyah U21      Al Fujairah U21\n",
      "Deba Al Hissin U21      Al Ittihad Kalba U21\n",
      "Deba Al Hissin U21      Al Ittihad Kalba U21\n",
      "Al Ittihad Kalba U21      Al Bataeh U21\n",
      "Al Ittihad Kalba U21      Al Bataeh U21\n",
      "Khor Fakkan U21      Al Ittihad Kalba U21\n",
      "Khor Fakkan U21      Al Ittihad Kalba U21\n",
      "Al Hamriyah U21      Al Ittihad Kalba U21\n",
      "Al Hamriyah U21      Al Ittihad Kalba U21\n",
      "Al Ittihad Kalba U21      Al Fujairah U21\n",
      "Al Ittihad Kalba U21      Al Fujairah U21\n",
      "Bani Yas U21      Al Ittihad Kalba U21\n",
      "Bani Yas U21      Al Ittihad Kalba U21\n",
      "Al Ittihad Kalba U21      Al Hamriyah U21\n",
      "Al Ittihad Kalba U21      Al Hamriyah U21\n",
      "Al Fujairah U21      Al Ittihad Kalba U21\n",
      "Al Fujairah U21      Al Ittihad Kalba U21\n",
      "Deba Al Hissin U21      Al Ittihad Kalba U21\n",
      "Deba Al Hissin U21      Al Ittihad Kalba U21\n",
      "Al Ittihad Kalba U21      Al Bataeh U21\n",
      "Al Ittihad Kalba U21      Al Bataeh U21\n",
      "Khor Fakkan U21      Al Ittihad Kalba U21\n",
      "Khor Fakkan U21      Al Ittihad Kalba U21\n",
      "Al Bataeh U21      Khor Fakkan U21\n",
      "Al Bataeh U21      Khor Fakkan U21\n",
      "Khor Fakkan U21      Al Hamriyah U21\n",
      "Khor Fakkan U21      Al Hamriyah U21\n",
      "Al Fujairah U21      Khor Fakkan U21\n",
      "Al Fujairah U21      Khor Fakkan U21\n",
      "Khor Fakkan U21      Al Ittihad Kalba U21\n",
      "Khor Fakkan U21      Al Ittihad Kalba U21\n",
      "Khor Fakkan U21      Bani Yas U21\n",
      "Khor Fakkan U21      Bani Yas U21\n",
      "Deba Al Hissin U21      Khor Fakkan U21\n",
      "Deba Al Hissin U21      Khor Fakkan U21\n",
      "Khor Fakkan U21      Al Bataeh U21\n",
      "Khor Fakkan U21      Al Bataeh U21\n",
      "Bani Yas U21      Khor Fakkan U21\n",
      "Bani Yas U21      Khor Fakkan U21\n",
      "Khor Fakkan U21      Deba Al Hissin U21\n",
      "Khor Fakkan U21      Deba Al Hissin U21\n",
      "Al Bataeh U21      Khor Fakkan U21\n",
      "Al Bataeh U21      Khor Fakkan U21\n",
      "Khor Fakkan U21      Al Hamriyah U21\n",
      "Khor Fakkan U21      Al Hamriyah U21\n",
      "Al Fujairah U21      Khor Fakkan U21\n",
      "Al Fujairah U21      Khor Fakkan U21\n",
      "Khor Fakkan U21      Al Ittihad Kalba U21\n",
      "Khor Fakkan U21      Al Ittihad Kalba U21\n",
      "Nacional      Cerro\n",
      "Nacional      Cerro\n",
      "Nacional      Cerro\n",
      "Nacional      Cerro\n",
      "Rampla Juniors      Boston River\n",
      "Rampla Juniors      Boston River\n"
     ]
    },
    {
     "ename": "KeyError",
     "evalue": "'the label [-9223372036854775808] is not in the [index]'",
     "output_type": "error",
     "traceback": [
      "\u001b[0;31m---------------------------------------------------------------------------\u001b[0m",
      "\u001b[0;31mKeyError\u001b[0m                                  Traceback (most recent call last)",
      "\u001b[0;32m~/PycharmProjects/venv/lib/python3.5/site-packages/pandas/core/indexing.py\u001b[0m in \u001b[0;36m_has_valid_type\u001b[0;34m(self, key, axis)\u001b[0m\n\u001b[1;32m   1410\u001b[0m                 \u001b[0;32mif\u001b[0m \u001b[0mkey\u001b[0m \u001b[0;32mnot\u001b[0m \u001b[0;32min\u001b[0m \u001b[0max\u001b[0m\u001b[0;34m:\u001b[0m\u001b[0;34m\u001b[0m\u001b[0m\n\u001b[0;32m-> 1411\u001b[0;31m                     \u001b[0merror\u001b[0m\u001b[0;34m(\u001b[0m\u001b[0;34m)\u001b[0m\u001b[0;34m\u001b[0m\u001b[0m\n\u001b[0m\u001b[1;32m   1412\u001b[0m             \u001b[0;32mexcept\u001b[0m \u001b[0mTypeError\u001b[0m \u001b[0;32mas\u001b[0m \u001b[0me\u001b[0m\u001b[0;34m:\u001b[0m\u001b[0;34m\u001b[0m\u001b[0m\n",
      "\u001b[0;32m~/PycharmProjects/venv/lib/python3.5/site-packages/pandas/core/indexing.py\u001b[0m in \u001b[0;36merror\u001b[0;34m()\u001b[0m\n\u001b[1;32m   1405\u001b[0m                 raise KeyError(\"the label [%s] is not in the [%s]\" %\n\u001b[0;32m-> 1406\u001b[0;31m                                (key, self.obj._get_axis_name(axis)))\n\u001b[0m\u001b[1;32m   1407\u001b[0m \u001b[0;34m\u001b[0m\u001b[0m\n",
      "\u001b[0;31mKeyError\u001b[0m: 'the label [-9223372036854775808] is not in the [index]'",
      "\nDuring handling of the above exception, another exception occurred:\n",
      "\u001b[0;31mKeyError\u001b[0m                                  Traceback (most recent call last)",
      "\u001b[0;32m<ipython-input-47-1b3e77ae6a9d>\u001b[0m in \u001b[0;36m<module>\u001b[0;34m()\u001b[0m\n\u001b[1;32m      1\u001b[0m \u001b[0;32mfor\u001b[0m \u001b[0mi\u001b[0m \u001b[0;32min\u001b[0m \u001b[0mix\u001b[0m\u001b[0;34m[\u001b[0m\u001b[0;34m:\u001b[0m\u001b[0;34m:\u001b[0m\u001b[0;34m-\u001b[0m\u001b[0;36m1\u001b[0m\u001b[0;34m]\u001b[0m\u001b[0;34m:\u001b[0m\u001b[0;34m\u001b[0m\u001b[0m\n\u001b[0;32m----> 2\u001b[0;31m     \u001b[0ms\u001b[0m \u001b[0;34m=\u001b[0m \u001b[0mdf\u001b[0m\u001b[0;34m.\u001b[0m\u001b[0mloc\u001b[0m\u001b[0;34m[\u001b[0m\u001b[0mi\u001b[0m\u001b[0;34m]\u001b[0m\u001b[0;34m\u001b[0m\u001b[0m\n\u001b[0m\u001b[1;32m      3\u001b[0m     \u001b[0mprint\u001b[0m\u001b[0;34m(\u001b[0m\u001b[0ms\u001b[0m\u001b[0;34m.\u001b[0m\u001b[0mhome_team\u001b[0m\u001b[0;34m,\u001b[0m\u001b[0;34m'    '\u001b[0m\u001b[0;34m,\u001b[0m\u001b[0ms\u001b[0m\u001b[0;34m.\u001b[0m\u001b[0maway_team\u001b[0m\u001b[0;34m)\u001b[0m\u001b[0;34m\u001b[0m\u001b[0m\n",
      "\u001b[0;32m~/PycharmProjects/venv/lib/python3.5/site-packages/pandas/core/indexing.py\u001b[0m in \u001b[0;36m__getitem__\u001b[0;34m(self, key)\u001b[0m\n\u001b[1;32m   1310\u001b[0m             \u001b[0;32mreturn\u001b[0m \u001b[0mself\u001b[0m\u001b[0;34m.\u001b[0m\u001b[0m_getitem_tuple\u001b[0m\u001b[0;34m(\u001b[0m\u001b[0mkey\u001b[0m\u001b[0;34m)\u001b[0m\u001b[0;34m\u001b[0m\u001b[0m\n\u001b[1;32m   1311\u001b[0m         \u001b[0;32melse\u001b[0m\u001b[0;34m:\u001b[0m\u001b[0;34m\u001b[0m\u001b[0m\n\u001b[0;32m-> 1312\u001b[0;31m             \u001b[0;32mreturn\u001b[0m \u001b[0mself\u001b[0m\u001b[0;34m.\u001b[0m\u001b[0m_getitem_axis\u001b[0m\u001b[0;34m(\u001b[0m\u001b[0mkey\u001b[0m\u001b[0;34m,\u001b[0m \u001b[0maxis\u001b[0m\u001b[0;34m=\u001b[0m\u001b[0;36m0\u001b[0m\u001b[0;34m)\u001b[0m\u001b[0;34m\u001b[0m\u001b[0m\n\u001b[0m\u001b[1;32m   1313\u001b[0m \u001b[0;34m\u001b[0m\u001b[0m\n\u001b[1;32m   1314\u001b[0m     \u001b[0;32mdef\u001b[0m \u001b[0m_getitem_axis\u001b[0m\u001b[0;34m(\u001b[0m\u001b[0mself\u001b[0m\u001b[0;34m,\u001b[0m \u001b[0mkey\u001b[0m\u001b[0;34m,\u001b[0m \u001b[0maxis\u001b[0m\u001b[0;34m=\u001b[0m\u001b[0;36m0\u001b[0m\u001b[0;34m)\u001b[0m\u001b[0;34m:\u001b[0m\u001b[0;34m\u001b[0m\u001b[0m\n",
      "\u001b[0;32m~/PycharmProjects/venv/lib/python3.5/site-packages/pandas/core/indexing.py\u001b[0m in \u001b[0;36m_getitem_axis\u001b[0;34m(self, key, axis)\u001b[0m\n\u001b[1;32m   1480\u001b[0m \u001b[0;34m\u001b[0m\u001b[0m\n\u001b[1;32m   1481\u001b[0m         \u001b[0;31m# fall thru to straight lookup\u001b[0m\u001b[0;34m\u001b[0m\u001b[0;34m\u001b[0m\u001b[0m\n\u001b[0;32m-> 1482\u001b[0;31m         \u001b[0mself\u001b[0m\u001b[0;34m.\u001b[0m\u001b[0m_has_valid_type\u001b[0m\u001b[0;34m(\u001b[0m\u001b[0mkey\u001b[0m\u001b[0;34m,\u001b[0m \u001b[0maxis\u001b[0m\u001b[0;34m)\u001b[0m\u001b[0;34m\u001b[0m\u001b[0m\n\u001b[0m\u001b[1;32m   1483\u001b[0m         \u001b[0;32mreturn\u001b[0m \u001b[0mself\u001b[0m\u001b[0;34m.\u001b[0m\u001b[0m_get_label\u001b[0m\u001b[0;34m(\u001b[0m\u001b[0mkey\u001b[0m\u001b[0;34m,\u001b[0m \u001b[0maxis\u001b[0m\u001b[0;34m=\u001b[0m\u001b[0maxis\u001b[0m\u001b[0;34m)\u001b[0m\u001b[0;34m\u001b[0m\u001b[0m\n\u001b[1;32m   1484\u001b[0m \u001b[0;34m\u001b[0m\u001b[0m\n",
      "\u001b[0;32m~/PycharmProjects/venv/lib/python3.5/site-packages/pandas/core/indexing.py\u001b[0m in \u001b[0;36m_has_valid_type\u001b[0;34m(self, key, axis)\u001b[0m\n\u001b[1;32m   1417\u001b[0m                 \u001b[0;32mraise\u001b[0m\u001b[0;34m\u001b[0m\u001b[0m\n\u001b[1;32m   1418\u001b[0m             \u001b[0;32mexcept\u001b[0m\u001b[0;34m:\u001b[0m\u001b[0;34m\u001b[0m\u001b[0m\n\u001b[0;32m-> 1419\u001b[0;31m                 \u001b[0merror\u001b[0m\u001b[0;34m(\u001b[0m\u001b[0;34m)\u001b[0m\u001b[0;34m\u001b[0m\u001b[0m\n\u001b[0m\u001b[1;32m   1420\u001b[0m \u001b[0;34m\u001b[0m\u001b[0m\n\u001b[1;32m   1421\u001b[0m         \u001b[0;32mreturn\u001b[0m \u001b[0;32mTrue\u001b[0m\u001b[0;34m\u001b[0m\u001b[0m\n",
      "\u001b[0;32m~/PycharmProjects/venv/lib/python3.5/site-packages/pandas/core/indexing.py\u001b[0m in \u001b[0;36merror\u001b[0;34m()\u001b[0m\n\u001b[1;32m   1404\u001b[0m                                     \"key\")\n\u001b[1;32m   1405\u001b[0m                 raise KeyError(\"the label [%s] is not in the [%s]\" %\n\u001b[0;32m-> 1406\u001b[0;31m                                (key, self.obj._get_axis_name(axis)))\n\u001b[0m\u001b[1;32m   1407\u001b[0m \u001b[0;34m\u001b[0m\u001b[0m\n\u001b[1;32m   1408\u001b[0m             \u001b[0;32mtry\u001b[0m\u001b[0;34m:\u001b[0m\u001b[0;34m\u001b[0m\u001b[0m\n",
      "\u001b[0;31mKeyError\u001b[0m: 'the label [-9223372036854775808] is not in the [index]'"
     ]
    }
   ],
   "source": [
    "for i in ix[::-1]:\n",
    "    s = df.loc[i]\n",
    "    print(s.home_team,'    ',s.away_team)"
   ]
  },
  {
   "cell_type": "code",
   "execution_count": null,
   "metadata": {
    "collapsed": true
   },
   "outputs": [],
   "source": [
    "    def step21(self):\n",
    "        print(\"[RUN] STEP 2 - Extracting [y] Observable State and [X] Hidden States - \")\n",
    "        data = self.data\n",
    "        files = os.listdir('../data/elo_ratings/ratings/')\n",
    "        for f in files[:]:\n",
    "            print(f)\n",
    "            championship_name = f.split('.csv')\n",
    "\n",
    "            bar = progressbar.ProgressBar(widgets=[\n",
    "                ' [', progressbar.Timer(), '] ',\n",
    "                progressbar.Bar(),\n",
    "                ' (', progressbar.ETA(), ') ',\n",
    "            ])\n",
    "            elo_ratings_timeline = pd.read_csv('../data/elo_ratings/ratings/'+f, index_col='Unnamed: 0')\n",
    "\n",
    "            try:\n",
    "                champ_data = data.loc[elo_ratings_timeline.index]\n",
    "                output = []\n",
    "                s_teams = []\n",
    "                for team_name in bar(elo_ratings_timeline.columns[:]):\n",
    "                    try:\n",
    "                        x_data_key = champ_data[self.result_key]\n",
    "                        observed_data_elo_ratings = elo_ratings_timeline[team_name].diff().replace(np.nan, 0).astype(int)\n",
    "                        ys = observed_data_elo_ratings.values\n",
    "                        xs = x_data_key.values\n",
    "                        out = [champ_data.index.values,champ_data.date.values, ys, xs]\n",
    "                        output.append(out)\n",
    "                        s_teams.append(team_name)\n",
    "                    except Exception as e:\n",
    "                        print('Error [-] Getting States', team_name, e)\n",
    "\n",
    "                df = pd.DataFrame(output, columns=['index', 'date', 'y', 'x'], index=s_teams)\n",
    "                df.to_csv('../data/elo_ratings/states/'+self.side_home_or_away+'/'+self.result_key+'/'+f.strip('.csv') + '.csv')\n",
    "            except Exception as e:\n",
    "                print('Error [-] All went to shit', championship_name, self.result_key, e)\n"
   ]
  }
 ],
 "metadata": {
  "kernelspec": {
   "display_name": "Python 3",
   "language": "python",
   "name": "python3"
  },
  "language_info": {
   "codemirror_mode": {
    "name": "ipython",
    "version": 3
   },
   "file_extension": ".py",
   "mimetype": "text/x-python",
   "name": "python",
   "nbconvert_exporter": "python",
   "pygments_lexer": "ipython3",
   "version": "3.5.2"
  }
 },
 "nbformat": 4,
 "nbformat_minor": 2
}
