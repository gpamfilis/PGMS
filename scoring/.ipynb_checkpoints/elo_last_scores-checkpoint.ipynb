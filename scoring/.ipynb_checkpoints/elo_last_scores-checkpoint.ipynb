{
 "cells": [
  {
   "cell_type": "code",
   "execution_count": 1,
   "metadata": {},
   "outputs": [
    {
     "name": "stderr",
     "output_type": "stream",
     "text": [
      "/home/kasper/PycharmProjects/venv/lib/python3.5/site-packages/h5py/__init__.py:36: FutureWarning: Conversion of the second argument of issubdtype from `float` to `np.floating` is deprecated. In future, it will be treated as `np.float64 == np.dtype(float).type`.\n",
      "  from ._conv import register_converters as _register_converters\n"
     ]
    }
   ],
   "source": [
    "from os import sys, path\n",
    "sys.path.append(path.dirname(path.dirname(path.abspath('__file__'))))\n",
    "\n",
    "import pprint\n",
    "\n",
    "\n",
    "import h5py\n"
   ]
  },
  {
   "cell_type": "code",
   "execution_count": 2,
   "metadata": {
    "collapsed": true
   },
   "outputs": [],
   "source": [
    "import progressbar"
   ]
  },
  {
   "cell_type": "code",
   "execution_count": 3,
   "metadata": {},
   "outputs": [
    {
     "name": "stderr",
     "output_type": "stream",
     "text": [
      "/home/kasper/PycharmProjects/venv/lib/python3.5/site-packages/numpy/lib/arraysetops.py:466: FutureWarning: elementwise comparison failed; returning scalar instead, but in the future will perform elementwise comparison\n",
      "  mask |= (ar1 == a)\n"
     ]
    }
   ],
   "source": [
    "df = pd.read_csv('/home/kasper/Dropbox/Scrapping/soccerway/csv/final_data_soccerway.csv', index_col='Unnamed: 0')\n",
    "pred_data = pd.read_csv('../data/predict.csv', index_col='Unnamed: 0')\n",
    "df_teams = pred_data[['home_team','away_team']].values"
   ]
  },
  {
   "cell_type": "code",
   "execution_count": 4,
   "metadata": {
    "collapsed": true
   },
   "outputs": [],
   "source": [
    "result_key = 'result_final'\n",
    "n_states = 3"
   ]
  },
  {
   "cell_type": "code",
   "execution_count": 17,
   "metadata": {
    "collapsed": true
   },
   "outputs": [],
   "source": [
    "def get_team_data(p, pair):\n",
    "    h5f = h5py.File('./elo_temp_goals/elo_pairs_'+str(p)+'.h5','r')\n",
    "    champ = list(h5f.keys())[0]\n",
    "    teams = list(h5f[champ].keys())\n",
    "    teamh = df_teams[p,0]\n",
    "    teama = df_teams[p,1]\n",
    "    datah = h5f[champ][teamh][:]\n",
    "    dataa = h5f[champ][teama][:]\n",
    "    h5f.close()\n",
    "    return champ, teams, teamh, teama, datah, dataa"
   ]
  },
  {
   "cell_type": "code",
   "execution_count": 18,
   "metadata": {
    "collapsed": true
   },
   "outputs": [],
   "source": [
    "def get_ratings(datah, dataa, teamh, teama):\n",
    "    ht = pd.DataFrame(datah[1], columns=[teamh], index=datah[0].astype(int))\n",
    "    at = pd.DataFrame(dataa[1], columns=[teama], index=dataa[0].astype(int))\n",
    "    last_score_home, last_score_away = ht.iloc[-1].values[0], at.iloc[-1].values[0]\n",
    "    ht.iloc[1:] = ht.values[0:-1]\n",
    "    ht.iloc[0] = 100\n",
    "    at.iloc[1:] = at.values[0:-1]\n",
    "    at.iloc[0] = 100\n",
    "    htd = ht.diff().replace(np.nan, 0).astype(int)\n",
    "    atd = at.diff().replace(np.nan, 0).astype(int)\n",
    "    return ht, at, htd, atd, last_score_home, last_score_away"
   ]
  },
  {
   "cell_type": "code",
   "execution_count": 19,
   "metadata": {
    "collapsed": true
   },
   "outputs": [],
   "source": [
    "def get_data_home(df, htd, result_key):\n",
    "    x_df_home = df.loc[htd.index]\n",
    "    x_df_home = x_df_home[x_df_home.home_team==htd.columns[0]]\n",
    "    x_home = x_df_home[result_key].dropna().values\n",
    "    ix_home = x_df_home.index.values\n",
    "    y_home = htd.loc[ix_home].values.reshape(-1)\n",
    "    data = np.array(list(zip(ix_home, x_home, y_home)))\n",
    "    return data"
   ]
  },
  {
   "cell_type": "code",
   "execution_count": 20,
   "metadata": {
    "collapsed": true
   },
   "outputs": [],
   "source": [
    "def get_data_away(df,atd,result_key):\n",
    "    x_df_away = df.loc[atd.index]\n",
    "    x_df_away = x_df_away[x_df_away.away_team==atd.columns[0]]\n",
    "    x_away = x_df_away[result_key].dropna().values\n",
    "    ix_away = x_df_away.index.values\n",
    "    y_away = atd.loc[ix_away].values.reshape(-1)\n",
    "    data = np.array(list(zip(ix_away, x_away, y_away)))\n",
    "    return data"
   ]
  },
  {
   "cell_type": "code",
   "execution_count": 21,
   "metadata": {
    "collapsed": true
   },
   "outputs": [],
   "source": [
    "def get_data_home_versus_all(df, htd, result_key):\n",
    "    ix_Hall = htd.index.values\n",
    "    x_Hall = df.loc[htd.index][result_key].dropna().values\n",
    "    y_Hall = htd.values.reshape(-1)\n",
    "\n",
    "    data = np.array(list(zip(ix_Hall, x_Hall, y_Hall)))\n",
    "    return data"
   ]
  },
  {
   "cell_type": "code",
   "execution_count": 22,
   "metadata": {
    "collapsed": true
   },
   "outputs": [],
   "source": [
    "def get_data_away_versus_all(df, atd, result_key):\n",
    "    ix_Aall = atd.index.values\n",
    "    x_Aall = df.loc[atd.index][result_key].dropna().values\n",
    "    y_Aall = atd.values.reshape(-1)\n",
    "    data = np.array(list(zip(ix_Aall, x_Aall, y_Aall)))\n",
    "    return data"
   ]
  },
  {
   "cell_type": "code",
   "execution_count": 35,
   "metadata": {},
   "outputs": [
    {
     "name": "stderr",
     "output_type": "stream",
     "text": [
      " [Elapsed Time: 0:00:00] |#                                  | (Time: 0:00:00) \n"
     ]
    },
    {
     "name": "stdout",
     "output_type": "stream",
     "text": [
      "0\n",
      "1\n"
     ]
    }
   ],
   "source": [
    "last_scores =  []\n",
    "bar = progressbar.ProgressBar(widgets=[\n",
    "    ' [', progressbar.Timer(), '] ',\n",
    "    progressbar.Bar(),\n",
    "    ' (', progressbar.ETA(), ') ',\n",
    "])\n",
    "for p, pair in bar(enumerate(df_teams[:2])):\n",
    "    print(p)\n",
    "    champ, teams, teamh, teama, datah, dataa = get_team_data(p, pair)\n",
    "    ht, at, htd, atd, last_score_home, last_score_away = get_ratings(datah, dataa, teamh, teama)\n",
    "    last_scores.append([last_score_home, last_score_away])"
   ]
  },
  {
   "cell_type": "code",
   "execution_count": null,
   "metadata": {},
   "outputs": [],
   "source": []
  },
  {
   "cell_type": "code",
   "execution_count": 34,
   "metadata": {},
   "outputs": [
    {
     "data": {
      "text/html": [
       "<div>\n",
       "<style scoped>\n",
       "    .dataframe tbody tr th:only-of-type {\n",
       "        vertical-align: middle;\n",
       "    }\n",
       "\n",
       "    .dataframe tbody tr th {\n",
       "        vertical-align: top;\n",
       "    }\n",
       "\n",
       "    .dataframe thead th {\n",
       "        text-align: right;\n",
       "    }\n",
       "</style>\n",
       "<table border=\"1\" class=\"dataframe\">\n",
       "  <thead>\n",
       "    <tr style=\"text-align: right;\">\n",
       "      <th></th>\n",
       "      <th>hname</th>\n",
       "      <th>aname</th>\n",
       "      <th>hscore</th>\n",
       "      <th>ascore</th>\n",
       "    </tr>\n",
       "  </thead>\n",
       "  <tbody>\n",
       "    <tr>\n",
       "      <th>0</th>\n",
       "      <td>Cracovia Kraków</td>\n",
       "      <td>Mladost</td>\n",
       "      <td>280.001730</td>\n",
       "      <td>419.096870</td>\n",
       "    </tr>\n",
       "    <tr>\n",
       "      <th>1</th>\n",
       "      <td>Shakhtyor</td>\n",
       "      <td>Teplice</td>\n",
       "      <td>458.670218</td>\n",
       "      <td>455.960061</td>\n",
       "    </tr>\n",
       "    <tr>\n",
       "      <th>2</th>\n",
       "      <td>DAC</td>\n",
       "      <td>Željezničar</td>\n",
       "      <td>NaN</td>\n",
       "      <td>NaN</td>\n",
       "    </tr>\n",
       "    <tr>\n",
       "      <th>3</th>\n",
       "      <td>Zagłębie Lubin</td>\n",
       "      <td>Vardar</td>\n",
       "      <td>NaN</td>\n",
       "      <td>NaN</td>\n",
       "    </tr>\n",
       "    <tr>\n",
       "      <th>4</th>\n",
       "      <td>Slavia Praha</td>\n",
       "      <td>Guangzhou Evergrande</td>\n",
       "      <td>NaN</td>\n",
       "      <td>NaN</td>\n",
       "    </tr>\n",
       "  </tbody>\n",
       "</table>\n",
       "</div>"
      ],
      "text/plain": [
       "             hname                 aname      hscore      ascore\n",
       "0  Cracovia Kraków               Mladost  280.001730  419.096870\n",
       "1        Shakhtyor               Teplice  458.670218  455.960061\n",
       "2              DAC           Željezničar         NaN         NaN\n",
       "3   Zagłębie Lubin                Vardar         NaN         NaN\n",
       "4     Slavia Praha  Guangzhou Evergrande         NaN         NaN"
      ]
     },
     "execution_count": 34,
     "metadata": {},
     "output_type": "execute_result"
    }
   ],
   "source": [
    "teams_df = pd.DataFrame(df_teams, columns=['hname','aname'])\n",
    "ls = np.array(last_scores)\n",
    "last_scores_df = pd.DataFrame(ls,columns=['hscore','ascore'])\n",
    "\n",
    "last_scores_df_final = pd.concat([teams_df, last_scores_df], axis=1)\n",
    "last_scores_df_final.head()"
   ]
  },
  {
   "cell_type": "code",
   "execution_count": null,
   "metadata": {
    "collapsed": true
   },
   "outputs": [],
   "source": []
  },
  {
   "cell_type": "code",
   "execution_count": null,
   "metadata": {
    "collapsed": true
   },
   "outputs": [],
   "source": []
  },
  {
   "cell_type": "code",
   "execution_count": null,
   "metadata": {
    "collapsed": true
   },
   "outputs": [],
   "source": []
  },
  {
   "cell_type": "markdown",
   "metadata": {},
   "source": [
    "# generate dataset for classifier"
   ]
  },
  {
   "cell_type": "code",
   "execution_count": 11,
   "metadata": {},
   "outputs": [
    {
     "name": "stdout",
     "output_type": "stream",
     "text": [
      "['Cracovia Kraków' 'Mladost']\n",
      "0 53108\n",
      "1000 53108\n",
      "2000 53108\n",
      "3000 53108\n",
      "4000 53108\n",
      "5000 53108\n",
      "6000 53108\n",
      "7000 53108\n",
      "8000 53108\n",
      "9000 53108\n",
      "10000 53108\n",
      "11000 53108\n",
      "12000 53108\n",
      "13000 53108\n",
      "setting an array element with a sequence.\n",
      "14000 53108\n",
      "15000 53108\n",
      "16000 53108\n",
      "17000 53108\n",
      "18000 53108\n",
      "19000 53108\n",
      "20000 53108\n",
      "21000 53108\n",
      "22000 53108\n",
      "23000 53108\n",
      "24000 53108\n",
      "25000 53108\n",
      "26000 53108\n",
      "27000 53108\n",
      "28000 53108\n",
      "29000 53108\n",
      "30000 53108\n",
      "31000 53108\n",
      "32000 53108\n",
      "33000 53108\n",
      "34000 53108\n",
      "35000 53108\n",
      "36000 53108\n",
      "37000 53108\n",
      "38000 53108\n",
      "39000 53108\n",
      "40000 53108\n",
      "41000 53108\n",
      "42000 53108\n",
      "43000 53108\n",
      "44000 53108\n",
      "45000 53108\n",
      "46000 53108\n",
      "47000 53108\n",
      "48000 53108\n",
      "49000 53108\n",
      "50000 53108\n",
      "51000 53108\n",
      "52000 53108\n",
      "53000 53108\n",
      "['Shakhtyor' 'Teplice']\n",
      "0 63301\n",
      "1000 63301\n",
      "2000 63301\n",
      "3000 63301\n",
      "4000 63301\n",
      "5000 63301\n",
      "6000 63301\n",
      "7000 63301\n",
      "8000 63301\n",
      "9000 63301\n",
      "10000 63301\n",
      "11000 63301\n",
      "12000 63301\n",
      "13000 63301\n",
      "14000 63301\n",
      "15000 63301\n",
      "16000 63301\n",
      "17000 63301\n",
      "setting an array element with a sequence.\n",
      "18000 63301\n",
      "19000 63301\n",
      "20000 63301\n",
      "21000 63301\n",
      "22000 63301\n",
      "23000 63301\n",
      "24000 63301\n",
      "25000 63301\n",
      "26000 63301\n",
      "27000 63301\n",
      "28000 63301\n",
      "29000 63301\n",
      "30000 63301\n",
      "31000 63301\n",
      "32000 63301\n",
      "33000 63301\n",
      "34000 63301\n",
      "35000 63301\n",
      "36000 63301\n",
      "37000 63301\n",
      "38000 63301\n",
      "39000 63301\n",
      "40000 63301\n",
      "41000 63301\n",
      "42000 63301\n",
      "43000 63301\n",
      "44000 63301\n",
      "45000 63301\n",
      "46000 63301\n",
      "47000 63301\n",
      "48000 63301\n",
      "49000 63301\n",
      "50000 63301\n",
      "51000 63301\n",
      "52000 63301\n",
      "53000 63301\n",
      "54000 63301\n",
      "55000 63301\n",
      "56000 63301\n",
      "57000 63301\n",
      "58000 63301\n",
      "59000 63301\n",
      "60000 63301\n",
      "61000 63301\n",
      "62000 63301\n",
      "63000 63301\n"
     ]
    }
   ],
   "source": [
    "for p, pair in enumerate(df_teams[:2]):\n",
    "    print(pair)\n",
    "#     p = 0\n",
    "\n",
    "    h5f = h5py.File('./elo_temp/elo_pairs_'+str(p)+'.h5','r')\n",
    "\n",
    "    champ = list(h5f.keys())[0]\n",
    "\n",
    "    teams = list(h5f[champ].keys())\n",
    "\n",
    "    ixs = np.array([])\n",
    "    for team in teams[:]:    \n",
    "        ix = h5f[champ][team][:].T[:,0]\n",
    "        ixs = np.append(ixs, ix)\n",
    "    uni = np.unique(ixs).astype(int)\n",
    "\n",
    "    \n",
    "\n",
    "    da = df.loc[uni][['home_team','away_team','result_final','over_under_0.5','over_under_1.5','over_under_2.5','over_under_3.5','over_under_4.5']]\n",
    "\n",
    "\n",
    "    elos =np.zeros((da.shape[0],2))\n",
    "    for i, (ix, row) in enumerate(da.iloc[:].iterrows()):\n",
    "        if i%1000==0:\n",
    "            print(i,da.shape[0])\n",
    "        try:\n",
    "            hdhome = h5f[champ][row.home_team][:].T\n",
    "            hdaway = h5f[champ][row.away_team][:].T\n",
    "            elohome = hdhome[np.where(hdhome==ix)[1],1]\n",
    "            eloaway = hdaway[np.where(hdaway==ix)[1],1]\n",
    "            elos[i,0] = elohome\n",
    "            elos[i,1] = eloaway\n",
    "        except Exception as e:\n",
    "            print(e)\n",
    "\n",
    "    elos_df = pd.DataFrame(elos, columns=['EH','EA'], index=da.index)\n",
    "\n",
    "    final = pd.concat([da,elos_df],axis=1)\n",
    "#     final = final.dropna()\n",
    "\n",
    "    final.to_csv('./elo_goals_data_for_classifier/data_'+str(p)+'.csv')\n",
    "    h5f.close()"
   ]
  },
  {
   "cell_type": "code",
   "execution_count": 22,
   "metadata": {},
   "outputs": [
    {
     "data": {
      "text/html": [
       "<div>\n",
       "<style scoped>\n",
       "    .dataframe tbody tr th:only-of-type {\n",
       "        vertical-align: middle;\n",
       "    }\n",
       "\n",
       "    .dataframe tbody tr th {\n",
       "        vertical-align: top;\n",
       "    }\n",
       "\n",
       "    .dataframe thead th {\n",
       "        text-align: right;\n",
       "    }\n",
       "</style>\n",
       "<table border=\"1\" class=\"dataframe\">\n",
       "  <thead>\n",
       "    <tr style=\"text-align: right;\">\n",
       "      <th></th>\n",
       "      <th>home_team</th>\n",
       "      <th>away_team</th>\n",
       "      <th>result_final</th>\n",
       "      <th>over_under_0.5</th>\n",
       "      <th>over_under_1.5</th>\n",
       "      <th>over_under_2.5</th>\n",
       "      <th>over_under_3.5</th>\n",
       "      <th>over_under_4.5</th>\n",
       "      <th>EH</th>\n",
       "      <th>EA</th>\n",
       "    </tr>\n",
       "  </thead>\n",
       "  <tbody>\n",
       "    <tr>\n",
       "      <th>2133</th>\n",
       "      <td>Imortal Albufeira</td>\n",
       "      <td>BeiraMar</td>\n",
       "      <td>1.0</td>\n",
       "      <td>0.0</td>\n",
       "      <td>0.0</td>\n",
       "      <td>0.0</td>\n",
       "      <td>0.0</td>\n",
       "      <td>1.0</td>\n",
       "      <td>100.000000</td>\n",
       "      <td>100.000000</td>\n",
       "    </tr>\n",
       "    <tr>\n",
       "      <th>2134</th>\n",
       "      <td>Esposende</td>\n",
       "      <td>Espinho</td>\n",
       "      <td>1.0</td>\n",
       "      <td>0.0</td>\n",
       "      <td>0.0</td>\n",
       "      <td>0.0</td>\n",
       "      <td>0.0</td>\n",
       "      <td>1.0</td>\n",
       "      <td>100.000000</td>\n",
       "      <td>100.000000</td>\n",
       "    </tr>\n",
       "    <tr>\n",
       "      <th>2135</th>\n",
       "      <td>União Lamas</td>\n",
       "      <td>Sporting Covilhã</td>\n",
       "      <td>1.0</td>\n",
       "      <td>1.0</td>\n",
       "      <td>1.0</td>\n",
       "      <td>1.0</td>\n",
       "      <td>1.0</td>\n",
       "      <td>1.0</td>\n",
       "      <td>100.000000</td>\n",
       "      <td>100.000000</td>\n",
       "    </tr>\n",
       "    <tr>\n",
       "      <th>2137</th>\n",
       "      <td>Chaves</td>\n",
       "      <td>Felgueiras</td>\n",
       "      <td>2.0</td>\n",
       "      <td>0.0</td>\n",
       "      <td>0.0</td>\n",
       "      <td>1.0</td>\n",
       "      <td>1.0</td>\n",
       "      <td>1.0</td>\n",
       "      <td>90.143872</td>\n",
       "      <td>109.856128</td>\n",
       "    </tr>\n",
       "    <tr>\n",
       "      <th>2163</th>\n",
       "      <td>Naval 1º de Maio</td>\n",
       "      <td>Leça</td>\n",
       "      <td>0.0</td>\n",
       "      <td>0.0</td>\n",
       "      <td>1.0</td>\n",
       "      <td>1.0</td>\n",
       "      <td>1.0</td>\n",
       "      <td>1.0</td>\n",
       "      <td>105.000000</td>\n",
       "      <td>95.000000</td>\n",
       "    </tr>\n",
       "  </tbody>\n",
       "</table>\n",
       "</div>"
      ],
      "text/plain": [
       "              home_team         away_team  result_final  over_under_0.5  \\\n",
       "2133  Imortal Albufeira          BeiraMar           1.0             0.0   \n",
       "2134          Esposende           Espinho           1.0             0.0   \n",
       "2135        União Lamas  Sporting Covilhã           1.0             1.0   \n",
       "2137             Chaves        Felgueiras           2.0             0.0   \n",
       "2163   Naval 1º de Maio              Leça           0.0             0.0   \n",
       "\n",
       "      over_under_1.5  over_under_2.5  over_under_3.5  over_under_4.5  \\\n",
       "2133             0.0             0.0             0.0             1.0   \n",
       "2134             0.0             0.0             0.0             1.0   \n",
       "2135             1.0             1.0             1.0             1.0   \n",
       "2137             0.0             1.0             1.0             1.0   \n",
       "2163             1.0             1.0             1.0             1.0   \n",
       "\n",
       "              EH          EA  \n",
       "2133  100.000000  100.000000  \n",
       "2134  100.000000  100.000000  \n",
       "2135  100.000000  100.000000  \n",
       "2137   90.143872  109.856128  \n",
       "2163  105.000000   95.000000  "
      ]
     },
     "execution_count": 22,
     "metadata": {},
     "output_type": "execute_result"
    }
   ],
   "source": [
    "final.head()"
   ]
  },
  {
   "cell_type": "code",
   "execution_count": 232,
   "metadata": {
    "collapsed": true
   },
   "outputs": [],
   "source": [
    "final = pd.read_csv('./data_'+str(p)+'.csv', index_col='Unnamed: 0')"
   ]
  },
  {
   "cell_type": "code",
   "execution_count": 233,
   "metadata": {},
   "outputs": [
    {
     "data": {
      "text/html": [
       "<div>\n",
       "<style scoped>\n",
       "    .dataframe tbody tr th:only-of-type {\n",
       "        vertical-align: middle;\n",
       "    }\n",
       "\n",
       "    .dataframe tbody tr th {\n",
       "        vertical-align: top;\n",
       "    }\n",
       "\n",
       "    .dataframe thead th {\n",
       "        text-align: right;\n",
       "    }\n",
       "</style>\n",
       "<table border=\"1\" class=\"dataframe\">\n",
       "  <thead>\n",
       "    <tr style=\"text-align: right;\">\n",
       "      <th></th>\n",
       "      <th>home_team</th>\n",
       "      <th>away_team</th>\n",
       "      <th>result_final</th>\n",
       "      <th>over_under_0.5</th>\n",
       "      <th>over_under_1.5</th>\n",
       "      <th>over_under_2.5</th>\n",
       "      <th>over_under_3.5</th>\n",
       "      <th>over_under_4.5</th>\n",
       "      <th>EH</th>\n",
       "      <th>EA</th>\n",
       "    </tr>\n",
       "  </thead>\n",
       "  <tbody>\n",
       "    <tr>\n",
       "      <th>1433</th>\n",
       "      <td>Swansea City</td>\n",
       "      <td>Chester City</td>\n",
       "      <td>0.0</td>\n",
       "      <td>0.0</td>\n",
       "      <td>0.0</td>\n",
       "      <td>0.0</td>\n",
       "      <td>1.0</td>\n",
       "      <td>1.0</td>\n",
       "      <td>105.000000</td>\n",
       "      <td>95.000000</td>\n",
       "    </tr>\n",
       "    <tr>\n",
       "      <th>1461</th>\n",
       "      <td>Bohemians 1905</td>\n",
       "      <td>Sigma Olomouc</td>\n",
       "      <td>2.0</td>\n",
       "      <td>0.0</td>\n",
       "      <td>0.0</td>\n",
       "      <td>0.0</td>\n",
       "      <td>0.0</td>\n",
       "      <td>1.0</td>\n",
       "      <td>90.143872</td>\n",
       "      <td>109.856128</td>\n",
       "    </tr>\n",
       "    <tr>\n",
       "      <th>1510</th>\n",
       "      <td>Hradec Králové</td>\n",
       "      <td>Chmel Blšany</td>\n",
       "      <td>1.0</td>\n",
       "      <td>0.0</td>\n",
       "      <td>0.0</td>\n",
       "      <td>1.0</td>\n",
       "      <td>1.0</td>\n",
       "      <td>1.0</td>\n",
       "      <td>100.000000</td>\n",
       "      <td>100.000000</td>\n",
       "    </tr>\n",
       "    <tr>\n",
       "      <th>1539</th>\n",
       "      <td>Sparta Praha</td>\n",
       "      <td>Opava</td>\n",
       "      <td>0.0</td>\n",
       "      <td>0.0</td>\n",
       "      <td>0.0</td>\n",
       "      <td>0.0</td>\n",
       "      <td>0.0</td>\n",
       "      <td>1.0</td>\n",
       "      <td>119.154294</td>\n",
       "      <td>80.845706</td>\n",
       "    </tr>\n",
       "    <tr>\n",
       "      <th>1541</th>\n",
       "      <td>České Budějovice</td>\n",
       "      <td>Viktoria Žižkov</td>\n",
       "      <td>0.0</td>\n",
       "      <td>0.0</td>\n",
       "      <td>1.0</td>\n",
       "      <td>1.0</td>\n",
       "      <td>1.0</td>\n",
       "      <td>1.0</td>\n",
       "      <td>105.000000</td>\n",
       "      <td>95.000000</td>\n",
       "    </tr>\n",
       "  </tbody>\n",
       "</table>\n",
       "</div>"
      ],
      "text/plain": [
       "             home_team        away_team  result_final  over_under_0.5  \\\n",
       "1433      Swansea City     Chester City           0.0             0.0   \n",
       "1461    Bohemians 1905    Sigma Olomouc           2.0             0.0   \n",
       "1510    Hradec Králové     Chmel Blšany           1.0             0.0   \n",
       "1539      Sparta Praha            Opava           0.0             0.0   \n",
       "1541  České Budějovice  Viktoria Žižkov           0.0             0.0   \n",
       "\n",
       "      over_under_1.5  over_under_2.5  over_under_3.5  over_under_4.5  \\\n",
       "1433             0.0             0.0             1.0             1.0   \n",
       "1461             0.0             0.0             0.0             1.0   \n",
       "1510             0.0             1.0             1.0             1.0   \n",
       "1539             0.0             0.0             0.0             1.0   \n",
       "1541             1.0             1.0             1.0             1.0   \n",
       "\n",
       "              EH          EA  \n",
       "1433  105.000000   95.000000  \n",
       "1461   90.143872  109.856128  \n",
       "1510  100.000000  100.000000  \n",
       "1539  119.154294   80.845706  \n",
       "1541  105.000000   95.000000  "
      ]
     },
     "execution_count": 233,
     "metadata": {},
     "output_type": "execute_result"
    }
   ],
   "source": [
    "data = final.iloc[:]\n",
    "data.head(5)"
   ]
  },
  {
   "cell_type": "code",
   "execution_count": 234,
   "metadata": {
    "collapsed": true
   },
   "outputs": [],
   "source": [
    "ht = final.home_team.values\n",
    "at = final.away_team.values\n",
    "all_teams = np.append(ht,at)\n",
    "un = np.unique(all_teams)"
   ]
  },
  {
   "cell_type": "code",
   "execution_count": 235,
   "metadata": {},
   "outputs": [
    {
     "data": {
      "text/plain": [
       "LabelEncoder()"
      ]
     },
     "execution_count": 235,
     "metadata": {},
     "output_type": "execute_result"
    }
   ],
   "source": [
    "le = preprocessing.LabelEncoder()\n",
    "le.fit(un)"
   ]
  },
  {
   "cell_type": "code",
   "execution_count": 236,
   "metadata": {
    "collapsed": true
   },
   "outputs": [],
   "source": [
    "# transformed_observed_data_elo_ratings = le.transform(ys)"
   ]
  },
  {
   "cell_type": "code",
   "execution_count": 237,
   "metadata": {},
   "outputs": [
    {
     "data": {
      "text/plain": [
       "Index(['home_team', 'away_team', 'result_final', 'over_under_0.5',\n",
       "       'over_under_1.5', 'over_under_2.5', 'over_under_3.5', 'over_under_4.5',\n",
       "       'EH', 'EA'],\n",
       "      dtype='object')"
      ]
     },
     "execution_count": 237,
     "metadata": {},
     "output_type": "execute_result"
    }
   ],
   "source": [
    "final.columns"
   ]
  },
  {
   "cell_type": "code",
   "execution_count": 238,
   "metadata": {
    "collapsed": true
   },
   "outputs": [],
   "source": [
    "final.loc[:,'home_team'] = le.transform(final.home_team.values)\n",
    "final.loc[:,'away_team'] =  le.transform(final.away_team.values)"
   ]
  },
  {
   "cell_type": "code",
   "execution_count": null,
   "metadata": {
    "collapsed": true
   },
   "outputs": [],
   "source": []
  },
  {
   "cell_type": "code",
   "execution_count": null,
   "metadata": {
    "collapsed": true
   },
   "outputs": [],
   "source": []
  },
  {
   "cell_type": "raw",
   "metadata": {},
   "source": []
  },
  {
   "cell_type": "code",
   "execution_count": null,
   "metadata": {
    "collapsed": true
   },
   "outputs": [],
   "source": []
  },
  {
   "cell_type": "code",
   "execution_count": 134,
   "metadata": {
    "collapsed": true
   },
   "outputs": [],
   "source": [
    "X = final.iloc[:10000][['home_team','away_team','EH','EA']].values\n",
    "y = final.iloc[:10000]['over_under_2.5'].values\n",
    "X_train, X_test, y_train, y_test = train_test_split(X,y, train_size=0.75, test_size=0.25, random_state=42)"
   ]
  },
  {
   "cell_type": "raw",
   "metadata": {},
   "source": [
    "tpot = TPOTClassifier(generations=5, population_size=13, verbosity=2)"
   ]
  },
  {
   "cell_type": "raw",
   "metadata": {},
   "source": [
    "tpot.fit(X_train, y_train)"
   ]
  },
  {
   "cell_type": "raw",
   "metadata": {},
   "source": [
    "print(tpot.score(X_test, y_test))"
   ]
  },
  {
   "cell_type": "code",
   "execution_count": null,
   "metadata": {
    "collapsed": true
   },
   "outputs": [],
   "source": []
  },
  {
   "cell_type": "code",
   "execution_count": null,
   "metadata": {
    "collapsed": true
   },
   "outputs": [],
   "source": []
  },
  {
   "cell_type": "code",
   "execution_count": 62,
   "metadata": {
    "collapsed": true
   },
   "outputs": [],
   "source": []
  },
  {
   "cell_type": "code",
   "execution_count": null,
   "metadata": {
    "collapsed": true
   },
   "outputs": [],
   "source": []
  },
  {
   "cell_type": "code",
   "execution_count": null,
   "metadata": {
    "collapsed": true
   },
   "outputs": [],
   "source": []
  },
  {
   "cell_type": "code",
   "execution_count": null,
   "metadata": {
    "collapsed": true
   },
   "outputs": [],
   "source": []
  },
  {
   "cell_type": "code",
   "execution_count": null,
   "metadata": {
    "collapsed": true
   },
   "outputs": [],
   "source": []
  },
  {
   "cell_type": "code",
   "execution_count": null,
   "metadata": {
    "collapsed": true
   },
   "outputs": [],
   "source": []
  },
  {
   "cell_type": "raw",
   "metadata": {
    "collapsed": true
   },
   "source": [
    "tpot.export('tpot_mnist_pipeline.py')"
   ]
  },
  {
   "cell_type": "raw",
   "metadata": {},
   "source": [
    "# %load tpot_mnist_pipeline.py\n",
    "import numpy as np\n",
    "import pandas as pd\n",
    "from sklearn.ensemble import GradientBoostingClassifier\n",
    "from sklearn.feature_selection import VarianceThreshold\n",
    "from sklearn.kernel_approximation import RBFSampler\n",
    "from sklearn.model_selection import train_test_split\n",
    "from sklearn.pipeline import make_pipeline, make_union\n",
    "from tpot.builtins import StackingEstimator\n",
    "from xgboost import XGBClassifier\n",
    "\n",
    "# NOTE: Make sure that the class is labeled 'target' in the data file\n",
    "tpot_data = pd.read_csv('PATH/TO/DATA/FILE', sep='COLUMN_SEPARATOR', dtype=np.float64)\n",
    "features = tpot_data.drop('target', axis=1).values\n",
    "training_features, testing_features, training_target, testing_target = \\\n",
    "            train_test_split(features, tpot_data['target'].values, random_state=42)\n",
    "\n",
    "# Score on the training set was:0.623731933095674\n",
    "exported_pipeline = make_pipeline(\n",
    "    VarianceThreshold(threshold=0.9000000000000001),\n",
    "    StackingEstimator(estimator=GradientBoostingClassifier(learning_rate=0.1, max_depth=8, max_features=0.05, min_samples_leaf=4, min_samples_split=15, n_estimators=100, subsample=0.8500000000000001)),\n",
    "    RBFSampler(gamma=0.1),\n",
    "    XGBClassifier(learning_rate=0.01, max_depth=6, min_child_weight=13, n_estimators=100, nthread=1, subsample=0.05)\n",
    ")\n",
    "\n",
    "exported_pipeline.fit(training_features, training_target)\n",
    "results = exported_pipeline.predict(testing_features)\n"
   ]
  },
  {
   "cell_type": "code",
   "execution_count": 243,
   "metadata": {
    "collapsed": true
   },
   "outputs": [],
   "source": [
    "X = final.iloc[:][['home_team','away_team','EH','EA']].values\n",
    "y = final.iloc[:]['over_under_2.5'].values\n",
    "X_train, X_test, y_train, y_test = train_test_split(X,y, train_size=0.75, test_size=0.25, random_state=42)"
   ]
  },
  {
   "cell_type": "code",
   "execution_count": null,
   "metadata": {
    "collapsed": true
   },
   "outputs": [],
   "source": []
  },
  {
   "cell_type": "code",
   "execution_count": 244,
   "metadata": {
    "collapsed": true
   },
   "outputs": [],
   "source": [
    "gbm = xgb.XGBClassifier(max_depth=3, n_estimators=300, learning_rate=0.1)"
   ]
  },
  {
   "cell_type": "code",
   "execution_count": 245,
   "metadata": {},
   "outputs": [
    {
     "name": "stderr",
     "output_type": "stream",
     "text": [
      "/home/kasper/PycharmProjects/venv/lib/python3.5/site-packages/sklearn/preprocessing/label.py:151: DeprecationWarning: The truth value of an empty array is ambiguous. Returning False, but in future this will result in an error. Use `array.size > 0` to check that an array is not empty.\n",
      "  if diff:\n"
     ]
    }
   ],
   "source": [
    "gbm.fit(X_train, y_train)\n",
    "predictions = gbm.predict(X_test)"
   ]
  },
  {
   "cell_type": "code",
   "execution_count": null,
   "metadata": {
    "collapsed": true
   },
   "outputs": [],
   "source": []
  },
  {
   "cell_type": "code",
   "execution_count": 246,
   "metadata": {},
   "outputs": [
    {
     "name": "stdout",
     "output_type": "stream",
     "text": [
      "('             precision    recall  f1-score   support\\n'\n",
      " '\\n'\n",
      " '        0.0       0.93      0.60      0.73     13643\\n'\n",
      " '        1.0       0.11      0.53      0.18      1289\\n'\n",
      " '\\n'\n",
      " 'avg / total       0.86      0.59      0.68     14932\\n')\n"
     ]
    }
   ],
   "source": [
    "pprint.pprint(metrics.classification_report(predictions, y_test))"
   ]
  },
  {
   "cell_type": "code",
   "execution_count": 247,
   "metadata": {
    "collapsed": true
   },
   "outputs": [],
   "source": [
    "ac = metrics.accuracy_score(predictions, y_test)"
   ]
  },
  {
   "cell_type": "code",
   "execution_count": 248,
   "metadata": {},
   "outputs": [
    {
     "name": "stdout",
     "output_type": "stream",
     "text": [
      "0.589941066166622\n"
     ]
    }
   ],
   "source": [
    "print(ac)"
   ]
  },
  {
   "cell_type": "code",
   "execution_count": 220,
   "metadata": {},
   "outputs": [
    {
     "data": {
      "text/plain": [
       "array([[ 213,  115],\n",
       "       [2556, 7708]])"
      ]
     },
     "execution_count": 220,
     "metadata": {},
     "output_type": "execute_result"
    }
   ],
   "source": [
    "metrics.confusion_matrix(predictions, y_test)"
   ]
  },
  {
   "cell_type": "code",
   "execution_count": 221,
   "metadata": {},
   "outputs": [
    {
     "data": {
      "image/png": "[encoded data removed]",
      "text/plain": [
       "<matplotlib.figure.Figure at 0x7f61c7d0a198>"
      ]
     },
     "metadata": {},
     "output_type": "display_data"
    }
   ],
   "source": [
    "\n",
    "conf_arr = metrics.confusion_matrix(predictions, y_test)\n",
    "\n",
    "norm_conf = []\n",
    "for i in conf_arr:\n",
    "    a = 0\n",
    "    tmp_arr = []\n",
    "    a = sum(i, 0)\n",
    "    for j in i:\n",
    "        tmp_arr.append(float(j)/float(a))\n",
    "    norm_conf.append(tmp_arr)\n",
    "\n",
    "fig = plt.figure()\n",
    "plt.clf()\n",
    "ax = fig.add_subplot(111)\n",
    "ax.set_aspect(1)\n",
    "res = ax.imshow(np.array(norm_conf), cmap=plt.cm.jet, \n",
    "                interpolation='nearest')\n",
    "\n",
    "width, height = conf_arr.shape\n",
    "\n",
    "for x in range(width):\n",
    "    for y in range(height):\n",
    "        ax.annotate(str(conf_arr[x][y]), xy=(y, x), \n",
    "                    horizontalalignment='center',\n",
    "                    verticalalignment='center')\n",
    "\n",
    "cb = fig.colorbar(res)\n",
    "alphabet1 = ['Predicted-O','Predicted-U']\n",
    "alphabet2 = ['Actual-O','Actual-U']\n",
    "plt.xticks(range(width), alphabet2[:width])\n",
    "plt.yticks(range(height), alphabet1[:height])\n",
    "plt.savefig('confusion_matrix.png', format='png')"
   ]
  },
  {
   "cell_type": "code",
   "execution_count": null,
   "metadata": {
    "collapsed": true
   },
   "outputs": [],
   "source": []
  },
  {
   "cell_type": "code",
   "execution_count": null,
   "metadata": {
    "collapsed": true
   },
   "outputs": [],
   "source": []
  },
  {
   "cell_type": "raw",
   "metadata": {},
   "source": [
    "from tpot import TPOTClassifier\n",
    "from sklearn.datasets import load_digits\n",
    "from sklearn.model_selection import train_test_split\n",
    "\n",
    "digits = load_digits()\n",
    "X_train, X_test, y_train, y_test = train_test_split(digits.data, digits.target,\n",
    "                                                    train_size=0.75, test_size=0.25)\n",
    "\n",
    "digits.data\n",
    "\n",
    "digits.target\n",
    "\n",
    "tpot = TPOTClassifier(generations=5, population_size=20, verbosity=2)\n",
    "tpot.fit(X_train, y_train)\n",
    "\n",
    "\n",
    "\n",
    "elohome\n",
    "\n",
    "ar_data[0].astype(int)\n",
    "\n",
    "dfs[1]\n",
    "\n",
    "ar_data = h5f[champ][team][:].T[r]\n",
    "\n",
    "ar_data\n",
    "\n",
    "tot = pd.concat(dfs, axis=0, ignore_index=False)\n",
    "\n",
    "tot\n",
    "\n",
    "h5f.close()\n",
    "\n",
    "len(outcomes)\n",
    "\n",
    "ypred\n",
    "metrics.recall_score(y_pred=ypred, y_true=ytrue, pos_label=0)\n",
    "\n",
    "ypred\n",
    "\n",
    "ytrue\n",
    "transformed_observed_data_elo_ratings.shape\n",
    "\n",
    "bob_says = transformed_observed_data_elo_ratings.reshape(-1,1)[-470:]\n",
    "model = model.fit(bob_says)\n",
    "transformed_observed_data_elo_ratings.reshape(-1, 1)[-10:]\n",
    "\n",
    "bob_says\n",
    "\n",
    "h5f.close()\n",
    "\n",
    "print(\"Bob said:\", \", \".join(map(lambda x: observations[int(x)], bob_says)))\n",
    "print(\"Alice Believes:\", \", \".join(map(lambda x: states[x], alice_hears)))\n",
    "h5f.close()\n",
    "pxx = transition_matrix_pxx(data=df.loc[htd.index]['result_final'].dropna().to_frame(),result='result_final',n_states=3)\n",
    "\n",
    "pyx = emission_probabilities_pyx(x_df=df.loc[htd.index]['result_final'].dropna().to_frame(),x_label='result_final',hidden_states=3,y_df=htd)\n",
    "\n",
    "px = df.loc[htd.index]['result_final'].value_counts(normalize=True).sort_index()\n",
    "\n",
    "px\n",
    "\n",
    "pxx\n",
    "\n",
    "\n",
    "df.loc[htd.index]['result_final'].dropna().to_frame()\n",
    "\n",
    "a = df[((df.home_team==teamh) & (df.away_team==teama)) | ((df.home_team==teama)&(df.away_team==teamh))]\n",
    "\n",
    "a\n",
    "\n",
    "l = pd.concat([ht,at],axis=1)\n",
    "\n",
    "l.plot()\n",
    "# l.loc[a.index].plot()\n",
    "\n",
    "pd.concat([htd,atd],axis=1).plot()\n",
    "\n",
    "pd.concat([ht,at],axis=1).plot()\n",
    "\n",
    "ht.plot()\n",
    "at.plot()\n",
    "\n",
    "# df.loc[995088]\n",
    "\n",
    "# df[((df.home_team==teams[i]) | (df.away_team==teams[i])) & (df.championship==champ)]\n",
    "\n",
    "# df.loc[2054071]\n",
    "\n",
    "import itertools\n",
    "import math\n",
    "import trueskill\n",
    "def win_probability(team1, team2):\n",
    "    delta_mu = sum(r.mu for r in team1) - sum(r.mu for r in team2)\n",
    "    sum_sigma = sum(r.sigma ** 2 for r in itertools.chain(team1, team2))\n",
    "    size = len(team1) + len(team2)\n",
    "    denom = math.sqrt(size * (BETA * BETA) + sum_sigma)\n",
    "    ts = trueskill.global_env()\n",
    "    return ts.cdf(delta_mu / denom)\n",
    "\n",
    "BETA = ts.BETA\n",
    "def win_probability(a, b):                                                      \n",
    "    deltaMu = sum([x.mu for x in a]) - sum([x.mu for x in b])                   \n",
    "    sumSigma = sum([x.sigma ** 2 for x in a]) + sum([x.sigma ** 2 for x in b])  \n",
    "    playerCount = len(a) + len(b)                                               \n",
    "    denominator = math.sqrt(playerCount * (BETA * BETA) + sumSigma)             \n",
    "    return cdf(deltaMu / denominator)  \n",
    "\n",
    "teams = np.arange(100)\n",
    "ratings = [Rating() for i in range(100)]\n",
    "for i in range(100):\n",
    "    choice = np.random.choice(teams,size=2,replace=True)\n",
    "    a = ratings[choice[0]]\n",
    "    b = ratings[choice[1]]\n",
    "    q = quality_1vs1(a, b)\n",
    "    wp = win_probability([a],[b])\n",
    "    print(wp)\n",
    "    a, b = ts.rate_1vs1(a, b, drawn=False)\n",
    "    \n",
    "    ratings[choice[0]] = a\n",
    "    ratings[choice[1]] = b\n",
    "\n",
    "mus = [r.mu for r in ratings]\n",
    "sigma = [r.sigma for r in ratings]"
   ]
  },
  {
   "cell_type": "markdown",
   "metadata": {
    "collapsed": true
   },
   "source": [
    "### sources"
   ]
  },
  {
   "cell_type": "code",
   "execution_count": 112,
   "metadata": {
    "collapsed": true
   },
   "outputs": [],
   "source": [
    "#https://stackoverflow.com/questions/5821125/how-to-plot-confusion-matrix-with-string-axis-rather-than-integer-in-python"
   ]
  },
  {
   "cell_type": "code",
   "execution_count": 80,
   "metadata": {
    "collapsed": true
   },
   "outputs": [],
   "source": [
    "# https://stackoverflow.com/questions/5375624/a-decorator-that-profiles-a-method-call-and-logs-the-profiling-result"
   ]
  },
  {
   "cell_type": "raw",
   "metadata": {
    "collapsed": true
   },
   "source": [
    "def profileit(prof_fname, sort_field='cumtime'):\n",
    "    \"\"\"\n",
    "    Parameters\n",
    "    ----------\n",
    "    prof_fname\n",
    "        profile output file name\n",
    "    sort_field\n",
    "        \"calls\"     : (((1,-1),              ), \"call count\"),\n",
    "        \"ncalls\"    : (((1,-1),              ), \"call count\"),\n",
    "        \"cumtime\"   : (((3,-1),              ), \"cumulative time\"),\n",
    "        \"cumulative\": (((3,-1),              ), \"cumulative time\"),\n",
    "        \"file\"      : (((4, 1),              ), \"file name\"),\n",
    "        \"filename\"  : (((4, 1),              ), \"file name\"),\n",
    "        \"line\"      : (((5, 1),              ), \"line number\"),\n",
    "        \"module\"    : (((4, 1),              ), \"file name\"),\n",
    "        \"name\"      : (((6, 1),              ), \"function name\"),\n",
    "        \"nfl\"       : (((6, 1),(4, 1),(5, 1),), \"name/file/line\"),\n",
    "        \"pcalls\"    : (((0,-1),              ), \"primitive call count\"),\n",
    "        \"stdname\"   : (((7, 1),              ), \"standard name\"),\n",
    "        \"time\"      : (((2,-1),              ), \"internal time\"),\n",
    "        \"tottime\"   : (((2,-1),              ), \"internal time\"),\n",
    "    Returns\n",
    "    -------\n",
    "    None\n",
    "\n",
    "    \"\"\"\n",
    "    def actual_profileit(func):\n",
    "        def wrapper(*args, **kwargs):\n",
    "            prof = cProfile.Profile()\n",
    "            retval = prof.runcall(func, *args, **kwargs)\n",
    "            stat_fname = '{}.stat'.format(prof_fname)\n",
    "            prof.dump_stats(prof_fname)\n",
    "            print_profiler(prof_fname, stat_fname, sort_field)\n",
    "            print('dump stat in {}'.format(stat_fname))\n",
    "            return retval\n",
    "        return wrapper\n",
    "    return actual_profileit\n",
    "\n",
    "\n",
    "def print_profiler(profile_input_fname, profile_output_fname, sort_field='cumtime'):\n",
    "    import pstats\n",
    "    with open(profile_output_fname, 'w') as f:\n",
    "        stats = pstats.Stats(profile_input_fname, stream=f)\n",
    "        stats.sort_stats(sort_field)\n",
    "        stats.print_stats()\n",
    "\n",
    "        import cProfile\n",
    "import functools\n",
    "\n",
    "def profileit(func):\n",
    "    @functools.wraps(func)  # <-- Changes here.\n",
    "    def wrapper(*args, **kwargs):\n",
    "        datafn = func.__name__ + \".profile\" # Name the data file sensibly\n",
    "        prof = cProfile.Profile()\n",
    "        retval = prof.runcall(func, *args, **kwargs)\n",
    "        prof.dump_stats(datafn)\n",
    "        print(prof.__str__)\n",
    "        return retval\n",
    "\n",
    "    return wrapper\n",
    "\n",
    "@profilei"
   ]
  },
  {
   "cell_type": "code",
   "execution_count": null,
   "metadata": {
    "collapsed": true
   },
   "outputs": [],
   "source": [
    "\n",
    "\n",
    "test()\n",
    "\n",
    "en1 = cluster[0]\n",
    "\n",
    "async_results = []\n",
    "\n",
    "a = view.apply_async(get_ratings,datah, dataa, teamh, teama)\n",
    "\n",
    "\n",
    "async_results.append(a)\n",
    "# cluster.wait(async_results)\n",
    "cluster.wait_interactive(async_results) \n",
    "\n",
    "async_results[0].error\n",
    "\n",
    "# %%timeit\n",
    "\n",
    "for p, pair in enumerate(df_teams[:10]):\n",
    "    something_1(p,pair)\n",
    "\n",
    "\n",
    "\n",
    "\n",
    "\n",
    "# %time\n",
    "async_results = []\n",
    "for p, pair in enumerate(df_teams[:10]):\n",
    "    print(pair)\n",
    "    ar = view.apply_async(something_1, p, pair)\n",
    "    async_results.append(ar)\n",
    "# cluster.wait(async_results)\n",
    "cluster.wait_interactive(async_results) \n",
    "\n",
    "r = async_results[0]\n",
    "\n",
    "r.done()\n",
    "\n",
    "r.error"
   ]
  }
 ],
 "metadata": {
  "kernelspec": {
   "display_name": "Python 3",
   "language": "python",
   "name": "python3"
  },
  "language_info": {
   "codemirror_mode": {
    "name": "ipython",
    "version": 3
   },
   "file_extension": ".py",
   "mimetype": "text/x-python",
   "name": "python",
   "nbconvert_exporter": "python",
   "pygments_lexer": "ipython3",
   "version": "3.5.2"
  }
 },
 "nbformat": 4,
 "nbformat_minor": 2
}
