{
 "cells": [
  {
   "cell_type": "code",
   "execution_count": 1,
   "metadata": {
    "collapsed": true
   },
   "outputs": [],
   "source": [
    "import os\n",
    "import math\n",
    "import trueskill as ts\n",
    "from trueskill import Rating, quality_1vs1, rate_1vs1"
   ]
  },
  {
   "cell_type": "code",
   "execution_count": 2,
   "metadata": {
    "collapsed": true
   },
   "outputs": [],
   "source": [
    "BETA = ts.BETA\n",
    "cdf = ts.TrueSkill().cdf"
   ]
  },
  {
   "cell_type": "code",
   "execution_count": 3,
   "metadata": {
    "collapsed": true
   },
   "outputs": [],
   "source": [
    "def draw_prob(muH,sigmaH,muA,sigmaA):\n",
    "    try:\n",
    "        hrate = Rating(muH,sigmaH)\n",
    "        arate = Rating(muA,sigmaA)\n",
    "        prob = quality_1vs1(hrate,arate)\n",
    "        return prob\n",
    "    except:\n",
    "        return np.nan"
   ]
  },
  {
   "cell_type": "code",
   "execution_count": 4,
   "metadata": {
    "collapsed": true
   },
   "outputs": [],
   "source": [
    "def win_probability(muH,sigmaH,muA,sigmaA):\n",
    "    try:\n",
    "        a = [Rating(muH,sigmaH)]\n",
    "        b = [Rating(muA,sigmaA)]  \n",
    "        deltaMu = sum([x.mu for x in a]) - sum([x.mu for x in b])                  \n",
    "        sumSigma = sum([x.sigma ** 2 for x in a]) + sum([x.sigma ** 2 for x in b])  \n",
    "        playerCount = len(a) + len(b)                                               \n",
    "        denominator = math.sqrt(playerCount * (BETA * BETA) + sumSigma)             \n",
    "        return cdf(deltaMu / denominator)  \n",
    "    except Exception as e:\n",
    "        print(e)\n",
    "        return np.nan"
   ]
  },
  {
   "cell_type": "code",
   "execution_count": 5,
   "metadata": {
    "collapsed": true
   },
   "outputs": [],
   "source": [
    "files = os.listdir('./trueskill_data_for_classifier/')\n",
    "files.sort()"
   ]
  },
  {
   "cell_type": "code",
   "execution_count": 6,
   "metadata": {
    "collapsed": true
   },
   "outputs": [],
   "source": [
    "index = [int(f.split('_')[1].split('.')[0]) for f in files]"
   ]
  },
  {
   "cell_type": "code",
   "execution_count": 7,
   "metadata": {
    "collapsed": true
   },
   "outputs": [],
   "source": [
    "files_ar = pd.DataFrame(files, index=index).sort_index().values.reshape(-1)"
   ]
  },
  {
   "cell_type": "code",
   "execution_count": 15,
   "metadata": {},
   "outputs": [
    {
     "name": "stdout",
     "output_type": "stream",
     "text": [
      "data_0.csv\n",
      "data_1.csv\n",
      "data_2.csv\n",
      "data_3.csv\n",
      "data_4.csv\n",
      "data_5.csv\n",
      "data_6.csv\n",
      "data_7.csv\n",
      "data_8.csv\n",
      "data_9.csv\n",
      "data_10.csv\n",
      "data_11.csv\n",
      "data_12.csv\n",
      "data_13.csv\n",
      "data_14.csv\n",
      "data_15.csv\n",
      "data_16.csv\n",
      "data_17.csv\n",
      "data_18.csv\n",
      "data_19.csv\n"
     ]
    }
   ],
   "source": [
    "dfs_combined = []\n",
    "for p, file in enumerate(files_ar[:20]):\n",
    "    print(file)\n",
    "    df_trueskill = pd.read_csv('./trueskill_data_for_classifier/data_'+str(p)+'.csv', index_col='Unnamed: 0')\n",
    "    df_elo = pd.read_csv('./elo_goals_data_for_classifier/data_'+str(p)+'.csv', index_col='Unnamed: 0')\n",
    "    df_combined = pd.concat([df_trueskill,df_elo[['EH','EA']]], ignore_index=False, axis=1)\n",
    "    dfs_combined.append(df_combined)"
   ]
  },
  {
   "cell_type": "code",
   "execution_count": 16,
   "metadata": {
    "collapsed": true
   },
   "outputs": [],
   "source": [
    "dfs_combined_final = pd.concat(dfs_combined,axis=0, ignore_index=True)"
   ]
  },
  {
   "cell_type": "code",
   "execution_count": 17,
   "metadata": {},
   "outputs": [
    {
     "name": "stdout",
     "output_type": "stream",
     "text": [
      "Draw\n",
      "Win\n",
      "Loss\n"
     ]
    }
   ],
   "source": [
    "print('Draw')\n",
    "dfs_combined_final['DrawProb'] = dfs_combined_final.apply(lambda row: draw_prob(row['muH'], row['sigmaH'],row['muA'], row['sigmaA']), axis=1)\n",
    "print('Win')\n",
    "dfs_combined_final['WinProb'] = dfs_combined_final.iloc[:].apply(lambda row: win_probability(row['muH'], row['sigmaH'],row['muA'], row['sigmaA']), axis=1)\n",
    "print('Loss')\n",
    "dfs_combined_final['LooseProb'] = 1 - dfs_combined_final['WinProb']"
   ]
  },
  {
   "cell_type": "code",
   "execution_count": 18,
   "metadata": {
    "collapsed": true
   },
   "outputs": [],
   "source": [
    "dfs_combined_final.to_csv('./final_elo_and_trueskill.csv')"
   ]
  },
  {
   "cell_type": "code",
   "execution_count": 19,
   "metadata": {},
   "outputs": [
    {
     "data": {
      "text/plain": [
       "(941307, 12)"
      ]
     },
     "execution_count": 19,
     "metadata": {},
     "output_type": "execute_result"
    }
   ],
   "source": [
    "dfs_combined_final.shape"
   ]
  },
  {
   "cell_type": "code",
   "execution_count": 12,
   "metadata": {
    "collapsed": true
   },
   "outputs": [],
   "source": [
    "# http://sebastiandahlgren.se/2012/10/11/using-paramiko-to-send-ssh-commands/\n",
    "# https://github.com/lucasmaystre/lsr/blob/master/simple-example.ipynb\n",
    "# https://github.com/erdman/plackett-luce/blob/master/plackett_luce.py\n",
    "# https://github.com/lucasmaystre/choix/blob/master/notebooks/intro-pairwise.ipynb\n",
    "# https://stackoverflow.com/questions/16353729/pandas-how-to-use-apply-function-to-multiple-columns"
   ]
  }
 ],
 "metadata": {
  "kernelspec": {
   "display_name": "Python 3",
   "language": "python",
   "name": "python3"
  },
  "language_info": {
   "codemirror_mode": {
    "name": "ipython",
    "version": 3
   },
   "file_extension": ".py",
   "mimetype": "text/x-python",
   "name": "python",
   "nbconvert_exporter": "python",
   "pygments_lexer": "ipython3",
   "version": "3.5.2"
  }
 },
 "nbformat": 4,
 "nbformat_minor": 2
}
