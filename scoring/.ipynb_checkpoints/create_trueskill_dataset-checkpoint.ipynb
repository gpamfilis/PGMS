{
 "cells": [
  {
   "cell_type": "code",
   "execution_count": 1,
   "metadata": {},
   "outputs": [
    {
     "name": "stderr",
     "output_type": "stream",
     "text": [
      "/home/kasper/PycharmProjects/venv/lib/python3.5/site-packages/h5py/__init__.py:36: FutureWarning: Conversion of the second argument of issubdtype from `float` to `np.floating` is deprecated. In future, it will be treated as `np.float64 == np.dtype(float).type`.\n",
      "  from ._conv import register_converters as _register_converters\n"
     ]
    }
   ],
   "source": [
    "import os\n",
    "import h5py\n",
    "from os import sys, path\n",
    "sys.path.append(path.dirname(path.dirname(path.abspath('__file__'))))\n",
    "from scoring.utils import (get_match_indexes, get_last_trueskill_data, get_trueskill_parameters_home_and_away, rewrite_data, get_ids_and_mising)"
   ]
  },
  {
   "cell_type": "code",
   "execution_count": 2,
   "metadata": {
    "collapsed": true
   },
   "outputs": [],
   "source": [
    "TrueSkillTemp = '/home/kasper/cluster/slavesCombine/trueskill_temp/'"
   ]
  },
  {
   "cell_type": "code",
   "execution_count": 3,
   "metadata": {},
   "outputs": [
    {
     "name": "stdout",
     "output_type": "stream",
     "text": [
      "[LOADING...]: Main DataFrame.\n"
     ]
    },
    {
     "name": "stderr",
     "output_type": "stream",
     "text": [
      "/home/kasper/PycharmProjects/venv/lib/python3.5/site-packages/numpy/lib/arraysetops.py:466: FutureWarning: elementwise comparison failed; returning scalar instead, but in the future will perform elementwise comparison\n",
      "  mask |= (ar1 == a)\n"
     ]
    }
   ],
   "source": [
    "print('[LOADING...]: Main DataFrame.')\n",
    "df = pd.read_csv('../final_data_soccerway.csv', index_col='Unnamed: 0')\n",
    "pred_data = pd.read_csv('../data/predict.csv', index_col='Unnamed: 0')\n",
    "df_teams = pred_data[['home_team','away_team']].values"
   ]
  },
  {
   "cell_type": "code",
   "execution_count": 4,
   "metadata": {},
   "outputs": [],
   "source": [
    "def create_dataset(p, pair):\n",
    "    existing = get_ids_and_mising('./trueskill_data_for_classifier')[0]\n",
    "    print(p, pair)\n",
    "    print('[LOADING DATA ...]')\n",
    "    hf = h5py.File(TrueSkillTemp+'trueskill_pairs_'+str(p)+'.h5','r')\n",
    "    pair_num = list(hf.keys())[0]\n",
    "    teams = list(hf[pair_num].keys())\n",
    "    data = hf[pair_num]\n",
    "    last_skill = get_last_trueskill_data(pair,data)\n",
    "    \n",
    "    if p in existing:\n",
    "        print('Exists')\n",
    "        hf.close()\n",
    "        return last_skill\n",
    "    else:\n",
    "        # print(hmu,hsigma,amu,asigma)\n",
    "        print('[INFO]: getting indexes')\n",
    "\n",
    "        uni = get_match_indexes(data_h5=data, teams=teams)\n",
    "        da = df.loc[uni][['home_team','away_team']]\n",
    "        da['res_index'] = uni\n",
    "        bar = progressbar.ProgressBar(max_value=da.shape[0],widgets=[\n",
    "            ' [', progressbar.Timer(), '] ',\n",
    "            progressbar.Bar(),\n",
    "            ' (', progressbar.ETA(), ') ',\n",
    "        ])\n",
    "        print('[INFO]: finding ratings.')\n",
    "        trueskill = np.zeros((da.shape[0], 4))\n",
    "\n",
    "        bar = progressbar.ProgressBar(max_value=da.shape[0], widgets=[\n",
    "            ' [', progressbar.Timer(), '] ',\n",
    "            progressbar.Bar(),\n",
    "            ' (', progressbar.ETA(), ') ',\n",
    "        ])\n",
    "        i=0\n",
    "        for ix, row in bar(da.iloc[:].iterrows()):\n",
    "            try:\n",
    "                true_skill_home_mu,true_skill_home_sigma, true_skill_away_mu,true_skill_away_sigma = get_trueskill_parameters_home_and_away(row=row, ix=ix, data_h5=data)\n",
    "                trueskill[i,0] = true_skill_home_mu\n",
    "                trueskill[i,1] = true_skill_home_sigma\n",
    "                trueskill[i,2] = true_skill_away_mu\n",
    "                trueskill[i,3] = true_skill_away_sigma\n",
    "            except Exception as e:\n",
    "                trueskill[i,0] = np.nan\n",
    "                trueskill[i,1] = np.nan\n",
    "                trueskill[i,2] = np.nan\n",
    "                trueskill[i,3] = np.nan\n",
    "            i+=1\n",
    "\n",
    "        trueskill_df = pd.DataFrame(trueskill, columns=['muH','sigmaH', 'muA','sigmaA'], index=da.index)\n",
    "        final = pd.concat([da,trueskill_df],axis=1)\n",
    "        final.to_csv('./trueskill_data_for_classifier/data_'+str(p)+'.csv')\n",
    "        hf.close()\n",
    "        return last_skill"
   ]
  },
  {
   "cell_type": "code",
   "execution_count": 17,
   "metadata": {
    "scrolled": true
   },
   "outputs": [
    {
     "name": "stderr",
     "output_type": "stream",
     "text": [
      " [Elapsed Time: 0:00:00] |#                                  | (ETA:      N/A) "
     ]
    },
    {
     "name": "stdout",
     "output_type": "stream",
     "text": [
      "invalid literal for int() with base 10: '-f'\n",
      "10 108\n",
      "10 ['Hibernian' 'Motherwell']\n",
      "[LOADING DATA ...]\n",
      "Exists\n",
      "11 ['Tivoli Gardens' 'Portmore United']\n",
      "[LOADING DATA ...]\n",
      "Exists\n",
      "12 ['Humble Lions' 'Reno']\n",
      "[LOADING DATA ...]\n",
      "Exists\n",
      "13 ['Flora' 'Nõmme Kalju']\n",
      "[LOADING DATA ...]\n",
      "Exists\n",
      "14 ['Portuguesa Santista' 'São Carlos']\n",
      "[LOADING DATA ...]\n",
      "Exists\n",
      "15 ['Noroeste' 'União Barbarense']\n",
      "[LOADING DATA ...]\n",
      "Exists\n",
      "16 ['Dundalk' 'Shanghai Shenxin']\n",
      "[LOADING DATA ...]\n",
      "Exists\n",
      "17 ['Taboão da Serra' 'Rio Preto']\n",
      "[LOADING DATA ...]\n",
      "Exists\n",
      "18 ['Anzhi' 'Sumqayıt']\n",
      "[LOADING DATA ...]\n",
      "Exists\n",
      "19 ['České Budějovice' 'BlauWeiß Linz']\n",
      "[LOADING DATA ...]\n",
      "Exists\n",
      "20 ['Győri ETO' 'MTE 1904']\n",
      "[LOADING DATA ...]\n",
      "Exists\n",
      "21"
     ]
    },
    {
     "name": "stderr",
     "output_type": "stream",
     "text": [
      " [Elapsed Time: 0:00:00] |#                                  | (ETA:      N/A) "
     ]
    },
    {
     "name": "stdout",
     "output_type": "stream",
     "text": [
      " ['Inter Zaprešić' 'Lokomotiva Zagreb']\n",
      "[LOADING DATA ...]\n",
      "Exists\n",
      "22 ['Borussia Dortmund II' 'RotWeiss Essen']\n",
      "[LOADING DATA ...]\n",
      "Exists\n",
      "23 ['Slutsk' 'Slavia']\n",
      "[LOADING DATA ...]\n",
      "Exists\n",
      "24 ['Győri ETO' 'Lokomotíva Zvolen']\n",
      "[LOADING DATA ...]\n",
      "Exists\n",
      "25 ['Honvéd' 'Balmazújváros Sport']\n",
      "[LOADING DATA ...]\n",
      "Exists\n",
      "26 ['Zagłębie Sosnowiec' 'Puszcza Niepołomice']\n",
      "[LOADING DATA ...]\n",
      "Exists\n",
      "27 ['Ruch Chorzów' 'Rozwój Katowice']\n",
      "[LOADING DATA ...]\n",
      "Exists\n",
      "28 ['Borac Banja Luka' 'Cibalia']\n",
      "[LOADING DATA ...]\n",
      "Exists\n",
      "29 ['Vasas' 'MTK']\n",
      "[LOADING DATA ...]\n",
      "Exists\n",
      "30 ['Emelec' 'Guayaquil City']\n",
      "[LOADING DATA ...]\n"
     ]
    },
    {
     "name": "stderr",
     "output_type": "stream",
     "text": [
      " [Elapsed Time: 0:00:00] |#                                  | (ETA:      N/A) "
     ]
    },
    {
     "name": "stdout",
     "output_type": "stream",
     "text": [
      "Exists\n",
      "31 ['Floridsdorfer AC' 'Austria Wien II']\n",
      "[LOADING DATA ...]\n",
      "Exists\n",
      "32 ['CSKA Sofia' 'Spartak Moskva']\n",
      "[LOADING DATA ...]\n",
      "Exists\n",
      "33 ['New England' 'New York RB']\n",
      "[LOADING DATA ...]\n",
      "Exists\n",
      "34 ['AaB' 'Sparta Praha']\n",
      "[LOADING DATA ...]\n",
      "Exists\n",
      "35 ['Zürich' 'Winterthur']\n",
      "[LOADING DATA ...]\n",
      "Exists\n",
      "36 ['Grasshopper' 'FC Schaffhausen']\n",
      "[LOADING DATA ...]\n",
      "Exists\n",
      "37 ['Crvena Zvezda' 'Sileks']\n",
      "[LOADING DATA ...]\n",
      "Exists\n",
      "38 ['Slovan Bratislava' 'Újpest']\n",
      "[LOADING DATA ...]\n",
      "Exists\n",
      "39 ['Panserraikos' 'Ergotelis']\n",
      "[LOADING DATA ...]\n",
      "Exists\n",
      "40 ['Anagennisi Karditsas' 'Kallithea']\n",
      "[LOADING DATA ...]\n"
     ]
    },
    {
     "name": "stderr",
     "output_type": "stream",
     "text": [
      " [Elapsed Time: 0:00:00] |#                                  | (ETA:      N/A) "
     ]
    },
    {
     "name": "stdout",
     "output_type": "stream",
     "text": [
      "Exists\n",
      "41 ['Aiginiakos' 'Trikala']\n",
      "[LOADING DATA ...]\n",
      "Exists\n",
      "42 ['Doxa Dramas' 'Acharnaikos']\n",
      "[LOADING DATA ...]\n",
      "Exists\n",
      "43 ['Fraserburgh' 'Rangers']\n",
      "[LOADING DATA ...]\n",
      "Exists\n",
      "44 ['Jeddah' 'Al Taee']\n",
      "[LOADING DATA ...]\n",
      "Exists\n",
      "45 ['Najran' 'Dhamk']\n",
      "[LOADING DATA ...]\n",
      "Exists\n",
      "46 ['AEK Larnaca ' 'Doxa']\n",
      "[LOADING DATA ...]\n",
      "Exists\n",
      "47 ['Apollon' 'APOEL']\n",
      "[LOADING DATA ...]\n",
      "Exists\n",
      "48 ['Ethnikos Achna' 'Aris']\n",
      "[LOADING DATA ...]\n",
      "Exists\n",
      "49 ['Ajax Cape Town' 'Orlando Pirates']\n",
      "[LOADING DATA ...]\n",
      "Exists\n"
     ]
    },
    {
     "name": "stderr",
     "output_type": "stream",
     "text": [
      " [Elapsed Time: 0:00:01] |#                                  | (ETA:      N/A) "
     ]
    },
    {
     "name": "stdout",
     "output_type": "stream",
     "text": [
      "50 ['SuperSport United' 'AmaZulu']\n",
      "[LOADING DATA ...]\n",
      "Exists\n",
      "51 ['Chelsea' 'AFC Bournemouth']\n",
      "[LOADING DATA ...]\n",
      "Exists\n",
      "52 ['Veria' 'Aris']\n",
      "[LOADING DATA ...]\n",
      "Exists\n",
      "53 ['Standard Liège' 'Club Brugge']\n",
      "[LOADING DATA ...]\n",
      "Exists\n",
      "54 ['Anapolina' 'Aparecidense']\n",
      "[LOADING DATA ...]\n",
      "Exists\n",
      "55 ['Atlético GO' 'Anápolis']\n",
      "[LOADING DATA ...]\n",
      "Exists\n",
      "56 ['Fortaleza' 'Tiradentes CE']\n",
      "[LOADING DATA ...]\n",
      "Exists\n",
      "57 ['Brusque' 'Criciúma']\n",
      "[LOADING DATA ...]\n",
      "Exists\n",
      "58 ['Sporting CP' 'Vitória Guimarães']\n",
      "[LOADING DATA ...]\n",
      "Exists\n",
      "59 ['Gryf Wejherowo' 'Chrobry Głogów']\n",
      "[LOADING DATA ...]\n",
      "Exists\n",
      "60 ['Chaves' 'Vitória Setúbal']\n",
      "[LOADING DATA ...]\n"
     ]
    },
    {
     "name": "stderr",
     "output_type": "stream",
     "text": [
      " [Elapsed Time: 0:00:01] |#                                  | (ETA:      N/A) "
     ]
    },
    {
     "name": "stdout",
     "output_type": "stream",
     "text": [
      "Exists\n",
      "61 ['Giresunspor' 'Fenerbahçe']\n",
      "[LOADING DATA ...]\n",
      "Exists\n",
      "62 ['Monaco' 'Montpellier']\n",
      "[LOADING DATA ...]\n",
      "Exists\n",
      "63 ['Boavista' 'Marítimo']\n",
      "[LOADING DATA ...]\n",
      "Exists\n",
      "64 ['Arminia Bielefeld II' 'Rödinghausen']\n",
      "[LOADING DATA ...]\n",
      "Exists\n",
      "65 ['Atlético Zacatepec' 'Cafetaleros de Tapachula']\n",
      "[LOADING DATA ...]\n",
      "Exists\n",
      "66 ['Aimoré' 'Cuiabá']\n",
      "[LOADING DATA ...]\n",
      "Exists\n",
      "67 ['Atlético Tubarão' 'América RN']\n",
      "[LOADING DATA ...]\n",
      "Exists\n",
      "68 ['Caldense' 'Fluminense']\n",
      "[LOADING DATA ...]\n",
      "Exists\n",
      "69 ['Boavista' 'Internacional']\n",
      "[LOADING DATA ...]\n",
      "Exists\n",
      "70 ['Nova Iguaçu' 'Bragantino']\n",
      "[LOADING DATA ...]\n",
      "Exists\n",
      "71"
     ]
    },
    {
     "name": "stderr",
     "output_type": "stream",
     "text": [
      " [Elapsed Time: 0:00:01] |#                                  | (ETA:      N/A) "
     ]
    },
    {
     "name": "stdout",
     "output_type": "stream",
     "text": [
      " ['Caxias' 'Atlético PR']\n",
      "[LOADING DATA ...]\n",
      "Exists\n",
      "72 ['Exeter City' 'Forest Green Rovers']\n",
      "[LOADING DATA ...]\n",
      "Exists\n",
      "73 ['Defensores de Belgrano' 'Platense']\n",
      "[LOADING DATA ...]\n",
      "Exists\n",
      "74 ['Gimnástica Segoviana' 'Atlético Madrid II']\n",
      "[LOADING DATA ...]\n",
      "Exists\n",
      "75 ['Penafiel' 'Porto II']\n",
      "[LOADING DATA ...]\n",
      "Exists\n",
      "76 ['Leixões' 'Academico Viseu']\n",
      "[LOADING DATA ...]\n",
      "Exists\n",
      "77 ['Milan' 'Lazio']\n",
      "[LOADING DATA ...]\n",
      "Exists\n",
      "78 ['Wolfsburg' 'Sporting de Huelva']\n",
      "[LOADING DATA ...]\n",
      "Exists\n",
      "79 ['Correcaminos UAT' 'Atlante']\n",
      "[LOADING DATA ...]\n",
      "Exists\n",
      "80 ['Universidad Guadalajara' 'Venados']\n",
      "[LOADING DATA ...]\n",
      "Exists\n",
      "81 ['Banfield' 'Independiente del Valle']\n",
      "[LOADING DATA ...]"
     ]
    },
    {
     "name": "stderr",
     "output_type": "stream",
     "text": [
      " [Elapsed Time: 0:00:01] |#                                  | (ETA:      N/A) "
     ]
    },
    {
     "name": "stdout",
     "output_type": "stream",
     "text": [
      "\n",
      "Exists\n",
      "82 ['Stirling Albion' 'Cowdenbeath']\n",
      "[LOADING DATA ...]\n",
      "Exists\n",
      "83 ['Sunshine Stars' 'El Kanemi Warriors']\n",
      "[LOADING DATA ...]\n",
      "Exists\n",
      "84 ['Romford' 'AFC Hornchurch']\n",
      "[LOADING DATA ...]\n",
      "Exists\n",
      "85 ['ENPPI' 'Zamalek']\n",
      "[LOADING DATA ...]\n",
      "Exists\n",
      "86 ['Al Masry' 'El Geish']\n",
      "[LOADING DATA ...]\n",
      "Exists\n",
      "87 ['Ferro Carril Sud' 'Racing Olavarría']\n",
      "[LOADING DATA ...]\n",
      "Exists\n",
      "88 ['Cipolletti' 'Independiente Neuquén']\n",
      "[LOADING DATA ...]\n",
      "Exists\n",
      "89 ['Monastir' 'Stade Tunisien']\n",
      "[LOADING DATA ...]\n",
      "Exists\n",
      "90 ['Etoile du Sahel' 'Zarzis']\n",
      "[LOADING DATA ...]\n",
      "Exists\n",
      "91 ['CS Sfaxien' 'Stade Gabésien']\n",
      "[LOADING DATA ...]\n",
      "Exists\n",
      "92 ['Club Africain' 'Kairouan']\n",
      "[LOADING DATA ...]\n",
      "Exists\n",
      "93 ['Gabès' 'ES Tunis']\n",
      "[LOADING DATA ...]\n",
      "Exists\n",
      "94 ['Torino U19' 'Roma U19']\n",
      "[LOADING DATA ...]\n",
      "Exists\n",
      "95 ['Real de Banjul' 'GPA']\n",
      "[LOADING DATA ...]"
     ]
    },
    {
     "name": "stderr",
     "output_type": "stream",
     "text": [
      " [Elapsed Time: 0:00:01] |#                                  | (Time: 0:00:01) \n"
     ]
    },
    {
     "name": "stdout",
     "output_type": "stream",
     "text": [
      "\n",
      "Exists\n",
      "96 ['Flamurtari' 'Partizani Tirana']\n",
      "[LOADING DATA ...]\n",
      "Exists\n",
      "97 ['Tirana' 'Kukësi']\n",
      "[LOADING DATA ...]\n",
      "Exists\n",
      "98 ['Laçi' 'Luftëtari Gjirokastër']\n",
      "[LOADING DATA ...]\n",
      "Exists\n",
      "99 ['Teuta Durrës' 'Skënderbeu Korçë']\n",
      "[LOADING DATA ...]\n",
      "Exists\n",
      "100 ['Leganés' 'Sevilla']\n",
      "[LOADING DATA ...]\n",
      "Exists\n",
      "101 ['Royal Leopards' 'Malanti Chiefs']\n",
      "[LOADING DATA ...]\n",
      "Exists\n",
      "102 ['Mbabane Swallows' 'Manzini Wanderers']\n",
      "[LOADING DATA ...]\n",
      "Exists\n",
      "103 ['Iztapa' 'Nueva Concepción']\n",
      "[LOADING DATA ...]\n",
      "Exists\n",
      "104 ['AZ' 'PEC Zwolle']\n",
      "[LOADING DATA ...]\n",
      "Exists\n",
      "105 ['Ceará' 'CSA']\n",
      "[LOADING DATA ...]\n",
      "Exists\n",
      "106 ['Municipal' 'Malacateco']\n",
      "[LOADING DATA ...]\n",
      "Exists\n",
      "107 ['Mixco' 'Mictlán']\n",
      "[LOADING DATA ...]\n",
      "Exists\n"
     ]
    }
   ],
   "source": [
    "bar = progressbar.ProgressBar(widgets=[\n",
    "    ' [', progressbar.Timer(), '] ',\n",
    "    progressbar.Bar(),\n",
    "    ' (', progressbar.ETA(), ') ',\n",
    "])\n",
    "last_skills = []\n",
    "ps = []\n",
    "try:\n",
    "    n_start=int(sys.argv[1])\n",
    "    n_end=int(sys.argv[2])\n",
    "except Exception as e:\n",
    "    print(e)\n",
    "    n_start=0\n",
    "    n_end=df_teams.shape[0]\n",
    "print(n_start,n_end)\n",
    "\n",
    "for p, pair in bar(enumerate(df_teams[n_start:n_end, :],start=n_start)):\n",
    "# for p, pair in bar(enumerate(df_teams[:])):\n",
    "    last_skill = create_dataset(p, pair)\n",
    "    last_skills.append([*last_skill])\n",
    "    ps.append(p)"
   ]
  },
  {
   "cell_type": "code",
   "execution_count": 19,
   "metadata": {},
   "outputs": [],
   "source": [
    "prediction_true_skills = pd.DataFrame(last_skills, columns=['muH','sigmaH','muA','sigmaA'], index=ps)\n",
    "prediction_true_skills.to_csv('./trueskill_last.csv', index=False)"
   ]
  },
  {
   "cell_type": "code",
   "execution_count": 21,
   "metadata": {
    "scrolled": false
   },
   "outputs": [
    {
     "data": {
      "text/html": [
       "<div>\n",
       "<style scoped>\n",
       "    .dataframe tbody tr th:only-of-type {\n",
       "        vertical-align: middle;\n",
       "    }\n",
       "\n",
       "    .dataframe tbody tr th {\n",
       "        vertical-align: top;\n",
       "    }\n",
       "\n",
       "    .dataframe thead th {\n",
       "        text-align: right;\n",
       "    }\n",
       "</style>\n",
       "<table border=\"1\" class=\"dataframe\">\n",
       "  <thead>\n",
       "    <tr style=\"text-align: right;\">\n",
       "      <th></th>\n",
       "      <th>muH</th>\n",
       "      <th>sigmaH</th>\n",
       "      <th>muA</th>\n",
       "      <th>sigmaA</th>\n",
       "    </tr>\n",
       "  </thead>\n",
       "  <tbody>\n",
       "    <tr>\n",
       "      <th>10</th>\n",
       "      <td>5.360641</td>\n",
       "      <td>4.520982</td>\n",
       "      <td>5.535978</td>\n",
       "      <td>4.520982</td>\n",
       "    </tr>\n",
       "    <tr>\n",
       "      <th>11</th>\n",
       "      <td>5.303052</td>\n",
       "      <td>4.976227</td>\n",
       "      <td>6.523414</td>\n",
       "      <td>4.976227</td>\n",
       "    </tr>\n",
       "    <tr>\n",
       "      <th>12</th>\n",
       "      <td>4.387751</td>\n",
       "      <td>3.535613</td>\n",
       "      <td>6.239836</td>\n",
       "      <td>3.535613</td>\n",
       "    </tr>\n",
       "    <tr>\n",
       "      <th>13</th>\n",
       "      <td>5.827421</td>\n",
       "      <td>5.303954</td>\n",
       "      <td>6.177354</td>\n",
       "      <td>5.303954</td>\n",
       "    </tr>\n",
       "    <tr>\n",
       "      <th>14</th>\n",
       "      <td>5.303052</td>\n",
       "      <td>4.752980</td>\n",
       "      <td>5.838244</td>\n",
       "      <td>4.752980</td>\n",
       "    </tr>\n",
       "  </tbody>\n",
       "</table>\n",
       "</div>"
      ],
      "text/plain": [
       "         muH    sigmaH       muA    sigmaA\n",
       "10  5.360641  4.520982  5.535978  4.520982\n",
       "11  5.303052  4.976227  6.523414  4.976227\n",
       "12  4.387751  3.535613  6.239836  3.535613\n",
       "13  5.827421  5.303954  6.177354  5.303954\n",
       "14  5.303052  4.752980  5.838244  4.752980"
      ]
     },
     "execution_count": 21,
     "metadata": {},
     "output_type": "execute_result"
    }
   ],
   "source": [
    "prediction_true_skills.head()"
   ]
  },
  {
   "cell_type": "code",
   "execution_count": 9,
   "metadata": {
    "collapsed": true
   },
   "outputs": [],
   "source": [
    "# http://sebastiandahlgren.se/2012/10/11/using-paramiko-to-send-ssh-commands/"
   ]
  },
  {
   "cell_type": "code",
   "execution_count": 10,
   "metadata": {
    "collapsed": true
   },
   "outputs": [],
   "source": [
    "# df_trueskill = pd.read_csv('./trueskill_data_for_classifier/data_'+str(0)+'.csv', index_col='Unnamed: 0')\n",
    "# df_elo = pd.read_csv('./elo_goals_data_for_classifier/data_'+str(0)+'.csv', index_col='Unnamed: 0')"
   ]
  },
  {
   "cell_type": "code",
   "execution_count": 11,
   "metadata": {
    "collapsed": true
   },
   "outputs": [],
   "source": [
    "# df_combined = pd.concat([df_trueskill,df_elo[['EH','EA']]], ignore_index=False, axis=1)"
   ]
  },
  {
   "cell_type": "code",
   "execution_count": 12,
   "metadata": {},
   "outputs": [],
   "source": [
    "# df_combined"
   ]
  },
  {
   "cell_type": "code",
   "execution_count": null,
   "metadata": {
    "collapsed": true
   },
   "outputs": [],
   "source": []
  }
 ],
 "metadata": {
  "kernelspec": {
   "display_name": "Python 3",
   "language": "python",
   "name": "python3"
  },
  "language_info": {
   "codemirror_mode": {
    "name": "ipython",
    "version": 3
   },
   "file_extension": ".py",
   "mimetype": "text/x-python",
   "name": "python",
   "nbconvert_exporter": "python",
   "pygments_lexer": "ipython3",
   "version": "3.5.2"
  }
 },
 "nbformat": 4,
 "nbformat_minor": 2
}
