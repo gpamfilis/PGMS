{
 "cells": [
  {
   "cell_type": "code",
   "execution_count": 3,
   "metadata": {},
   "outputs": [
    {
     "name": "stderr",
     "output_type": "stream",
     "text": [
      "/home/kasper/PycharmProjects/venv/lib/python3.5/site-packages/h5py/__init__.py:36: FutureWarning: Conversion of the second argument of issubdtype from `float` to `np.floating` is deprecated. In future, it will be treated as `np.float64 == np.dtype(float).type`.\n",
      "  from ._conv import register_converters as _register_converters\n"
     ]
    }
   ],
   "source": [
    "from os import sys, path\n",
    "sys.path.append(path.dirname(path.dirname(path.abspath('__file__'))))\n",
    "\n",
    "import pprint\n",
    "\n",
    "import pandas as pd\n",
    "import numpy as np\n",
    "\n",
    "import h5py\n",
    "import progressbar\n",
    "from pack.utils import delete_directory_contents\n",
    "# import sys\n",
    "# import warnings\n",
    "#\n",
    "# # if not sys.warnoptions:\n",
    "# warnings.simplefilter(\"ignore\")\n",
    "# warnings.simplefilter(action='ignore', category=FutureWarning)"
   ]
  },
  {
   "cell_type": "code",
   "execution_count": 4,
   "metadata": {
    "collapsed": true
   },
   "outputs": [],
   "source": [
    "def get_match_indexes(data_h5, teams):\n",
    "    \"\"\"\n",
    "    This function returns the unique index for the pairs.\n",
    "    \"\"\"\n",
    "\n",
    "    arrays = []\n",
    "    for team in teams[:]:\n",
    "        ix = data_h5[team][:].T[:,0]\n",
    "        arrays.append(ix)\n",
    "    uni = np.unique(np.concatenate(arrays)).astype(int)\n",
    "    return uni\n",
    "\n",
    "\n",
    "def get_elo_home_and_away(data_h5, row, ix):\n",
    "    \"\"\"\n",
    "    This functions takes the data from the pair. iterates over the main data\n",
    "    and finds the coresponding elo ratings based on the side the team is on.\n",
    "    \"\"\"\n",
    "    hdhome = data_h5[row.home_team][:].T\n",
    "    hdaway = data_h5[row.away_team][:].T\n",
    "    elohome = hdhome[np.where(hdhome==ix)[1],1]\n",
    "    eloaway = hdaway[np.where(hdaway==ix)[1],1]\n",
    "    return elohome, eloaway"
   ]
  },
  {
   "cell_type": "code",
   "execution_count": 5,
   "metadata": {},
   "outputs": [
    {
     "name": "stdout",
     "output_type": "stream",
     "text": [
      "[LOADING...]: Main DataFrame.\n"
     ]
    },
    {
     "name": "stderr",
     "output_type": "stream",
     "text": [
      "/home/kasper/PycharmProjects/venv/lib/python3.5/site-packages/numpy/lib/arraysetops.py:466: FutureWarning: elementwise comparison failed; returning scalar instead, but in the future will perform elementwise comparison\n",
      "  mask |= (ar1 == a)\n"
     ]
    }
   ],
   "source": [
    "print('[LOADING...]: Main DataFrame.')\n",
    "df = pd.read_csv('/home/kasper/Dropbox/Scrapping/soccerway/csv/final_data_soccerway.csv', index_col='Unnamed: 0')\n",
    "\n",
    "pred_data = pd.read_csv('../data/predict.csv', index_col='Unnamed: 0')\n",
    "df_teams = pred_data[['home_team','away_team']].values"
   ]
  },
  {
   "cell_type": "code",
   "execution_count": null,
   "metadata": {
    "collapsed": true
   },
   "outputs": [],
   "source": [
    "for p, pair in enumerate(df_teams[:]):\n",
    "\n",
    "    print('[INFO]: pairs: ', pair)\n",
    "\n",
    "    h5f = h5py.File('./elo_temp/elo_pairs_' + str(p) + '.h5', 'r')\n",
    "    # TODO: rename champ to pair since that what it is\n",
    "    champ = list(h5f.keys())[0]\n",
    "    # NOTE: do i need to convert this to a list since i iterate over it?\n",
    "    teams = list(h5f[champ].keys())\n",
    "    data = h5f[champ]\n",
    "    print('[INFO]: getting indexes')\n",
    "    uni = get_match_indexes(data_h5=data, teams=teams)\n",
    "\n",
    "    da = df.loc[uni][['home_team','away_team']]\n",
    "    da['res_index'] = uni\n",
    "    \n",
    "\n",
    "    print('[INFO]: finding ratings.')\n",
    "    elos = np.zeros((da.shape[0], 2))\n",
    "    for i, (ix, row) in enumerate(da.iloc[:].iterrows()):\n",
    "        try:\n",
    "            elohome, eloaway = get_elo_home_and_away(row=row, ix=ix, data_h5=data)\n",
    "            elos[i,0] = elohome\n",
    "            elos[i,1] = eloaway\n",
    "        except Exception as e:\n",
    "            elos[i,0] = np.nan\n",
    "            elos[i,1] = np.nan\n",
    "\n",
    "    elos_df = pd.DataFrame(elos, columns=['EH','EA'], index=da.index)\n",
    "\n",
    "    final = pd.concat([da,elos_df],axis=1)\n",
    "\n",
    "    final.to_csv('./elo_goals_data_for_classifier/data_'+str(p)+'.csv')\n",
    "    h5f.close()"
   ]
  },
  {
   "cell_type": "code",
   "execution_count": null,
   "metadata": {
    "collapsed": true
   },
   "outputs": [],
   "source": [
    "shared_dict = {\n",
    "    # big dict with ~10k keys, each with a list of dicts\n",
    "}\n",
    "\n",
    "balancer = engines.load_balanced_view()\n",
    "\n",
    "with engines[:].sync_imports(): # your 'view' variable \n",
    "    import pandas as pd\n",
    "    import ujson as json\n",
    "\n",
    "engines[:].push(shared_dict)\n",
    "\n",
    "results = balancer.map(lambda i: (i, my_func(i)), id)\n",
    "results_data = results.get()"
   ]
  },
  {
   "cell_type": "code",
   "execution_count": 1,
   "metadata": {
    "collapsed": true
   },
   "outputs": [],
   "source": [
    "import ipyparallel as ipp\n",
    "\n",
    "cluster = ipp.Client(profile='ssh')\n",
    "# cluster = ipp.Client()\n",
    "\n",
    "view = cluster.load_balanced_view()\n"
   ]
  },
  {
   "cell_type": "code",
   "execution_count": null,
   "metadata": {
    "collapsed": true
   },
   "outputs": [],
   "source": [
    "for i in range(10):\n",
    "    for j in range(10):\n",
    "        # This line submits the tasks for parallel computation.\n",
    "        ar = view.apply_async(test, i,j)\n",
    "        async_results.append(ar)\n",
    "\n",
    "cluster.wait_interactive(async_results) "
   ]
  }
 ],
 "metadata": {
  "kernelspec": {
   "display_name": "Python 3",
   "language": "python",
   "name": "python3"
  },
  "language_info": {
   "codemirror_mode": {
    "name": "ipython",
    "version": 3
   },
   "file_extension": ".py",
   "mimetype": "text/x-python",
   "name": "python",
   "nbconvert_exporter": "python",
   "pygments_lexer": "ipython3",
   "version": "3.5.2"
  }
 },
 "nbformat": 4,
 "nbformat_minor": 2
}
