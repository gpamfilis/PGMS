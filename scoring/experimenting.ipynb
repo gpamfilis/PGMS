{
 "cells": [
  {
   "cell_type": "code",
   "execution_count": 1,
   "metadata": {
    "collapsed": true
   },
   "outputs": [],
   "source": [
    "import trueskill as ts"
   ]
  },
  {
   "cell_type": "code",
   "execution_count": 3,
   "metadata": {},
   "outputs": [],
   "source": [
    "from trueskill import Rating"
   ]
  },
  {
   "cell_type": "code",
   "execution_count": 9,
   "metadata": {},
   "outputs": [],
   "source": [
    "import numpy as np"
   ]
  },
  {
   "cell_type": "code",
   "execution_count": 50,
   "metadata": {
    "collapsed": true
   },
   "outputs": [],
   "source": [
    "import itertools\n",
    "import math\n",
    "import trueskill\n",
    "def win_probability(team1, team2):\n",
    "    delta_mu = sum(r.mu for r in team1) - sum(r.mu for r in team2)\n",
    "    sum_sigma = sum(r.sigma ** 2 for r in itertools.chain(team1, team2))\n",
    "    size = len(team1) + len(team2)\n",
    "    denom = math.sqrt(size * (BETA * BETA) + sum_sigma)\n",
    "    ts = trueskill.global_env()\n",
    "    return ts.cdf(delta_mu / denom)"
   ]
  },
  {
   "cell_type": "code",
   "execution_count": 51,
   "metadata": {},
   "outputs": [],
   "source": [
    "BETA = ts.BETA"
   ]
  },
  {
   "cell_type": "code",
   "execution_count": null,
   "metadata": {
    "collapsed": true
   },
   "outputs": [],
   "source": []
  },
  {
   "cell_type": "code",
   "execution_count": null,
   "metadata": {
    "collapsed": true
   },
   "outputs": [],
   "source": []
  },
  {
   "cell_type": "code",
   "execution_count": 43,
   "metadata": {
    "collapsed": true
   },
   "outputs": [],
   "source": [
    "def win_probability(a, b):                                                      \n",
    "    deltaMu = sum([x.mu for x in a]) - sum([x.mu for x in b])                   \n",
    "    sumSigma = sum([x.sigma ** 2 for x in a]) + sum([x.sigma ** 2 for x in b])  \n",
    "    playerCount = len(a) + len(b)                                               \n",
    "    denominator = math.sqrt(playerCount * (BETA * BETA) + sumSigma)             \n",
    "    return cdf(deltaMu / denominator)  "
   ]
  },
  {
   "cell_type": "code",
   "execution_count": 53,
   "metadata": {},
   "outputs": [
    {
     "name": "stdout",
     "output_type": "stream",
     "text": [
      "0.5000000150000002\n",
      "0.5000000150000002\n",
      "0.5000000150000002\n",
      "0.5000000150000002\n",
      "0.3622676449276204\n",
      "0.5000000150000002\n",
      "0.5000000150000002\n",
      "0.5000000150000002\n",
      "0.5000000150000002\n",
      "0.5000000150000002\n",
      "0.5000000150000002\n",
      "0.6377323550723795\n",
      "0.3622676449276204\n",
      "0.5000000150000002\n",
      "0.31298971386511126\n",
      "0.5000000150000002\n",
      "0.5000000150000002\n",
      "0.5000000150000002\n",
      "0.5000000150000002\n",
      "0.5000000150000002\n",
      "0.7176526574849469\n",
      "0.22676853331299218\n",
      "0.5000000150000002\n",
      "0.6377323550723796\n",
      "0.5497524397232527\n",
      "0.5000000150000002\n",
      "0.3622676449276206\n",
      "0.6406314176566357\n",
      "0.5313229979718141\n",
      "0.6377323550723796\n",
      "0.6514575549484554\n",
      "0.3909364585995793\n",
      "0.5015241570379038\n",
      "0.49847584296209657\n",
      "0.3622676449276204\n",
      "0.5318018800833777\n",
      "0.3713935545780191\n",
      "0.3622676449276206\n",
      "0.40891176234280374\n",
      "0.7176526574849471\n",
      "0.49847584296209657\n",
      "0.6377323550723795\n",
      "0.8211736163305419\n",
      "0.6377323550723796\n",
      "0.5262689640663032\n",
      "0.3909364585995793\n",
      "0.6377323550723795\n",
      "0.5000000150000002\n",
      "0.3622676449276206\n",
      "0.6377323550723796\n",
      "0.6377323550723796\n",
      "0.384887138202254\n",
      "0.422661114362442\n",
      "0.5000000150000002\n",
      "0.4449001758075567\n",
      "0.6789655643928336\n",
      "0.5000000150000002\n",
      "0.5030122188130306\n",
      "0.7481225541074488\n",
      "0.49945084407148554\n",
      "0.4914049468645997\n",
      "0.27065626905958784\n",
      "0.300555653939762\n",
      "0.743921745357695\n",
      "0.743063980998764\n",
      "0.425135975413216\n",
      "0.5318018800833777\n",
      "0.7601077342113125\n",
      "0.6377323550723795\n",
      "0.12144103336843015\n",
      "0.28234734251505283\n",
      "0.5164247965281628\n",
      "0.7218104845330893\n",
      "0.555099824192443\n",
      "0.6377323550723796\n",
      "0.5194132885950427\n",
      "0.5895749815615778\n",
      "0.8794418700046729\n",
      "0.7487172846200822\n",
      "0.6467934839903966\n",
      "0.8627273973034681\n",
      "0.6511614019774132\n",
      "0.2794674215453255\n",
      "0.44758874589167746\n",
      "0.8518650353467219\n",
      "0.41433142354644387\n",
      "0.49221517241283813\n",
      "0.17440116665306696\n",
      "0.32560799887631947\n",
      "0.46652135226278035\n",
      "0.40766992401597424\n",
      "0.5000000150000002\n",
      "0.6341505368733331\n",
      "0.2640574525625293\n",
      "0.34226096405836665\n",
      "0.6464497842958647\n",
      "0.38827590292005043\n",
      "0.5266603336833107\n",
      "0.7551892284501405\n",
      "0.3290508505755045\n"
     ]
    }
   ],
   "source": [
    "teams = np.arange(100)\n",
    "ratings = [Rating() for i in range(100)]\n",
    "for i in range(100):\n",
    "    choice = np.random.choice(teams,size=2,replace=True)\n",
    "    a = ratings[choice[0]]\n",
    "    b = ratings[choice[1]]\n",
    "    q = quality_1vs1(a, b)\n",
    "    wp = win_probability([a],[b])\n",
    "    print(wp)\n",
    "    a, b = ts.rate_1vs1(a, b, drawn=False)\n",
    "    \n",
    "    ratings[choice[0]] = a\n",
    "    ratings[choice[1]] = b"
   ]
  },
  {
   "cell_type": "code",
   "execution_count": 40,
   "metadata": {},
   "outputs": [],
   "source": [
    "mus = [r.mu for r in ratings]\n",
    "sigma = [r.sigma for r in ratings]"
   ]
  },
  {
   "cell_type": "code",
   "execution_count": null,
   "metadata": {},
   "outputs": [],
   "source": []
  },
  {
   "cell_type": "code",
   "execution_count": 42,
   "metadata": {},
   "outputs": [
    {
     "data": {
      "text/plain": [
       "0.5158821769842559"
      ]
     },
     "execution_count": 42,
     "metadata": {},
     "output_type": "execute_result"
    }
   ],
   "source": []
  },
  {
   "cell_type": "code",
   "execution_count": null,
   "metadata": {
    "collapsed": true
   },
   "outputs": [],
   "source": []
  }
 ],
 "metadata": {
  "kernelspec": {
   "display_name": "Python 3",
   "language": "python",
   "name": "python3"
  },
  "language_info": {
   "codemirror_mode": {
    "name": "ipython",
    "version": 3
   },
   "file_extension": ".py",
   "mimetype": "text/x-python",
   "name": "python",
   "nbconvert_exporter": "python",
   "pygments_lexer": "ipython3",
   "version": "3.5.2"
  }
 },
 "nbformat": 4,
 "nbformat_minor": 2
}
