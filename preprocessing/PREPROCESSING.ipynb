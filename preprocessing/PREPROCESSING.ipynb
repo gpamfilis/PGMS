{
 "cells": [
  {
   "cell_type": "code",
   "execution_count": 1,
   "metadata": {
    "collapsed": true
   },
   "outputs": [],
   "source": [
    "from os import sys, path\n",
    "sys.path.append(path.dirname(path.dirname(path.abspath('__file__'))))\n",
    "# from utils import (compute_elo_ratting_dataframe_for_champ_v2, compute_elo_ratting_dataframe_for_champ_v3,delete_directory_contents)"
   ]
  },
  {
   "cell_type": "code",
   "execution_count": 35,
   "metadata": {
    "collapsed": true
   },
   "outputs": [],
   "source": [
    "import matplotlib.pyplot as plt"
   ]
  },
  {
   "cell_type": "code",
   "execution_count": 36,
   "metadata": {
    "collapsed": true
   },
   "outputs": [],
   "source": [
    "%matplotlib inline"
   ]
  },
  {
   "cell_type": "code",
   "execution_count": 2,
   "metadata": {
    "collapsed": true
   },
   "outputs": [],
   "source": [
    "from utils import Player, Elo"
   ]
  },
  {
   "cell_type": "code",
   "execution_count": 3,
   "metadata": {
    "collapsed": true
   },
   "outputs": [],
   "source": [
    "import datetime\n",
    "import pandas as pd\n",
    "import numpy as np\n",
    "import pickle"
   ]
  },
  {
   "cell_type": "code",
   "execution_count": 4,
   "metadata": {
    "collapsed": true
   },
   "outputs": [],
   "source": [
    "import progressbar"
   ]
  },
  {
   "cell_type": "code",
   "execution_count": 5,
   "metadata": {},
   "outputs": [
    {
     "name": "stderr",
     "output_type": "stream",
     "text": [
      "/home/kasper/PycharmProjects/venv/lib/python3.5/site-packages/h5py/__init__.py:36: FutureWarning: Conversion of the second argument of issubdtype from `float` to `np.floating` is deprecated. In future, it will be treated as `np.float64 == np.dtype(float).type`.\n",
      "  from ._conv import register_converters as _register_converters\n"
     ]
    }
   ],
   "source": [
    "import h5py"
   ]
  },
  {
   "cell_type": "code",
   "execution_count": 6,
   "metadata": {
    "collapsed": true
   },
   "outputs": [],
   "source": [
    "df = pd.read_csv('/home/kasper/Dropbox/Scrapping/soccerway/csv/final_data_soccerway.csv', index_col='Unnamed: 0')\n",
    "df.loc[:,'date'] = pd.to_datetime(df.date)"
   ]
  },
  {
   "cell_type": "code",
   "execution_count": 506,
   "metadata": {
    "collapsed": true
   },
   "outputs": [],
   "source": [
    "input_date = [datetime.datetime(2018,1,29),datetime.datetime(2018,1,30),datetime.datetime(2018,1,31)][:1]\n",
    "input_data = df[df.date.isin(input_date)]\n",
    "training_data = df.loc[:input_data.index[0]-1]"
   ]
  },
  {
   "cell_type": "markdown",
   "metadata": {},
   "source": [
    "### Get Home teams"
   ]
  },
  {
   "cell_type": "code",
   "execution_count": 507,
   "metadata": {
    "collapsed": true
   },
   "outputs": [],
   "source": [
    "home_teams = input_data.home_team.dropna().drop_duplicates().values\n",
    "teams_grouped = df.groupby('home_team').size()\n",
    "home_teams_consider = teams_grouped[home_teams].sort_values(ascending=False)"
   ]
  },
  {
   "cell_type": "markdown",
   "metadata": {},
   "source": [
    "### Get Away teams"
   ]
  },
  {
   "cell_type": "code",
   "execution_count": 508,
   "metadata": {
    "collapsed": true
   },
   "outputs": [],
   "source": [
    "away_teams = input_data.away_team.dropna().drop_duplicates().values\n",
    "teams_grouped = df.groupby('away_team').size()\n",
    "away_teams_consider = teams_grouped[away_teams].sort_values(ascending=False)"
   ]
  },
  {
   "cell_type": "code",
   "execution_count": 509,
   "metadata": {
    "collapsed": true
   },
   "outputs": [],
   "source": [
    "threshold_match_number = 100\n",
    "threshold_champ_number = 1000"
   ]
  },
  {
   "cell_type": "code",
   "execution_count": 510,
   "metadata": {
    "collapsed": true
   },
   "outputs": [],
   "source": [
    "home_final_teams = home_teams_consider[home_teams_consider > threshold_match_number].index\n",
    "away_final_teams = away_teams_consider[away_teams_consider > threshold_match_number].index"
   ]
  },
  {
   "cell_type": "code",
   "execution_count": 511,
   "metadata": {
    "collapsed": true
   },
   "outputs": [],
   "source": [
    "new_champs = df.groupby('championship').size()[champs_to_keep].sort_values(ascending=False)\n",
    "champs = new_champs[new_champs>threshold_champ_number].index.values"
   ]
  },
  {
   "cell_type": "code",
   "execution_count": 512,
   "metadata": {
    "collapsed": true
   },
   "outputs": [],
   "source": [
    "final_matches = input_data[(input_data.home_team.isin(home_final_teams)) & (input_data.away_team.isin(away_final_teams)) & (input_data.championship.isin(champs))]"
   ]
  },
  {
   "cell_type": "code",
   "execution_count": 513,
   "metadata": {
    "collapsed": true
   },
   "outputs": [],
   "source": [
    "date = final_matches.date.iloc[0].strftime('%Y-%m-%d')\n",
    "final_matches.to_csv('../data/predict_'+date+'.csv')"
   ]
  },
  {
   "cell_type": "code",
   "execution_count": 514,
   "metadata": {
    "collapsed": true
   },
   "outputs": [],
   "source": [
    "def compute_elo_by_goals(data_df, players, all_teams, elo, initial_score=100):\n",
    "    print('[FUNCTION]: computing elo by goals.')\n",
    "    \"\"\"\n",
    "    This function is used to compute the elo ratings of teams based on goals scored depending on wins and losses.\n",
    "\n",
    "    :param data_df:\n",
    "    :param players:\n",
    "    :param elo:\n",
    "    :return:\n",
    "    \"\"\"\n",
    "    n_games = data_df.shape[0]\n",
    "    # does this work for sparce matrix\n",
    "\n",
    "\n",
    "    print('[INFO] number of games: ', n_games)\n",
    "\n",
    "    bar = progressbar.ProgressBar(widgets=[\n",
    "        ' [', progressbar.Timer(), '] ',\n",
    "        progressbar.Bar(),\n",
    "        ' (', progressbar.ETA(), ') ',\n",
    "    ])\n",
    "\n",
    "    ix = data_df.index\n",
    "    for i in bar(range(n_games)[:]):\n",
    "        match = data_df.iloc[i]\n",
    "        player_home = match.home_team\n",
    "        player_away = match.away_team\n",
    "        hid = np.where(all_teams == player_home)[0][0]\n",
    "        aid = np.where(all_teams == player_away)[0][0]\n",
    "        pair = [players[hid], players[aid]]\n",
    "        res = match.result_final\n",
    "        home_goals = match.home_goals\n",
    "        away_goals = match.away_goals\n",
    "\n",
    "        if res == 0:\n",
    "            for goal_difference in range(int(abs(home_goals-away_goals))):\n",
    "                a, b = elo.match_algo_strict(pair[0], pair[1])\n",
    "\n",
    "            a.ys.append(a.score)\n",
    "            b.ys.append(b.score)\n",
    "            a.index.append(ix[i])\n",
    "            b.index.append(ix[i])\n",
    "        elif res == 2:\n",
    "            for goal_difference in range(int(abs(home_goals-away_goals))):\n",
    "                a, b = elo.match(pair[1], pair[0])\n",
    "\n",
    "            a.ys.append(a.score)\n",
    "            b.ys.append(b.score)\n",
    "            a.index.append(ix[i])\n",
    "            b.index.append(ix[i])\n",
    "        else:\n",
    "            pair[0].ys.append(pair[0].score)\n",
    "            pair[1].ys.append(pair[1].score)\n",
    "            pair[0].index.append(ix[i])\n",
    "            pair[1].index.append(ix[i])\n",
    "\n",
    "    # TODO: convert to pickle. because lossing slashes causes shitstorm.\n",
    "    dfs = []\n",
    "    for pl in players:\n",
    "        df = pd.DataFrame(pl.ys, columns = [pl.name], index=pl.index)\n",
    "        dfs.append(df)\n",
    "        del df\n",
    "    names = [p.name for p in players]\n",
    "    del players\n",
    "    return dfs, names\n",
    "\n",
    "def compute_elo_ratting_dataframe_for_champ_v3(data, champs):\n",
    "    matches_champ = data[data.championship.isin(champs)]\n",
    "    ht = matches_champ.home_team.values\n",
    "    at = matches_champ.away_team.values\n",
    "    all_teams = np.append(ht, at)\n",
    "    all_teams = np.unique(all_teams)\n",
    "    players = [Player(name=p) for p in all_teams]\n",
    "    elo = Elo()\n",
    "    dfs, names = compute_elo_by_goals(matches_champ, players, all_teams, elo)\n",
    "    return dfs, names"
   ]
  },
  {
   "cell_type": "code",
   "execution_count": 515,
   "metadata": {
    "collapsed": true
   },
   "outputs": [],
   "source": [
    "# h5f.close()"
   ]
  },
  {
   "cell_type": "code",
   "execution_count": 516,
   "metadata": {
    "scrolled": true
   },
   "outputs": [
    {
     "name": "stderr",
     "output_type": "stream",
     "text": [
      " [Elapsed Time: 0:00:00] |                                   | (ETA:  0:00:43) "
     ]
    },
    {
     "name": "stdout",
     "output_type": "stream",
     "text": [
      "[FUNCTION]: computing elo by goals.\n",
      "[INFO] number of games:  37498\n"
     ]
    },
    {
     "name": "stderr",
     "output_type": "stream",
     "text": [
      " [Elapsed Time: 0:00:34] |###################################| (Time: 0:00:34) \n",
      " [Elapsed Time: 0:00:00] |                                   | (ETA:  0:00:10) "
     ]
    },
    {
     "name": "stdout",
     "output_type": "stream",
     "text": [
      "[FUNCTION]: computing elo by goals.\n",
      "[INFO] number of games:  10296\n"
     ]
    },
    {
     "name": "stderr",
     "output_type": "stream",
     "text": [
      " [Elapsed Time: 0:00:08] |###################################| (Time: 0:00:08) \n",
      " [Elapsed Time: 0:00:00] |                                   | (ETA:  0:00:08) "
     ]
    },
    {
     "name": "stdout",
     "output_type": "stream",
     "text": [
      "[FUNCTION]: computing elo by goals.\n",
      "[INFO] number of games:  9003\n"
     ]
    },
    {
     "name": "stderr",
     "output_type": "stream",
     "text": [
      " [Elapsed Time: 0:00:08] |###################################| (Time: 0:00:08) \n",
      " [Elapsed Time: 0:00:00] |                                   | (ETA:  0:00:06) "
     ]
    },
    {
     "name": "stdout",
     "output_type": "stream",
     "text": [
      "[FUNCTION]: computing elo by goals.\n",
      "[INFO] number of games:  6325\n"
     ]
    },
    {
     "name": "stderr",
     "output_type": "stream",
     "text": [
      " [Elapsed Time: 0:00:05] |###################################| (Time: 0:00:05) \n",
      " [Elapsed Time: 0:00:00] |#                                  | (ETA:  0:00:04) "
     ]
    },
    {
     "name": "stdout",
     "output_type": "stream",
     "text": [
      "[FUNCTION]: computing elo by goals.\n",
      "[INFO] number of games:  5620\n"
     ]
    },
    {
     "name": "stderr",
     "output_type": "stream",
     "text": [
      " [Elapsed Time: 0:00:04] |###################################| (Time: 0:00:04) \n",
      " [Elapsed Time: 0:00:00] |#                                  | (ETA:  0:00:04) "
     ]
    },
    {
     "name": "stdout",
     "output_type": "stream",
     "text": [
      "[FUNCTION]: computing elo by goals.\n",
      "[INFO] number of games:  5151\n"
     ]
    },
    {
     "name": "stderr",
     "output_type": "stream",
     "text": [
      " [Elapsed Time: 0:00:04] |###################################| (Time: 0:00:04) \n",
      " [Elapsed Time: 0:00:00] |#                                  | (ETA:  0:00:03) "
     ]
    },
    {
     "name": "stdout",
     "output_type": "stream",
     "text": [
      "[FUNCTION]: computing elo by goals.\n",
      "[INFO] number of games:  5026\n"
     ]
    },
    {
     "name": "stderr",
     "output_type": "stream",
     "text": [
      " [Elapsed Time: 0:00:04] |###################################| (Time: 0:00:04) \n",
      " [Elapsed Time: 0:00:00] |#                                  | (ETA:  0:00:02) "
     ]
    },
    {
     "name": "stdout",
     "output_type": "stream",
     "text": [
      "[FUNCTION]: computing elo by goals.\n",
      "[INFO] number of games:  3865\n"
     ]
    },
    {
     "name": "stderr",
     "output_type": "stream",
     "text": [
      " [Elapsed Time: 0:00:03] |###################################| (Time: 0:00:03) \n",
      " [Elapsed Time: 0:00:00] |#                                  | (ETA:  0:00:02) "
     ]
    },
    {
     "name": "stdout",
     "output_type": "stream",
     "text": [
      "[FUNCTION]: computing elo by goals.\n",
      "[INFO] number of games:  3444\n"
     ]
    },
    {
     "name": "stderr",
     "output_type": "stream",
     "text": [
      " [Elapsed Time: 0:00:02] |###################################| (Time: 0:00:02) \n",
      " [Elapsed Time: 0:00:00] |#                                  | (ETA:  0:00:02) "
     ]
    },
    {
     "name": "stdout",
     "output_type": "stream",
     "text": [
      "[FUNCTION]: computing elo by goals.\n",
      "[INFO] number of games:  3434\n"
     ]
    },
    {
     "name": "stderr",
     "output_type": "stream",
     "text": [
      " [Elapsed Time: 0:00:02] |###################################| (Time: 0:00:02) \n",
      " [Elapsed Time: 0:00:00] |#                                  | (ETA:  0:00:02) "
     ]
    },
    {
     "name": "stdout",
     "output_type": "stream",
     "text": [
      "[FUNCTION]: computing elo by goals.\n",
      "[INFO] number of games:  3346\n"
     ]
    },
    {
     "name": "stderr",
     "output_type": "stream",
     "text": [
      " [Elapsed Time: 0:00:02] |###################################| (Time: 0:00:02) \n",
      " [Elapsed Time: 0:00:00] |#                                  | (ETA:  0:00:02) "
     ]
    },
    {
     "name": "stdout",
     "output_type": "stream",
     "text": [
      "[FUNCTION]: computing elo by goals.\n",
      "[INFO] number of games:  3338\n"
     ]
    },
    {
     "name": "stderr",
     "output_type": "stream",
     "text": [
      " [Elapsed Time: 0:00:02] |###################################| (Time: 0:00:02) \n",
      " [Elapsed Time: 0:00:00] |##                                 | (ETA:  0:00:02) "
     ]
    },
    {
     "name": "stdout",
     "output_type": "stream",
     "text": [
      "[FUNCTION]: computing elo by goals.\n",
      "[INFO] number of games:  3228\n"
     ]
    },
    {
     "name": "stderr",
     "output_type": "stream",
     "text": [
      " [Elapsed Time: 0:00:02] |###################################| (Time: 0:00:02) \n",
      " [Elapsed Time: 0:00:00] |##                                 | (ETA:  0:00:01) "
     ]
    },
    {
     "name": "stdout",
     "output_type": "stream",
     "text": [
      "[FUNCTION]: computing elo by goals.\n",
      "[INFO] number of games:  2738\n"
     ]
    },
    {
     "name": "stderr",
     "output_type": "stream",
     "text": [
      " [Elapsed Time: 0:00:02] |###################################| (Time: 0:00:02) \n",
      " [Elapsed Time: 0:00:00] |##                                 | (ETA:  0:00:02) "
     ]
    },
    {
     "name": "stdout",
     "output_type": "stream",
     "text": [
      "[FUNCTION]: computing elo by goals.\n",
      "[INFO] number of games:  2677\n"
     ]
    },
    {
     "name": "stderr",
     "output_type": "stream",
     "text": [
      " [Elapsed Time: 0:00:02] |###################################| (Time: 0:00:02) \n",
      " [Elapsed Time: 0:00:00] |##                                 | (ETA:  0:00:02) "
     ]
    },
    {
     "name": "stdout",
     "output_type": "stream",
     "text": [
      "[FUNCTION]: computing elo by goals.\n",
      "[INFO] number of games:  2669\n"
     ]
    },
    {
     "name": "stderr",
     "output_type": "stream",
     "text": [
      " [Elapsed Time: 0:00:02] |###################################| (Time: 0:00:02) \n",
      " [Elapsed Time: 0:00:00] |###                                | (ETA:  0:00:01) "
     ]
    },
    {
     "name": "stdout",
     "output_type": "stream",
     "text": [
      "[FUNCTION]: computing elo by goals.\n",
      "[INFO] number of games:  2478\n"
     ]
    },
    {
     "name": "stderr",
     "output_type": "stream",
     "text": [
      " [Elapsed Time: 0:00:02] |###################################| (Time: 0:00:02) \n",
      " [Elapsed Time: 0:00:00] |###                                | (ETA:  0:00:01) "
     ]
    },
    {
     "name": "stdout",
     "output_type": "stream",
     "text": [
      "[FUNCTION]: computing elo by goals.\n",
      "[INFO] number of games:  2011\n"
     ]
    },
    {
     "name": "stderr",
     "output_type": "stream",
     "text": [
      " [Elapsed Time: 0:00:01] |###################################| (Time: 0:00:01) \n",
      " [Elapsed Time: 0:00:00] |####                               | (ETA:  0:00:01) "
     ]
    },
    {
     "name": "stdout",
     "output_type": "stream",
     "text": [
      "[FUNCTION]: computing elo by goals.\n",
      "[INFO] number of games:  1861\n"
     ]
    },
    {
     "name": "stderr",
     "output_type": "stream",
     "text": [
      " [Elapsed Time: 0:00:01] |###################################| (Time: 0:00:01) \n",
      " [Elapsed Time: 0:00:00] |###                                | (ETA:  0:00:01) "
     ]
    },
    {
     "name": "stdout",
     "output_type": "stream",
     "text": [
      "[FUNCTION]: computing elo by goals.\n",
      "[INFO] number of games:  1809\n"
     ]
    },
    {
     "name": "stderr",
     "output_type": "stream",
     "text": [
      " [Elapsed Time: 0:00:01] |###################################| (Time: 0:00:01) \n",
      " [Elapsed Time: 0:00:00] |#####                              | (ETA:  0:00:00) "
     ]
    },
    {
     "name": "stdout",
     "output_type": "stream",
     "text": [
      "[FUNCTION]: computing elo by goals.\n",
      "[INFO] number of games:  1508\n"
     ]
    },
    {
     "name": "stderr",
     "output_type": "stream",
     "text": [
      " [Elapsed Time: 0:00:01] |###################################| (Time: 0:00:01) \n",
      " [Elapsed Time: 0:00:00] |####                               | (ETA:  0:00:01) "
     ]
    },
    {
     "name": "stdout",
     "output_type": "stream",
     "text": [
      "[FUNCTION]: computing elo by goals.\n",
      "[INFO] number of games:  1254\n"
     ]
    },
    {
     "name": "stderr",
     "output_type": "stream",
     "text": [
      " [Elapsed Time: 0:00:01] |###################################| (Time: 0:00:01) \n"
     ]
    }
   ],
   "source": [
    "h5f = h5py.File('./temp/'+date+'.h5','w')\n",
    "for champ in champs[:]:\n",
    "    h5f.create_group(champ)\n",
    "    elo_dfs, teams = compute_elo_ratting_dataframe_for_champ_v3(training_data, [champ])\n",
    "    for t, team in enumerate(teams):\n",
    "        ix,vals = elo_dfs[t].index.values,elo_dfs[t].values.reshape(-1)\n",
    "        h5f.create_dataset(champ+'/'+team, data=np.array([ix,vals]))\n",
    "h5f.close()"
   ]
  },
  {
   "cell_type": "code",
   "execution_count": null,
   "metadata": {
    "collapsed": true
   },
   "outputs": [],
   "source": []
  },
  {
   "cell_type": "code",
   "execution_count": null,
   "metadata": {
    "collapsed": true
   },
   "outputs": [],
   "source": []
  },
  {
   "cell_type": "code",
   "execution_count": null,
   "metadata": {
    "collapsed": true
   },
   "outputs": [],
   "source": []
  },
  {
   "cell_type": "code",
   "execution_count": null,
   "metadata": {
    "collapsed": true
   },
   "outputs": [],
   "source": []
  },
  {
   "cell_type": "code",
   "execution_count": null,
   "metadata": {
    "collapsed": true
   },
   "outputs": [],
   "source": []
  },
  {
   "cell_type": "code",
   "execution_count": null,
   "metadata": {
    "collapsed": true
   },
   "outputs": [],
   "source": []
  },
  {
   "cell_type": "code",
   "execution_count": null,
   "metadata": {
    "collapsed": true
   },
   "outputs": [],
   "source": []
  },
  {
   "cell_type": "code",
   "execution_count": null,
   "metadata": {
    "collapsed": true
   },
   "outputs": [],
   "source": []
  },
  {
   "cell_type": "code",
   "execution_count": null,
   "metadata": {
    "collapsed": true
   },
   "outputs": [],
   "source": []
  },
  {
   "cell_type": "code",
   "execution_count": null,
   "metadata": {
    "collapsed": true
   },
   "outputs": [],
   "source": []
  },
  {
   "cell_type": "code",
   "execution_count": null,
   "metadata": {
    "collapsed": true
   },
   "outputs": [],
   "source": []
  },
  {
   "cell_type": "code",
   "execution_count": null,
   "metadata": {
    "collapsed": true
   },
   "outputs": [],
   "source": []
  },
  {
   "cell_type": "code",
   "execution_count": null,
   "metadata": {
    "collapsed": true
   },
   "outputs": [],
   "source": []
  },
  {
   "cell_type": "code",
   "execution_count": null,
   "metadata": {
    "collapsed": true
   },
   "outputs": [],
   "source": []
  },
  {
   "cell_type": "code",
   "execution_count": 517,
   "metadata": {
    "collapsed": true
   },
   "outputs": [],
   "source": [
    "h5f = h5py.File('./temp/'+date+'.h5','r')"
   ]
  },
  {
   "cell_type": "code",
   "execution_count": 518,
   "metadata": {},
   "outputs": [
    {
     "name": "stdout",
     "output_type": "stream",
     "text": [
      "0\n"
     ]
    },
    {
     "name": "stderr",
     "output_type": "stream",
     "text": [
      "/home/kasper/PycharmProjects/venv/lib/python3.5/site-packages/ipykernel_launcher.py:17: UserWarning: Boolean Series key will be reindexed to match DataFrame index.\n"
     ]
    },
    {
     "name": "stdout",
     "output_type": "stream",
     "text": [
      "1\n",
      "2\n",
      "3\n",
      "4\n",
      "5\n",
      "6\n",
      "7\n",
      "8\n",
      "9\n",
      "10\n",
      "11\n",
      "12\n"
     ]
    }
   ],
   "source": [
    "# i=0\n",
    "gs = []\n",
    "for i in range(final_matches.shape[0]):\n",
    "    try:\n",
    "        print(i)\n",
    "        ch = final_matches.championship.values[i]\n",
    "        ht = final_matches.home_team.values[i]\n",
    "        at = final_matches.away_team.values[i]\n",
    "\n",
    "        home_elo = pd.DataFrame(h5f[ch][ht][1][:], index=h5f[ch][ht][0][:].astype(int))\n",
    "        away_elo = pd.DataFrame(h5f[ch][at][1][:], index=h5f[ch][at][0][:].astype(int))\n",
    "\n",
    "        hte = training_data.loc[home_elo.index]\n",
    "        ate = training_data.loc[away_elo.index]\n",
    "\n",
    "\n",
    "        a = hte[(hte.home_team==ht) & ((ate.away_team==at))]\n",
    "\n",
    "        g = pd.concat([home_elo.loc[a.index],away_elo.loc[a.index],a.result_final],axis=1)\n",
    "        g.columns = ['he','ae','rf']\n",
    "\n",
    "        g['check'] = g.he > g.ae\n",
    "        gs.append(g)\n",
    "        \n",
    "    except Exception as e:\n",
    "        print(e)\n",
    "        pass"
   ]
  },
  {
   "cell_type": "code",
   "execution_count": 519,
   "metadata": {
    "collapsed": true
   },
   "outputs": [],
   "source": [
    "h5f.close()"
   ]
  },
  {
   "cell_type": "code",
   "execution_count": 520,
   "metadata": {},
   "outputs": [
    {
     "data": {
      "text/plain": [
       "[                he          ae   rf  check\n",
       " 1595882  52.128649   59.797515  2.0  False\n",
       " 1799253  97.073760  102.459674  0.0  False, Empty DataFrame\n",
       " Columns: [he, ae, rf, check]\n",
       " Index: [],                  he         ae   rf check\n",
       " 926534    68.200344  60.319110  0.0  True\n",
       " 1901838  107.552436  54.796629  2.0  True,                he         ae   rf check\n",
       " 711082  56.406508  12.981062  0.0  True,                  he          ae   rf  check\n",
       " 21501    123.584755  178.247869  0.0  False\n",
       " 32998    133.135228  154.218905  1.0  False\n",
       " 70451    143.447612  337.208560  2.0  False\n",
       " 91893    102.413661  368.521889  2.0  False\n",
       " 129587   131.342931  362.924677  0.0  False\n",
       " 209080   145.452852  358.945458  2.0  False\n",
       " 270719   146.892064  367.772849  2.0  False\n",
       " 358010   188.260638  407.438019  0.0  False\n",
       " 484664   163.912463  411.752206  1.0  False\n",
       " 570172   109.595148  413.365320  2.0  False\n",
       " 1282578   37.773127  592.943865  2.0  False\n",
       " 1502208   92.408014  644.696845  2.0  False\n",
       " 1646271   74.616134  666.822213  2.0  False\n",
       " 1797416   75.349056  700.744357  2.0  False,                  he          ae   rf  check\n",
       " 250062    90.498308   90.001033  0.0   True\n",
       " 342169    78.038160  143.825127  1.0  False\n",
       " 377967    80.402351  153.905193  2.0  False\n",
       " 452309    79.364843  171.734145  0.0  False\n",
       " 510864    95.104308  178.851984  1.0  False\n",
       " 575102   109.295077  257.912626  2.0  False\n",
       " 626461    91.628043  278.876875  2.0  False\n",
       " 736121    97.297953  282.539808  2.0  False\n",
       " 785499   113.541872  287.824068  1.0  False\n",
       " 866974   130.340729  304.802010  2.0  False\n",
       " 925220   132.404944  287.840691  2.0  False\n",
       " 1066095  163.452062  249.628807  1.0  False\n",
       " 1142185  163.784350  233.314332  0.0  False\n",
       " 1287985  179.714219  221.423538  2.0  False\n",
       " 1392363  216.709067  188.522203  0.0   True\n",
       " 1602546  292.095183  198.117802  2.0   True\n",
       " 1642675  312.781057  141.174784  1.0   True\n",
       " 1807262  308.218390  196.670896  1.0   True\n",
       " 2092174  374.962930  242.564406  1.0   True\n",
       " 2092187  374.962930  242.564406  1.0   True,                  he          ae   rf  check\n",
       " 1007005  100.000000   11.789545  1.0   True\n",
       " 1406509   21.157605    9.742672  0.0   True\n",
       " 1702868   70.285086  151.162456  1.0  False\n",
       " 1782513   79.826816  114.270723  2.0  False, Empty DataFrame\n",
       " Columns: [he, ae, rf, check]\n",
       " Index: [],                  he          ae   rf  check\n",
       " 1756108  138.965482  199.455981  0.0  False,                  he          ae   rf  check\n",
       " 261079    59.557686  155.899289  1.0  False\n",
       " 322987   127.225625  159.182710  1.0  False\n",
       " 527737   137.378559  118.981210  2.0   True\n",
       " 591731   157.567830   79.423753  2.0   True\n",
       " 758797   128.856773   71.450116  1.0   True\n",
       " 1612187  189.148037   29.331624  1.0   True\n",
       " 1741792  142.393454   70.930632  0.0   True, Empty DataFrame\n",
       " Columns: [he, ae, rf, check]\n",
       " Index: [], Empty DataFrame\n",
       " Columns: [he, ae, rf, check]\n",
       " Index: [],                  he          ae   rf check\n",
       " 763780    98.211517   68.853037  1.0  True\n",
       " 1163316  125.025900   81.950425  1.0  True\n",
       " 1536367  185.464345  160.699374  0.0  True\n",
       " 1633831  200.578781  157.781659  0.0  True\n",
       " 1811954  242.270568  189.138823  1.0  True]"
      ]
     },
     "execution_count": 520,
     "metadata": {},
     "output_type": "execute_result"
    }
   ],
   "source": [
    "gs"
   ]
  },
  {
   "cell_type": "code",
   "execution_count": 521,
   "metadata": {},
   "outputs": [],
   "source": [
    "dfa = pd.concat(gs)"
   ]
  },
  {
   "cell_type": "code",
   "execution_count": 522,
   "metadata": {},
   "outputs": [
    {
     "data": {
      "text/plain": [
       "(56, 4)"
      ]
     },
     "execution_count": 522,
     "metadata": {},
     "output_type": "execute_result"
    }
   ],
   "source": [
    "dfa.shape"
   ]
  },
  {
   "cell_type": "code",
   "execution_count": 523,
   "metadata": {
    "collapsed": true
   },
   "outputs": [],
   "source": [
    "from sklearn.model_selection import train_test_split"
   ]
  },
  {
   "cell_type": "code",
   "execution_count": 524,
   "metadata": {
    "collapsed": true
   },
   "outputs": [],
   "source": [
    "from sklearn import svm"
   ]
  },
  {
   "cell_type": "code",
   "execution_count": 525,
   "metadata": {
    "collapsed": true
   },
   "outputs": [],
   "source": [
    "from sklearn import linear_model\n",
    "\n"
   ]
  },
  {
   "cell_type": "code",
   "execution_count": 526,
   "metadata": {},
   "outputs": [],
   "source": [
    "X_train, X_test, y_train, y_test = train_test_split(dfa[['he','ae']], dfa.rf.values, test_size=0.25, random_state=0)"
   ]
  },
  {
   "cell_type": "code",
   "execution_count": 527,
   "metadata": {},
   "outputs": [
    {
     "data": {
      "text/plain": [
       "LogisticRegression(C=100000.0, class_weight=None, dual=False,\n",
       "          fit_intercept=True, intercept_scaling=1, max_iter=100,\n",
       "          multi_class='ovr', n_jobs=1, penalty='l2', random_state=None,\n",
       "          solver='liblinear', tol=0.0001, verbose=0, warm_start=False)"
      ]
     },
     "execution_count": 527,
     "metadata": {},
     "output_type": "execute_result"
    }
   ],
   "source": [
    "# clf = svm.SVC(kernel='linear', C=1)\n",
    "clf = linear_model.LogisticRegression(C=1e5)\n",
    "clf.fit(X_train, y_train)"
   ]
  },
  {
   "cell_type": "code",
   "execution_count": 528,
   "metadata": {},
   "outputs": [
    {
     "data": {
      "text/plain": [
       "0.42857142857142855"
      ]
     },
     "execution_count": 528,
     "metadata": {},
     "output_type": "execute_result"
    }
   ],
   "source": [
    "clf.score(X_test, y_test)                           "
   ]
  },
  {
   "cell_type": "code",
   "execution_count": 529,
   "metadata": {
    "collapsed": true
   },
   "outputs": [],
   "source": [
    "from sklearn.model_selection import cross_val_score"
   ]
  },
  {
   "cell_type": "code",
   "execution_count": 530,
   "metadata": {
    "collapsed": true
   },
   "outputs": [],
   "source": [
    "from sklearn.model_selection import cross_validate"
   ]
  },
  {
   "cell_type": "code",
   "execution_count": 531,
   "metadata": {
    "collapsed": true
   },
   "outputs": [],
   "source": [
    "clf = svm.SVC(kernel='linear', C=1)"
   ]
  },
  {
   "cell_type": "code",
   "execution_count": 532,
   "metadata": {},
   "outputs": [],
   "source": [
    "scoring = ['precision_macro', 'recall_macro']\n",
    "scores = cross_validate(clf, dfa[['he','ae']], dfa.rf, cv=3,scoring=scoring)"
   ]
  },
  {
   "cell_type": "code",
   "execution_count": 533,
   "metadata": {},
   "outputs": [
    {
     "name": "stderr",
     "output_type": "stream",
     "text": [
      "/home/kasper/PycharmProjects/venv/lib/python3.5/site-packages/sklearn/utils/deprecation.py:122: FutureWarning: You are accessing a training score ('train_precision_macro'), which will not be available by default any more in 0.21. If you need training scores, please set return_train_score=True\n",
      "  warnings.warn(*warn_args, **warn_kwargs)\n",
      "/home/kasper/PycharmProjects/venv/lib/python3.5/site-packages/sklearn/utils/deprecation.py:122: FutureWarning: You are accessing a training score ('train_recall_macro'), which will not be available by default any more in 0.21. If you need training scores, please set return_train_score=True\n",
      "  warnings.warn(*warn_args, **warn_kwargs)\n"
     ]
    },
    {
     "data": {
      "text/plain": [
       "{'fit_time': array([0.11748171, 0.0967288 , 0.12554026]),\n",
       " 'score_time': array([0.00306296, 0.00308919, 0.00301528]),\n",
       " 'test_precision_macro': array([0.34848485, 0.61111111, 0.45555556]),\n",
       " 'test_recall_macro': array([0.36428571, 0.58571429, 0.28412698]),\n",
       " 'train_precision_macro': array([0.44444444, 0.50543024, 0.61416361]),\n",
       " 'train_recall_macro': array([0.47380952, 0.48290598, 0.59487179])}"
      ]
     },
     "execution_count": 533,
     "metadata": {},
     "output_type": "execute_result"
    }
   ],
   "source": [
    "scores"
   ]
  },
  {
   "cell_type": "raw",
   "metadata": {},
   "source": [
    "import numpy as np\n",
    "import matplotlib.pyplot as plt\n",
    "from sklearn import linear_model, datasets\n",
    "\n",
    "# import some data to play with\n",
    "iris = datasets.load_iris()\n",
    "X = iris.data[:, :2]  # we only take the first two features.\n",
    "Y = iris.target\n",
    "\n",
    "h = .02  # step size in the mesh\n",
    "\n",
    "logreg = linear_model.LogisticRegression(C=1e5)\n",
    "\n",
    "# we create an instance of Neighbours Classifier and fit the data.\n",
    "logreg.fit(X, Y)\n",
    "\n",
    "# Plot the decision boundary. For that, we will assign a color to each\n",
    "# point in the mesh [x_min, x_max]x[y_min, y_max].\n",
    "x_min, x_max = X[:, 0].min() - .5, X[:, 0].max() + .5\n",
    "y_min, y_max = X[:, 1].min() - .5, X[:, 1].max() + .5\n",
    "xx, yy = np.meshgrid(np.arange(x_min, x_max, h), np.arange(y_min, y_max, h))\n",
    "Z = logreg.predict(np.c_[xx.ravel(), yy.ravel()])\n",
    "\n",
    "# Put the result into a color plot\n",
    "Z = Z.reshape(xx.shape)\n",
    "plt.figure(1, figsize=(4, 3))\n",
    "plt.pcolormesh(xx, yy, Z, cmap=plt.cm.Paired)\n",
    "\n",
    "# Plot also the training points\n",
    "plt.scatter(X[:, 0], X[:, 1], c=Y, edgecolors='k', cmap=plt.cm.Paired)\n",
    "plt.xlabel('Sepal length')\n",
    "plt.ylabel('Sepal width')\n",
    "\n",
    "plt.xlim(xx.min(), xx.max())\n",
    "plt.ylim(yy.min(), yy.max())\n",
    "plt.xticks(())\n",
    "plt.yticks(())\n",
    "\n",
    "plt.show()"
   ]
  },
  {
   "cell_type": "code",
   "execution_count": 376,
   "metadata": {},
   "outputs": [
    {
     "data": {
      "text/html": [
       "<div>\n",
       "<table border=\"1\" class=\"dataframe\">\n",
       "  <thead>\n",
       "    <tr style=\"text-align: right;\">\n",
       "      <th></th>\n",
       "      <th>he</th>\n",
       "      <th>ae</th>\n",
       "      <th>rf</th>\n",
       "      <th>check</th>\n",
       "    </tr>\n",
       "  </thead>\n",
       "  <tbody>\n",
       "    <tr>\n",
       "      <th>1014</th>\n",
       "      <td>95.000000</td>\n",
       "      <td>105.000000</td>\n",
       "      <td>2.0</td>\n",
       "      <td>False</td>\n",
       "    </tr>\n",
       "    <tr>\n",
       "      <th>16807</th>\n",
       "      <td>244.639153</td>\n",
       "      <td>75.892815</td>\n",
       "      <td>0.0</td>\n",
       "      <td>True</td>\n",
       "    </tr>\n",
       "    <tr>\n",
       "      <th>24786</th>\n",
       "      <td>293.970142</td>\n",
       "      <td>91.306364</td>\n",
       "      <td>0.0</td>\n",
       "      <td>True</td>\n",
       "    </tr>\n",
       "    <tr>\n",
       "      <th>29607</th>\n",
       "      <td>296.355943</td>\n",
       "      <td>95.453030</td>\n",
       "      <td>0.0</td>\n",
       "      <td>True</td>\n",
       "    </tr>\n",
       "    <tr>\n",
       "      <th>40152</th>\n",
       "      <td>353.178793</td>\n",
       "      <td>80.718458</td>\n",
       "      <td>0.0</td>\n",
       "      <td>True</td>\n",
       "    </tr>\n",
       "    <tr>\n",
       "      <th>61250</th>\n",
       "      <td>413.042751</td>\n",
       "      <td>81.881285</td>\n",
       "      <td>0.0</td>\n",
       "      <td>True</td>\n",
       "    </tr>\n",
       "    <tr>\n",
       "      <th>70609</th>\n",
       "      <td>426.641511</td>\n",
       "      <td>108.765897</td>\n",
       "      <td>0.0</td>\n",
       "      <td>True</td>\n",
       "    </tr>\n",
       "    <tr>\n",
       "      <th>83428</th>\n",
       "      <td>452.753556</td>\n",
       "      <td>95.914657</td>\n",
       "      <td>0.0</td>\n",
       "      <td>True</td>\n",
       "    </tr>\n",
       "    <tr>\n",
       "      <th>96932</th>\n",
       "      <td>502.741534</td>\n",
       "      <td>108.347757</td>\n",
       "      <td>1.0</td>\n",
       "      <td>True</td>\n",
       "    </tr>\n",
       "    <tr>\n",
       "      <th>119664</th>\n",
       "      <td>506.030196</td>\n",
       "      <td>93.017785</td>\n",
       "      <td>0.0</td>\n",
       "      <td>True</td>\n",
       "    </tr>\n",
       "    <tr>\n",
       "      <th>143689</th>\n",
       "      <td>480.537279</td>\n",
       "      <td>125.426430</td>\n",
       "      <td>2.0</td>\n",
       "      <td>True</td>\n",
       "    </tr>\n",
       "    <tr>\n",
       "      <th>179453</th>\n",
       "      <td>475.718913</td>\n",
       "      <td>144.832860</td>\n",
       "      <td>1.0</td>\n",
       "      <td>True</td>\n",
       "    </tr>\n",
       "    <tr>\n",
       "      <th>210561</th>\n",
       "      <td>514.728090</td>\n",
       "      <td>154.881701</td>\n",
       "      <td>0.0</td>\n",
       "      <td>True</td>\n",
       "    </tr>\n",
       "    <tr>\n",
       "      <th>256635</th>\n",
       "      <td>503.923428</td>\n",
       "      <td>214.155455</td>\n",
       "      <td>0.0</td>\n",
       "      <td>True</td>\n",
       "    </tr>\n",
       "    <tr>\n",
       "      <th>296543</th>\n",
       "      <td>485.660248</td>\n",
       "      <td>202.489056</td>\n",
       "      <td>2.0</td>\n",
       "      <td>True</td>\n",
       "    </tr>\n",
       "    <tr>\n",
       "      <th>370138</th>\n",
       "      <td>467.943782</td>\n",
       "      <td>238.982666</td>\n",
       "      <td>0.0</td>\n",
       "      <td>True</td>\n",
       "    </tr>\n",
       "    <tr>\n",
       "      <th>574269</th>\n",
       "      <td>461.050051</td>\n",
       "      <td>187.198750</td>\n",
       "      <td>0.0</td>\n",
       "      <td>True</td>\n",
       "    </tr>\n",
       "    <tr>\n",
       "      <th>624632</th>\n",
       "      <td>434.742438</td>\n",
       "      <td>180.569858</td>\n",
       "      <td>0.0</td>\n",
       "      <td>True</td>\n",
       "    </tr>\n",
       "    <tr>\n",
       "      <th>765936</th>\n",
       "      <td>464.075982</td>\n",
       "      <td>212.525625</td>\n",
       "      <td>0.0</td>\n",
       "      <td>True</td>\n",
       "    </tr>\n",
       "    <tr>\n",
       "      <th>980140</th>\n",
       "      <td>495.207197</td>\n",
       "      <td>173.885452</td>\n",
       "      <td>0.0</td>\n",
       "      <td>True</td>\n",
       "    </tr>\n",
       "    <tr>\n",
       "      <th>1039737</th>\n",
       "      <td>490.441210</td>\n",
       "      <td>188.523093</td>\n",
       "      <td>0.0</td>\n",
       "      <td>True</td>\n",
       "    </tr>\n",
       "    <tr>\n",
       "      <th>1254909</th>\n",
       "      <td>512.239906</td>\n",
       "      <td>160.382866</td>\n",
       "      <td>0.0</td>\n",
       "      <td>True</td>\n",
       "    </tr>\n",
       "    <tr>\n",
       "      <th>1584245</th>\n",
       "      <td>561.601366</td>\n",
       "      <td>163.812524</td>\n",
       "      <td>1.0</td>\n",
       "      <td>True</td>\n",
       "    </tr>\n",
       "    <tr>\n",
       "      <th>1679700</th>\n",
       "      <td>578.312538</td>\n",
       "      <td>204.372103</td>\n",
       "      <td>0.0</td>\n",
       "      <td>True</td>\n",
       "    </tr>\n",
       "    <tr>\n",
       "      <th>1840435</th>\n",
       "      <td>606.470351</td>\n",
       "      <td>220.519960</td>\n",
       "      <td>0.0</td>\n",
       "      <td>True</td>\n",
       "    </tr>\n",
       "    <tr>\n",
       "      <th>1913649</th>\n",
       "      <td>636.033954</td>\n",
       "      <td>209.921465</td>\n",
       "      <td>0.0</td>\n",
       "      <td>True</td>\n",
       "    </tr>\n",
       "    <tr>\n",
       "      <th>1938852</th>\n",
       "      <td>638.761227</td>\n",
       "      <td>207.194192</td>\n",
       "      <td>0.0</td>\n",
       "      <td>True</td>\n",
       "    </tr>\n",
       "    <tr>\n",
       "      <th>864445</th>\n",
       "      <td>-14.241130</td>\n",
       "      <td>203.348193</td>\n",
       "      <td>0.0</td>\n",
       "      <td>False</td>\n",
       "    </tr>\n",
       "    <tr>\n",
       "      <th>932491</th>\n",
       "      <td>-31.799297</td>\n",
       "      <td>138.891915</td>\n",
       "      <td>2.0</td>\n",
       "      <td>False</td>\n",
       "    </tr>\n",
       "    <tr>\n",
       "      <th>1073586</th>\n",
       "      <td>22.330011</td>\n",
       "      <td>109.709362</td>\n",
       "      <td>1.0</td>\n",
       "      <td>False</td>\n",
       "    </tr>\n",
       "    <tr>\n",
       "      <th>...</th>\n",
       "      <td>...</td>\n",
       "      <td>...</td>\n",
       "      <td>...</td>\n",
       "      <td>...</td>\n",
       "    </tr>\n",
       "    <tr>\n",
       "      <th>1412558</th>\n",
       "      <td>466.982052</td>\n",
       "      <td>308.095366</td>\n",
       "      <td>1.0</td>\n",
       "      <td>True</td>\n",
       "    </tr>\n",
       "    <tr>\n",
       "      <th>1640403</th>\n",
       "      <td>467.370254</td>\n",
       "      <td>287.772626</td>\n",
       "      <td>0.0</td>\n",
       "      <td>True</td>\n",
       "    </tr>\n",
       "    <tr>\n",
       "      <th>1768620</th>\n",
       "      <td>497.663542</td>\n",
       "      <td>274.505448</td>\n",
       "      <td>0.0</td>\n",
       "      <td>True</td>\n",
       "    </tr>\n",
       "    <tr>\n",
       "      <th>129142</th>\n",
       "      <td>148.855493</td>\n",
       "      <td>98.894636</td>\n",
       "      <td>0.0</td>\n",
       "      <td>True</td>\n",
       "    </tr>\n",
       "    <tr>\n",
       "      <th>1800337</th>\n",
       "      <td>69.960826</td>\n",
       "      <td>-6.963003</td>\n",
       "      <td>1.0</td>\n",
       "      <td>True</td>\n",
       "    </tr>\n",
       "    <tr>\n",
       "      <th>522391</th>\n",
       "      <td>160.854099</td>\n",
       "      <td>190.725244</td>\n",
       "      <td>2.0</td>\n",
       "      <td>False</td>\n",
       "    </tr>\n",
       "    <tr>\n",
       "      <th>1484951</th>\n",
       "      <td>145.204438</td>\n",
       "      <td>156.305422</td>\n",
       "      <td>2.0</td>\n",
       "      <td>False</td>\n",
       "    </tr>\n",
       "    <tr>\n",
       "      <th>1634343</th>\n",
       "      <td>131.860659</td>\n",
       "      <td>169.065706</td>\n",
       "      <td>2.0</td>\n",
       "      <td>False</td>\n",
       "    </tr>\n",
       "    <tr>\n",
       "      <th>1758674</th>\n",
       "      <td>161.228788</td>\n",
       "      <td>93.560581</td>\n",
       "      <td>0.0</td>\n",
       "      <td>True</td>\n",
       "    </tr>\n",
       "    <tr>\n",
       "      <th>428502</th>\n",
       "      <td>107.559587</td>\n",
       "      <td>90.822578</td>\n",
       "      <td>2.0</td>\n",
       "      <td>True</td>\n",
       "    </tr>\n",
       "    <tr>\n",
       "      <th>629086</th>\n",
       "      <td>40.001301</td>\n",
       "      <td>152.925135</td>\n",
       "      <td>2.0</td>\n",
       "      <td>False</td>\n",
       "    </tr>\n",
       "    <tr>\n",
       "      <th>1117377</th>\n",
       "      <td>33.825577</td>\n",
       "      <td>152.021218</td>\n",
       "      <td>2.0</td>\n",
       "      <td>False</td>\n",
       "    </tr>\n",
       "    <tr>\n",
       "      <th>1249275</th>\n",
       "      <td>-9.335604</td>\n",
       "      <td>213.314585</td>\n",
       "      <td>2.0</td>\n",
       "      <td>False</td>\n",
       "    </tr>\n",
       "    <tr>\n",
       "      <th>1109241</th>\n",
       "      <td>186.379890</td>\n",
       "      <td>259.973303</td>\n",
       "      <td>0.0</td>\n",
       "      <td>False</td>\n",
       "    </tr>\n",
       "    <tr>\n",
       "      <th>1246427</th>\n",
       "      <td>246.943990</td>\n",
       "      <td>226.112269</td>\n",
       "      <td>0.0</td>\n",
       "      <td>True</td>\n",
       "    </tr>\n",
       "    <tr>\n",
       "      <th>1455821</th>\n",
       "      <td>301.381910</td>\n",
       "      <td>175.684164</td>\n",
       "      <td>1.0</td>\n",
       "      <td>True</td>\n",
       "    </tr>\n",
       "    <tr>\n",
       "      <th>1641455</th>\n",
       "      <td>310.233694</td>\n",
       "      <td>267.550963</td>\n",
       "      <td>2.0</td>\n",
       "      <td>True</td>\n",
       "    </tr>\n",
       "    <tr>\n",
       "      <th>1756877</th>\n",
       "      <td>246.755139</td>\n",
       "      <td>284.858981</td>\n",
       "      <td>0.0</td>\n",
       "      <td>False</td>\n",
       "    </tr>\n",
       "    <tr>\n",
       "      <th>17338</th>\n",
       "      <td>137.256998</td>\n",
       "      <td>131.997746</td>\n",
       "      <td>2.0</td>\n",
       "      <td>True</td>\n",
       "    </tr>\n",
       "    <tr>\n",
       "      <th>43857</th>\n",
       "      <td>204.628598</td>\n",
       "      <td>203.729954</td>\n",
       "      <td>0.0</td>\n",
       "      <td>True</td>\n",
       "    </tr>\n",
       "    <tr>\n",
       "      <th>63476</th>\n",
       "      <td>248.466835</td>\n",
       "      <td>208.737392</td>\n",
       "      <td>0.0</td>\n",
       "      <td>True</td>\n",
       "    </tr>\n",
       "    <tr>\n",
       "      <th>84192</th>\n",
       "      <td>258.212664</td>\n",
       "      <td>219.699581</td>\n",
       "      <td>1.0</td>\n",
       "      <td>True</td>\n",
       "    </tr>\n",
       "    <tr>\n",
       "      <th>132970</th>\n",
       "      <td>224.605911</td>\n",
       "      <td>260.965266</td>\n",
       "      <td>0.0</td>\n",
       "      <td>False</td>\n",
       "    </tr>\n",
       "    <tr>\n",
       "      <th>208159</th>\n",
       "      <td>150.489514</td>\n",
       "      <td>209.715195</td>\n",
       "      <td>0.0</td>\n",
       "      <td>False</td>\n",
       "    </tr>\n",
       "    <tr>\n",
       "      <th>246473</th>\n",
       "      <td>134.444758</td>\n",
       "      <td>205.660487</td>\n",
       "      <td>2.0</td>\n",
       "      <td>False</td>\n",
       "    </tr>\n",
       "    <tr>\n",
       "      <th>361766</th>\n",
       "      <td>52.480708</td>\n",
       "      <td>166.689637</td>\n",
       "      <td>2.0</td>\n",
       "      <td>False</td>\n",
       "    </tr>\n",
       "    <tr>\n",
       "      <th>701888</th>\n",
       "      <td>-1.335439</td>\n",
       "      <td>232.700864</td>\n",
       "      <td>2.0</td>\n",
       "      <td>False</td>\n",
       "    </tr>\n",
       "    <tr>\n",
       "      <th>805437</th>\n",
       "      <td>52.895457</td>\n",
       "      <td>188.572445</td>\n",
       "      <td>0.0</td>\n",
       "      <td>False</td>\n",
       "    </tr>\n",
       "    <tr>\n",
       "      <th>938995</th>\n",
       "      <td>50.379497</td>\n",
       "      <td>267.615358</td>\n",
       "      <td>1.0</td>\n",
       "      <td>False</td>\n",
       "    </tr>\n",
       "    <tr>\n",
       "      <th>1041369</th>\n",
       "      <td>54.032085</td>\n",
       "      <td>310.100029</td>\n",
       "      <td>1.0</td>\n",
       "      <td>False</td>\n",
       "    </tr>\n",
       "  </tbody>\n",
       "</table>\n",
       "<p>126 rows × 4 columns</p>\n",
       "</div>"
      ],
      "text/plain": [
       "                 he          ae   rf  check\n",
       "1014      95.000000  105.000000  2.0  False\n",
       "16807    244.639153   75.892815  0.0   True\n",
       "24786    293.970142   91.306364  0.0   True\n",
       "29607    296.355943   95.453030  0.0   True\n",
       "40152    353.178793   80.718458  0.0   True\n",
       "61250    413.042751   81.881285  0.0   True\n",
       "70609    426.641511  108.765897  0.0   True\n",
       "83428    452.753556   95.914657  0.0   True\n",
       "96932    502.741534  108.347757  1.0   True\n",
       "119664   506.030196   93.017785  0.0   True\n",
       "143689   480.537279  125.426430  2.0   True\n",
       "179453   475.718913  144.832860  1.0   True\n",
       "210561   514.728090  154.881701  0.0   True\n",
       "256635   503.923428  214.155455  0.0   True\n",
       "296543   485.660248  202.489056  2.0   True\n",
       "370138   467.943782  238.982666  0.0   True\n",
       "574269   461.050051  187.198750  0.0   True\n",
       "624632   434.742438  180.569858  0.0   True\n",
       "765936   464.075982  212.525625  0.0   True\n",
       "980140   495.207197  173.885452  0.0   True\n",
       "1039737  490.441210  188.523093  0.0   True\n",
       "1254909  512.239906  160.382866  0.0   True\n",
       "1584245  561.601366  163.812524  1.0   True\n",
       "1679700  578.312538  204.372103  0.0   True\n",
       "1840435  606.470351  220.519960  0.0   True\n",
       "1913649  636.033954  209.921465  0.0   True\n",
       "1938852  638.761227  207.194192  0.0   True\n",
       "864445   -14.241130  203.348193  0.0  False\n",
       "932491   -31.799297  138.891915  2.0  False\n",
       "1073586   22.330011  109.709362  1.0  False\n",
       "...             ...         ...  ...    ...\n",
       "1412558  466.982052  308.095366  1.0   True\n",
       "1640403  467.370254  287.772626  0.0   True\n",
       "1768620  497.663542  274.505448  0.0   True\n",
       "129142   148.855493   98.894636  0.0   True\n",
       "1800337   69.960826   -6.963003  1.0   True\n",
       "522391   160.854099  190.725244  2.0  False\n",
       "1484951  145.204438  156.305422  2.0  False\n",
       "1634343  131.860659  169.065706  2.0  False\n",
       "1758674  161.228788   93.560581  0.0   True\n",
       "428502   107.559587   90.822578  2.0   True\n",
       "629086    40.001301  152.925135  2.0  False\n",
       "1117377   33.825577  152.021218  2.0  False\n",
       "1249275   -9.335604  213.314585  2.0  False\n",
       "1109241  186.379890  259.973303  0.0  False\n",
       "1246427  246.943990  226.112269  0.0   True\n",
       "1455821  301.381910  175.684164  1.0   True\n",
       "1641455  310.233694  267.550963  2.0   True\n",
       "1756877  246.755139  284.858981  0.0  False\n",
       "17338    137.256998  131.997746  2.0   True\n",
       "43857    204.628598  203.729954  0.0   True\n",
       "63476    248.466835  208.737392  0.0   True\n",
       "84192    258.212664  219.699581  1.0   True\n",
       "132970   224.605911  260.965266  0.0  False\n",
       "208159   150.489514  209.715195  0.0  False\n",
       "246473   134.444758  205.660487  2.0  False\n",
       "361766    52.480708  166.689637  2.0  False\n",
       "701888    -1.335439  232.700864  2.0  False\n",
       "805437    52.895457  188.572445  0.0  False\n",
       "938995    50.379497  267.615358  1.0  False\n",
       "1041369   54.032085  310.100029  1.0  False\n",
       "\n",
       "[126 rows x 4 columns]"
      ]
     },
     "execution_count": 376,
     "metadata": {},
     "output_type": "execute_result"
    }
   ],
   "source": []
  },
  {
   "cell_type": "code",
   "execution_count": 371,
   "metadata": {},
   "outputs": [
    {
     "data": {
      "text/plain": [
       "<matplotlib.axes._subplots.AxesSubplot at 0x7f14b43be9e8>"
      ]
     },
     "execution_count": 371,
     "metadata": {},
     "output_type": "execute_result"
    },
    {
     "data": {
      "image/png": "[encoded data removed]",
      "text/plain": [
       "<matplotlib.figure.Figure at 0x7f14b2292da0>"
      ]
     },
     "metadata": {},
     "output_type": "display_data"
    }
   ],
   "source": [
    "g.groupby(['rf','check']).size().plot(kind='bar')"
   ]
  },
  {
   "cell_type": "code",
   "execution_count": 339,
   "metadata": {},
   "outputs": [
    {
     "data": {
      "text/plain": [
       "<matplotlib.axes._subplots.AxesSubplot at 0x7f14b4334160>"
      ]
     },
     "execution_count": 339,
     "metadata": {},
     "output_type": "execute_result"
    },
    {
     "data": {
      "image/png": "[encoded data removed]",
      "text/plain": [
       "<matplotlib.figure.Figure at 0x7f14b606e080>"
      ]
     },
     "metadata": {},
     "output_type": "display_data"
    }
   ],
   "source": [
    "g.plot()"
   ]
  },
  {
   "cell_type": "code",
   "execution_count": 318,
   "metadata": {},
   "outputs": [
    {
     "data": {
      "text/plain": [
       "<matplotlib.axes._subplots.AxesSubplot at 0x7f14b42f4780>"
      ]
     },
     "execution_count": 318,
     "metadata": {},
     "output_type": "execute_result"
    },
    {
     "data": {
      "image/png": "[encoded data removed]",
      "text/plain": [
       "<matplotlib.figure.Figure at 0x7f14b5f7c780>"
      ]
     },
     "metadata": {},
     "output_type": "display_data"
    }
   ],
   "source": [
    "g.rf.plot()"
   ]
  },
  {
   "cell_type": "code",
   "execution_count": null,
   "metadata": {
    "collapsed": true
   },
   "outputs": [],
   "source": []
  },
  {
   "cell_type": "code",
   "execution_count": null,
   "metadata": {
    "collapsed": true
   },
   "outputs": [],
   "source": []
  },
  {
   "cell_type": "code",
   "execution_count": 228,
   "metadata": {
    "collapsed": true
   },
   "outputs": [],
   "source": [
    "h5f.close()"
   ]
  },
  {
   "cell_type": "code",
   "execution_count": 39,
   "metadata": {},
   "outputs": [
    {
     "data": {
      "image/png": "[encoded data removed]",
      "text/plain": [
       "<matplotlib.figure.Figure at 0x7f14b600e2e8>"
      ]
     },
     "metadata": {},
     "output_type": "display_data"
    }
   ],
   "source": []
  },
  {
   "cell_type": "code",
   "execution_count": 44,
   "metadata": {
    "collapsed": true
   },
   "outputs": [],
   "source": []
  },
  {
   "cell_type": "code",
   "execution_count": null,
   "metadata": {
    "scrolled": true
   },
   "outputs": [],
   "source": []
  },
  {
   "cell_type": "code",
   "execution_count": null,
   "metadata": {},
   "outputs": [],
   "source": [
    "elo_df[1]"
   ]
  },
  {
   "cell_type": "code",
   "execution_count": null,
   "metadata": {
    "scrolled": true
   },
   "outputs": [],
   "source": [
    "len(teams)"
   ]
  },
  {
   "cell_type": "code",
   "execution_count": null,
   "metadata": {
    "collapsed": true
   },
   "outputs": [],
   "source": []
  },
  {
   "cell_type": "code",
   "execution_count": null,
   "metadata": {
    "collapsed": true
   },
   "outputs": [],
   "source": []
  },
  {
   "cell_type": "code",
   "execution_count": null,
   "metadata": {
    "collapsed": true
   },
   "outputs": [],
   "source": []
  },
  {
   "cell_type": "code",
   "execution_count": null,
   "metadata": {
    "collapsed": true
   },
   "outputs": [],
   "source": []
  },
  {
   "cell_type": "code",
   "execution_count": null,
   "metadata": {
    "collapsed": true
   },
   "outputs": [],
   "source": []
  },
  {
   "cell_type": "code",
   "execution_count": null,
   "metadata": {
    "collapsed": true
   },
   "outputs": [],
   "source": []
  },
  {
   "cell_type": "code",
   "execution_count": null,
   "metadata": {
    "collapsed": true
   },
   "outputs": [],
   "source": []
  },
  {
   "cell_type": "code",
   "execution_count": null,
   "metadata": {
    "collapsed": true
   },
   "outputs": [],
   "source": []
  },
  {
   "cell_type": "code",
   "execution_count": null,
   "metadata": {
    "collapsed": true
   },
   "outputs": [],
   "source": []
  },
  {
   "cell_type": "code",
   "execution_count": null,
   "metadata": {
    "collapsed": true
   },
   "outputs": [],
   "source": []
  },
  {
   "cell_type": "code",
   "execution_count": null,
   "metadata": {
    "collapsed": true
   },
   "outputs": [],
   "source": []
  },
  {
   "cell_type": "code",
   "execution_count": null,
   "metadata": {
    "collapsed": true
   },
   "outputs": [],
   "source": []
  },
  {
   "cell_type": "code",
   "execution_count": null,
   "metadata": {
    "collapsed": true
   },
   "outputs": [],
   "source": []
  },
  {
   "cell_type": "code",
   "execution_count": null,
   "metadata": {
    "collapsed": true
   },
   "outputs": [],
   "source": []
  },
  {
   "cell_type": "code",
   "execution_count": null,
   "metadata": {
    "collapsed": true
   },
   "outputs": [],
   "source": []
  },
  {
   "cell_type": "code",
   "execution_count": null,
   "metadata": {
    "collapsed": true
   },
   "outputs": [],
   "source": []
  },
  {
   "cell_type": "code",
   "execution_count": null,
   "metadata": {
    "collapsed": true
   },
   "outputs": [],
   "source": []
  },
  {
   "cell_type": "code",
   "execution_count": null,
   "metadata": {
    "collapsed": true
   },
   "outputs": [],
   "source": []
  },
  {
   "cell_type": "code",
   "execution_count": null,
   "metadata": {
    "collapsed": true
   },
   "outputs": [],
   "source": []
  },
  {
   "cell_type": "code",
   "execution_count": null,
   "metadata": {
    "collapsed": true
   },
   "outputs": [],
   "source": []
  },
  {
   "cell_type": "code",
   "execution_count": null,
   "metadata": {
    "collapsed": true
   },
   "outputs": [],
   "source": []
  },
  {
   "cell_type": "code",
   "execution_count": null,
   "metadata": {
    "collapsed": true
   },
   "outputs": [],
   "source": []
  },
  {
   "cell_type": "code",
   "execution_count": null,
   "metadata": {
    "collapsed": true
   },
   "outputs": [],
   "source": []
  },
  {
   "cell_type": "code",
   "execution_count": null,
   "metadata": {
    "collapsed": true
   },
   "outputs": [],
   "source": []
  },
  {
   "cell_type": "code",
   "execution_count": null,
   "metadata": {
    "collapsed": true
   },
   "outputs": [],
   "source": []
  },
  {
   "cell_type": "code",
   "execution_count": null,
   "metadata": {
    "collapsed": true
   },
   "outputs": [],
   "source": []
  },
  {
   "cell_type": "code",
   "execution_count": null,
   "metadata": {
    "collapsed": true
   },
   "outputs": [],
   "source": []
  },
  {
   "cell_type": "code",
   "execution_count": null,
   "metadata": {},
   "outputs": [],
   "source": []
  }
 ],
 "metadata": {
  "kernelspec": {
   "display_name": "Python 3",
   "language": "python",
   "name": "python3"
  },
  "language_info": {
   "codemirror_mode": {
    "name": "ipython",
    "version": 3
   },
   "file_extension": ".py",
   "mimetype": "text/x-python",
   "name": "python",
   "nbconvert_exporter": "python",
   "pygments_lexer": "ipython3",
   "version": "3.5.2"
  }
 },
 "nbformat": 4,
 "nbformat_minor": 2
}
