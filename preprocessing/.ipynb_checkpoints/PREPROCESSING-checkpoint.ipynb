{
 "cells": [
  {
   "cell_type": "code",
   "execution_count": 1,
   "metadata": {
    "collapsed": true
   },
   "outputs": [],
   "source": [
    "from os import sys, path\n",
    "sys.path.append(path.dirname(path.dirname(path.abspath('__file__'))))\n",
    "# from utils import (compute_elo_ratting_dataframe_for_champ_v2, compute_elo_ratting_dataframe_for_champ_v3,delete_directory_contents)"
   ]
  },
  {
   "cell_type": "code",
   "execution_count": 35,
   "metadata": {
    "collapsed": true
   },
   "outputs": [],
   "source": [
    "import matplotlib.pyplot as plt"
   ]
  },
  {
   "cell_type": "code",
   "execution_count": 36,
   "metadata": {
    "collapsed": true
   },
   "outputs": [],
   "source": [
    "%matplotlib inline"
   ]
  },
  {
   "cell_type": "code",
   "execution_count": 2,
   "metadata": {
    "collapsed": true
   },
   "outputs": [],
   "source": [
    "from utils import Player, Elo"
   ]
  },
  {
   "cell_type": "code",
   "execution_count": 3,
   "metadata": {
    "collapsed": true
   },
   "outputs": [],
   "source": [
    "import datetime\n",
    "import pandas as pd\n",
    "import numpy as np\n",
    "import pickle"
   ]
  },
  {
   "cell_type": "code",
   "execution_count": 4,
   "metadata": {
    "collapsed": true
   },
   "outputs": [],
   "source": [
    "import progressbar"
   ]
  },
  {
   "cell_type": "code",
   "execution_count": 5,
   "metadata": {},
   "outputs": [
    {
     "name": "stderr",
     "output_type": "stream",
     "text": [
      "/home/kasper/PycharmProjects/venv/lib/python3.5/site-packages/h5py/__init__.py:36: FutureWarning: Conversion of the second argument of issubdtype from `float` to `np.floating` is deprecated. In future, it will be treated as `np.float64 == np.dtype(float).type`.\n",
      "  from ._conv import register_converters as _register_converters\n"
     ]
    }
   ],
   "source": [
    "import h5py"
   ]
  },
  {
   "cell_type": "code",
   "execution_count": 6,
   "metadata": {
    "collapsed": true
   },
   "outputs": [],
   "source": [
    "df = pd.read_csv('/home/kasper/Dropbox/Scrapping/soccerway/csv/final_data_soccerway.csv', index_col='Unnamed: 0')\n",
    "df.loc[:,'date'] = pd.to_datetime(df.date)"
   ]
  },
  {
   "cell_type": "code",
   "execution_count": 18,
   "metadata": {},
   "outputs": [],
   "source": [
    "input_date = datetime.datetime(2018,1,31)\n",
    "input_data = df[df.date==input_date]\n",
    "training_data = df.loc[:input_data.index[0]-1]\n",
    "\n",
    "home_teams = input_data.home_team.dropna().drop_duplicates().values\n",
    "teams_grouped = df.groupby('home_team').size()\n",
    "home_teams_consider = teams_grouped[home_teams].sort_values(ascending=False)\n",
    "\n",
    "away_teams = input_data.away_team.dropna().drop_duplicates().values\n",
    "teams_grouped = df.groupby('away_team').size()\n",
    "away_teams_consider = teams_grouped[away_teams].sort_values(ascending=False)\n",
    "\n",
    "threshold = 150\n",
    "home_final_teams = home_teams_consider[home_teams_consider > threshold].index\n",
    "away_final_teams = away_teams_consider[away_teams_consider > threshold].index\n",
    "\n",
    "final_matches = input_data[(input_data.home_team.isin(home_final_teams)) & (input_data.away_team.isin(away_final_teams))]\n",
    "final_matches.to_csv('../data/predict.csv')\n",
    "champs_to_keep = final_matches.championship.dropna().drop_duplicates().values"
   ]
  },
  {
   "cell_type": "code",
   "execution_count": 19,
   "metadata": {},
   "outputs": [
    {
     "data": {
      "text/html": [
       "<div>\n",
       "<table border=\"1\" class=\"dataframe\">\n",
       "  <thead>\n",
       "    <tr style=\"text-align: right;\">\n",
       "      <th></th>\n",
       "      <th>away_goals</th>\n",
       "      <th>away_team</th>\n",
       "      <th>championship</th>\n",
       "      <th>date</th>\n",
       "      <th>home_goals</th>\n",
       "      <th>home_team</th>\n",
       "      <th>over_under_0.5</th>\n",
       "      <th>over_under_1.5</th>\n",
       "      <th>over_under_2.5</th>\n",
       "      <th>over_under_3.5</th>\n",
       "      <th>over_under_4.5</th>\n",
       "      <th>result_final</th>\n",
       "      <th>score</th>\n",
       "      <th>total_goals</th>\n",
       "    </tr>\n",
       "  </thead>\n",
       "  <tbody>\n",
       "    <tr>\n",
       "      <th>2112197</th>\n",
       "      <td>1.0</td>\n",
       "      <td>Mladost</td>\n",
       "      <td>United Arab Emirates - Youth League</td>\n",
       "      <td>2018-01-31</td>\n",
       "      <td>1.0</td>\n",
       "      <td>Cracovia Kraków</td>\n",
       "      <td>0.0</td>\n",
       "      <td>0.0</td>\n",
       "      <td>1.0</td>\n",
       "      <td>1.0</td>\n",
       "      <td>1.0</td>\n",
       "      <td>1.0</td>\n",
       "      <td>1 - 1</td>\n",
       "      <td>2.0</td>\n",
       "    </tr>\n",
       "    <tr>\n",
       "      <th>2112198</th>\n",
       "      <td>1.0</td>\n",
       "      <td>Teplice</td>\n",
       "      <td>United Arab Emirates - Youth League</td>\n",
       "      <td>2018-01-31</td>\n",
       "      <td>2.0</td>\n",
       "      <td>Shakhtyor</td>\n",
       "      <td>0.0</td>\n",
       "      <td>0.0</td>\n",
       "      <td>0.0</td>\n",
       "      <td>1.0</td>\n",
       "      <td>1.0</td>\n",
       "      <td>0.0</td>\n",
       "      <td>2 - 1</td>\n",
       "      <td>3.0</td>\n",
       "    </tr>\n",
       "  </tbody>\n",
       "</table>\n",
       "</div>"
      ],
      "text/plain": [
       "         away_goals away_team                         championship       date  \\\n",
       "2112197         1.0   Mladost  United Arab Emirates - Youth League 2018-01-31   \n",
       "2112198         1.0   Teplice  United Arab Emirates - Youth League 2018-01-31   \n",
       "\n",
       "         home_goals        home_team  over_under_0.5  over_under_1.5  \\\n",
       "2112197         1.0  Cracovia Kraków             0.0             0.0   \n",
       "2112198         2.0        Shakhtyor             0.0             0.0   \n",
       "\n",
       "         over_under_2.5  over_under_3.5  over_under_4.5  result_final  score  \\\n",
       "2112197             1.0             1.0             1.0           1.0  1 - 1   \n",
       "2112198             0.0             1.0             1.0           0.0  2 - 1   \n",
       "\n",
       "         total_goals  \n",
       "2112197          2.0  \n",
       "2112198          3.0  "
      ]
     },
     "execution_count": 19,
     "metadata": {},
     "output_type": "execute_result"
    }
   ],
   "source": [
    "final_matches.head(2)"
   ]
  },
  {
   "cell_type": "code",
   "execution_count": 41,
   "metadata": {
    "collapsed": true
   },
   "outputs": [],
   "source": [
    "def compute_elo_by_goals(data_df, players, all_teams, elo, initial_score=100):\n",
    "    print('[FUNCTION]: computing elo by goals.')\n",
    "    \"\"\"\n",
    "    This function is used to compute the elo ratings of teams based on goals scored depending on wins and losses.\n",
    "\n",
    "    :param data_df:\n",
    "    :param players:\n",
    "    :param elo:\n",
    "    :return:\n",
    "    \"\"\"\n",
    "    n_games = data_df.shape[0]\n",
    "    # does this work for sparce matrix\n",
    "\n",
    "\n",
    "    print('[INFO] number of games: ', n_games)\n",
    "\n",
    "    bar = progressbar.ProgressBar(widgets=[\n",
    "        ' [', progressbar.Timer(), '] ',\n",
    "        progressbar.Bar(),\n",
    "        ' (', progressbar.ETA(), ') ',\n",
    "    ])\n",
    "\n",
    "    ix = data_df.index\n",
    "    for i in bar(range(n_games)[:]):\n",
    "        match = data_df.iloc[i]\n",
    "        player_home = match.home_team\n",
    "        player_away = match.away_team\n",
    "        hid = np.where(all_teams == player_home)[0][0]\n",
    "        aid = np.where(all_teams == player_away)[0][0]\n",
    "        pair = [players[hid], players[aid]]\n",
    "        res = match.result_final\n",
    "        home_goals = match.home_goals\n",
    "        away_goals = match.away_goals\n",
    "\n",
    "        if res == 0:\n",
    "            for goal_difference in range(int(abs(home_goals-away_goals))):\n",
    "                a, b = elo.match_algo_strict(pair[0], pair[1])\n",
    "\n",
    "            a.ys.append(a.score)\n",
    "            b.ys.append(b.score)\n",
    "            a.index.append(ix[i])\n",
    "            b.index.append(ix[i])\n",
    "        elif res == 2:\n",
    "            for goal_difference in range(int(abs(home_goals-away_goals))):\n",
    "                a, b = elo.match(pair[1], pair[0])\n",
    "\n",
    "            a.ys.append(a.score)\n",
    "            b.ys.append(b.score)\n",
    "            a.index.append(ix[i])\n",
    "            b.index.append(ix[i])\n",
    "        else:\n",
    "            pair[0].ys.append(pair[0].score)\n",
    "            pair[1].ys.append(pair[1].score)\n",
    "            pair[0].index.append(ix[i])\n",
    "            pair[1].index.append(ix[i])\n",
    "\n",
    "    # TODO: convert to pickle. because lossing slashes causes shitstorm.\n",
    "    dfs = []\n",
    "    for pl in players:\n",
    "        df = pd.DataFrame(pl.ys, columns = [pl.name], index=pl.index)\n",
    "        dfs.append(df)\n",
    "        del df\n",
    "    names = [p.name for p in players]\n",
    "    del players\n",
    "    return dfs, names\n",
    "\n",
    "def compute_elo_ratting_dataframe_for_champ_v3(data, champs):\n",
    "    matches_champ = data[data.championship.isin(champs)]\n",
    "    ht = matches_champ.home_team.values\n",
    "    at = matches_champ.away_team.values\n",
    "    all_teams = np.append(ht, at)\n",
    "    all_teams = np.unique(all_teams)\n",
    "    players = [Player(name=p) for p in all_teams]\n",
    "    elo = Elo()\n",
    "    dfs, names = compute_elo_by_goals(matches_champ, players, all_teams, elo)\n",
    "    return dfs, names"
   ]
  },
  {
   "cell_type": "code",
   "execution_count": null,
   "metadata": {
    "collapsed": true
   },
   "outputs": [],
   "source": []
  },
  {
   "cell_type": "code",
   "execution_count": null,
   "metadata": {
    "collapsed": true
   },
   "outputs": [],
   "source": []
  },
  {
   "cell_type": "code",
   "execution_count": 99,
   "metadata": {
    "collapsed": true
   },
   "outputs": [],
   "source": [
    "h5f = h5py.File('./temp/data.h5','w')"
   ]
  },
  {
   "cell_type": "code",
   "execution_count": 100,
   "metadata": {
    "collapsed": true
   },
   "outputs": [],
   "source": [
    "for champ in champs_to_keep[:2]:\n",
    "    h5f.create_group(champ)\n",
    "    elo_dfs, teams = compute_elo_ratting_dataframe_for_champ_v3(training_data, [champ])\n",
    "    for t, team in enumerate(teams):\n",
    "        ix,vals = elo_dfs[t].index.values,elo_dfs[t].values.reshape(-1)\n",
    "        h5f.create_dataset(champ+'/'+team, data=np.array([ix,vals]))"
   ]
  },
  {
   "cell_type": "code",
   "execution_count": 102,
   "metadata": {},
   "outputs": [
    {
     "data": {
      "text/plain": [
       "<HDF5 group \"/Costa Rica - Primera División\" (0 members)>"
      ]
     },
     "execution_count": 102,
     "metadata": {},
     "output_type": "execute_result"
    }
   ],
   "source": [
    "h5f['/'+champ]"
   ]
  },
  {
   "cell_type": "code",
   "execution_count": 103,
   "metadata": {
    "collapsed": true
   },
   "outputs": [],
   "source": [
    "h5f.close()"
   ]
  },
  {
   "cell_type": "code",
   "execution_count": 60,
   "metadata": {},
   "outputs": [
    {
     "name": "stdout",
     "output_type": "stream",
     "text": [
      "<HDF5 dataset \"Puntarenas\": shape (338, 1), type \"<f8\">\n",
      "<HDF5 dataset \"Peñarol\": shape (2, 1), type \"<f8\">\n",
      "<HDF5 dataset \"Slaven Koprivnica\": shape (1, 1), type \"<i8\">\n",
      "<HDF5 dataset \"Liverpool\": shape (2, 1), type \"<i8\">\n",
      "<HDF5 dataset \"Ramonense PO\": shape (96, 1), type \"<f8\">\n",
      "<HDF5 dataset \"Hajduk Split\": shape (1, 1), type \"<i8\">\n",
      "<HDF5 dataset \"Zadar\": shape (1, 1), type \"<f8\">\n",
      "<HDF5 dataset \"Jong Holland\": shape (1, 1), type \"<f8\">\n",
      "<HDF5 dataset \"Al Ittihad Kalba U21\": shape (22, 1), type \"<f8\">\n",
      "<HDF5 dataset \"UCR\": shape (356, 1), type \"<f8\">\n",
      "<HDF5 dataset \"Santos de Guápiles\": shape (504, 1), type \"<f8\">\n",
      "<HDF5 dataset \"Coto Brus\": shape (1, 1), type \"<f8\">\n",
      "<HDF5 dataset \"Osijek\": shape (1, 1), type \"<f8\">\n",
      "<HDF5 dataset \"Belén\": shape (261, 1), type \"<f8\">\n",
      "<HDF5 dataset \"Municipal Liberia\": shape (304, 1), type \"<f8\">\n",
      "<HDF5 dataset \"Pérez Zeledón\": shape (548, 1), type \"<f8\">\n",
      "<HDF5 dataset \"SUBT\": shape (1, 1), type \"<f8\">\n",
      "<HDF5 dataset \"Santacrucena\": shape (64, 1), type \"<f8\">\n",
      "<HDF5 dataset \"VESTA\": shape (1, 1), type \"<f8\">\n",
      "<HDF5 dataset \"Al Hamriyah U21\": shape (24, 1), type \"<f8\">\n",
      "<HDF5 dataset \"Cofutpa\": shape (2, 1), type \"<f8\">\n",
      "<HDF5 dataset \"Dinamo Zagreb\": shape (1, 1), type \"<f8\">\n",
      "<HDF5 dataset \"Turrialba\": shape (1, 1), type \"<f8\">\n",
      "<HDF5 dataset \"Puma Generaleña\": shape (46, 1), type \"<f8\">\n",
      "<HDF5 dataset \"Rijeka\": shape (1, 1), type \"<f8\">\n",
      "<HDF5 dataset \"Grecia\": shape (51, 1), type \"<f8\">\n",
      "<HDF5 dataset \"Orión\": shape (40, 1), type \"<f8\">\n",
      "<HDF5 dataset \"Danubio\": shape (2, 1), type \"<f8\">\n",
      "<HDF5 dataset \"Carmelita\": shape (399, 1), type \"<f8\">\n",
      "<HDF5 dataset \"Deba Al Hissin U21\": shape (24, 1), type \"<f8\">\n",
      "<HDF5 dataset \"Zagreb\": shape (1, 1), type \"<f8\">\n",
      "<HDF5 dataset \"Uruguay\": shape (176, 1), type \"<f8\">\n",
      "<HDF5 dataset \"Boston River\": shape (2, 1), type \"<f8\">\n",
      "<HDF5 dataset \"Cartaginés\": shape (520, 1), type \"<f8\">\n",
      "<HDF5 dataset \"Limón\": shape (353, 1), type \"<f8\">\n",
      "<HDF5 dataset \"Inter Zaprešić\": shape (1, 1), type \"<f8\">\n",
      "<HDF5 dataset \"Brujas\": shape (216, 1), type \"<f8\">\n",
      "<HDF5 dataset \"Al Fujairah U21\": shape (24, 1), type \"<f8\">\n",
      "<HDF5 dataset \"Cerro\": shape (2, 1), type \"<f8\">\n",
      "<HDF5 dataset \"Rampla Juniors\": shape (2, 1), type \"<f8\">\n",
      "<HDF5 dataset \"Defensor Sporting\": shape (2, 1), type \"<i8\">\n",
      "<HDF5 dataset \"Barrio México\": shape (35, 1), type \"<f8\">\n",
      "<HDF5 dataset \"Al Bataeh U21\": shape (24, 1), type \"<f8\">\n",
      "<HDF5 dataset \"Šibenik\": shape (1, 1), type \"<f8\">\n",
      "<HDF5 dataset \"Alajuelense\": shape (583, 1), type \"<f8\">\n",
      "<HDF5 dataset \"Cibalia\": shape (1, 1), type \"<i8\">\n",
      "<HDF5 dataset \"Guadalupe\": shape (53, 1), type \"<f8\">\n",
      "<HDF5 dataset \"Guanacasteca\": shape (1, 1), type \"<i8\">\n",
      "<HDF5 dataset \"San Carlos\": shape (304, 1), type \"<f8\">\n",
      "<HDF5 dataset \"Croatia Sesvete\": shape (1, 1), type \"<i8\">\n",
      "<HDF5 dataset \"Victory Boys\": shape (1, 1), type \"<f8\">\n",
      "<HDF5 dataset \"Herediano\": shape (595, 1), type \"<f8\">\n",
      "<HDF5 dataset \"Nacional\": shape (2, 1), type \"<f8\">\n",
      "<HDF5 dataset \"Bani Yas U21\": shape (24, 1), type \"<f8\">\n",
      "<HDF5 dataset \"Varaždin\": shape (1, 1), type \"<f8\">\n",
      "<HDF5 dataset \"Deportivo Saprissa\": shape (593, 1), type \"<f8\">\n",
      "<HDF5 dataset \"Khor Fakkan U21\": shape (26, 1), type \"<f8\">\n"
     ]
    }
   ],
   "source": [
    "h5f = h5py.File('./temp/data.h5','r')\n",
    "\n"
   ]
  },
  {
   "cell_type": "code",
   "execution_count": 62,
   "metadata": {},
   "outputs": [
    {
     "data": {
      "text/plain": [
       "array([[100.        ],\n",
       "       [119.15429364],\n",
       "       [131.52535386],\n",
       "       [136.00769506],\n",
       "       [140.41827188],\n",
       "       [140.41827188],\n",
       "       [144.28168934],\n",
       "       [139.20996446],\n",
       "       [139.20996446],\n",
       "       [143.23632507],\n",
       "       [138.59120795],\n",
       "       [119.75436517],\n",
       "       [123.35346032],\n",
       "       [123.35346032],\n",
       "       [117.82763697],\n",
       "       [124.5903246 ],\n",
       "       [129.52187157],\n",
       "       [124.34062576],\n",
       "       [134.32712976],\n",
       "       [137.5073413 ],\n",
       "       [137.5073413 ],\n",
       "       [137.5073413 ],\n",
       "       [137.5073413 ],\n",
       "       [144.38259558],\n",
       "       [139.47767589],\n",
       "       [148.35977256],\n",
       "       [151.88987865],\n",
       "       [147.47622156],\n",
       "       [128.52662305],\n",
       "       [124.29292527],\n",
       "       [131.07541449],\n",
       "       [124.27571348],\n",
       "       [124.27571348],\n",
       "       [124.27571348],\n",
       "       [124.27571348],\n",
       "       [139.52501219],\n",
       "       [147.80020156],\n",
       "       [158.59400672],\n",
       "       [154.14061868],\n",
       "       [154.14061868],\n",
       "       [148.48707625],\n",
       "       [143.3238432 ],\n",
       "       [138.87106278],\n",
       "       [149.0774994 ],\n",
       "       [151.60771357],\n",
       "       [156.02445829],\n",
       "       [156.02445829],\n",
       "       [148.85991073],\n",
       "       [163.67569279],\n",
       "       [148.10431476],\n",
       "       [142.37155359],\n",
       "       [142.37155359],\n",
       "       [142.37155359],\n",
       "       [159.64027084],\n",
       "       [168.81931477],\n",
       "       [164.45970545],\n",
       "       [172.03296078],\n",
       "       [172.03296078],\n",
       "       [176.17645187],\n",
       "       [169.11274783],\n",
       "       [169.11274783],\n",
       "       [173.92844591],\n",
       "       [185.09640249],\n",
       "       [189.00315705],\n",
       "       [182.17823991],\n",
       "       [182.17823991],\n",
       "       [185.8995099 ],\n",
       "       [185.8995099 ],\n",
       "       [198.18785643],\n",
       "       [190.08482867],\n",
       "       [201.55597451],\n",
       "       [201.55597451],\n",
       "       [193.27029371],\n",
       "       [193.27029371],\n",
       "       [198.93494734],\n",
       "       [204.30040944],\n",
       "       [204.30040944],\n",
       "       [207.38025772],\n",
       "       [213.64775336],\n",
       "       [226.35676422],\n",
       "       [219.18609541],\n",
       "       [222.42222122],\n",
       "       [222.42222122],\n",
       "       [222.42222122],\n",
       "       [222.42222122],\n",
       "       [222.42222122],\n",
       "       [222.42222122],\n",
       "       [226.25746263],\n",
       "       [217.43693443],\n",
       "       [217.43693443],\n",
       "       [217.43693443],\n",
       "       [217.43693443],\n",
       "       [209.10665729],\n",
       "       [218.51900458],\n",
       "       [222.750168  ],\n",
       "       [228.12952896],\n",
       "       [228.12952896],\n",
       "       [228.12952896],\n",
       "       [230.43167767],\n",
       "       [230.43167767],\n",
       "       [222.75769596],\n",
       "       [215.75273951],\n",
       "       [215.75273951],\n",
       "       [215.75273951],\n",
       "       [215.75273951],\n",
       "       [225.31895759],\n",
       "       [225.31895759],\n",
       "       [219.00360346],\n",
       "       [226.39387223],\n",
       "       [217.52861067],\n",
       "       [203.83453362],\n",
       "       [196.47053474],\n",
       "       [200.62288953],\n",
       "       [200.62288953],\n",
       "       [210.24640069],\n",
       "       [212.49460969],\n",
       "       [204.68751109],\n",
       "       [198.78528055],\n",
       "       [204.52762969],\n",
       "       [204.52762969],\n",
       "       [190.79276914],\n",
       "       [193.94148197],\n",
       "       [193.94148197],\n",
       "       [193.94148197],\n",
       "       [198.45830028],\n",
       "       [204.38501855],\n",
       "       [198.46922199],\n",
       "       [194.84431378],\n",
       "       [194.84431378],\n",
       "       [206.56559934],\n",
       "       [208.5559486 ],\n",
       "       [193.47289901],\n",
       "       [199.99904921],\n",
       "       [206.58881844],\n",
       "       [206.58881844],\n",
       "       [209.42712469],\n",
       "       [218.946159  ],\n",
       "       [218.946159  ],\n",
       "       [199.44329284],\n",
       "       [202.12600931],\n",
       "       [202.12600931],\n",
       "       [211.26370744],\n",
       "       [219.88955743],\n",
       "       [219.88955743],\n",
       "       [199.99991191],\n",
       "       [205.07163902],\n",
       "       [198.2603875 ],\n",
       "       [181.13822516],\n",
       "       [185.24831892],\n",
       "       [185.24831892],\n",
       "       [190.93497572],\n",
       "       [183.78098187],\n",
       "       [188.44986349],\n",
       "       [195.86726035],\n",
       "       [189.85072505],\n",
       "       [189.85072505],\n",
       "       [192.59401575],\n",
       "       [178.82317615],\n",
       "       [183.63845198],\n",
       "       [187.62995744],\n",
       "       [175.69938546],\n",
       "       [179.98284168],\n",
       "       [175.56174833],\n",
       "       [175.56174833],\n",
       "       [163.8123912 ],\n",
       "       [158.18265532],\n",
       "       [161.72493204],\n",
       "       [158.66338121],\n",
       "       [151.63859651],\n",
       "       [141.8444618 ],\n",
       "       [141.8444618 ],\n",
       "       [141.8444618 ],\n",
       "       [145.6859674 ],\n",
       "       [145.6859674 ],\n",
       "       [149.42339157],\n",
       "       [153.69534553],\n",
       "       [163.49031945],\n",
       "       [163.49031945],\n",
       "       [157.11937035],\n",
       "       [157.11937035],\n",
       "       [164.66128681],\n",
       "       [158.81939034],\n",
       "       [163.13355328],\n",
       "       [167.09301816],\n",
       "       [180.93902928],\n",
       "       [180.93902928],\n",
       "       [173.56697531],\n",
       "       [173.56697531],\n",
       "       [185.49772966],\n",
       "       [196.44410968],\n",
       "       [196.44410968],\n",
       "       [196.44410968],\n",
       "       [196.44410968],\n",
       "       [207.49632351],\n",
       "       [214.3752377 ],\n",
       "       [208.34709287],\n",
       "       [195.87070563],\n",
       "       [211.28827899],\n",
       "       [204.50978156],\n",
       "       [207.90401008],\n",
       "       [207.90401008],\n",
       "       [207.90401008],\n",
       "       [211.06528565],\n",
       "       [211.06528565],\n",
       "       [211.06528565],\n",
       "       [211.06528565],\n",
       "       [223.07851252],\n",
       "       [223.07851252],\n",
       "       [219.05081383],\n",
       "       [219.05081383],\n",
       "       [222.97176115],\n",
       "       [222.97176115],\n",
       "       [225.02006458],\n",
       "       [225.02006458],\n",
       "       [230.82444165],\n",
       "       [224.5335361 ],\n",
       "       [224.5335361 ],\n",
       "       [228.03730855],\n",
       "       [235.72564776],\n",
       "       [235.72564776],\n",
       "       [247.20650845],\n",
       "       [229.94774706],\n",
       "       [229.94774706],\n",
       "       [232.64314662],\n",
       "       [235.89229798],\n",
       "       [239.12870647],\n",
       "       [226.67215918],\n",
       "       [226.67215918],\n",
       "       [222.39263722],\n",
       "       [226.04011164],\n",
       "       [250.45039001],\n",
       "       [267.23211565],\n",
       "       [271.63049526],\n",
       "       [271.63049526],\n",
       "       [274.28212834],\n",
       "       [276.87434945],\n",
       "       [286.92099337],\n",
       "       [286.92099337],\n",
       "       [286.92099337],\n",
       "       [286.92099337],\n",
       "       [279.78589824],\n",
       "       [292.03667665],\n",
       "       [295.38133191],\n",
       "       [298.64082511],\n",
       "       [298.64082511],\n",
       "       [298.64082511],\n",
       "       [290.99028547],\n",
       "       [293.56710835],\n",
       "       [286.32493379],\n",
       "       [286.32493379],\n",
       "       [276.24008035],\n",
       "       [278.65159858],\n",
       "       [272.23419002],\n",
       "       [279.95300257],\n",
       "       [281.73884466],\n",
       "       [281.73884466],\n",
       "       [274.63877846],\n",
       "       [279.69313181],\n",
       "       [285.86689993],\n",
       "       [285.86689993],\n",
       "       [280.45311084],\n",
       "       [280.45311084],\n",
       "       [291.23077446],\n",
       "       [294.39116331],\n",
       "       [298.02415035],\n",
       "       [308.780973  ],\n",
       "       [308.780973  ],\n",
       "       [315.19034556],\n",
       "       [320.37244956],\n",
       "       [322.87874317],\n",
       "       [312.0485027 ],\n",
       "       [317.13185069],\n",
       "       [320.27343169],\n",
       "       [315.39245902],\n",
       "       [315.39245902],\n",
       "       [315.39245902],\n",
       "       [319.85790177],\n",
       "       [323.1576242 ],\n",
       "       [323.1576242 ],\n",
       "       [337.59433933],\n",
       "       [337.59433933],\n",
       "       [329.33878349],\n",
       "       [321.67579755],\n",
       "       [325.31185985],\n",
       "       [325.31185985],\n",
       "       [330.17628534],\n",
       "       [330.17628534],\n",
       "       [321.98773148],\n",
       "       [326.21058357],\n",
       "       [329.12641047],\n",
       "       [318.19107836],\n",
       "       [318.19107836],\n",
       "       [320.14596165],\n",
       "       [320.14596165],\n",
       "       [325.2222867 ],\n",
       "       [320.00987577],\n",
       "       [320.00987577],\n",
       "       [312.76834309],\n",
       "       [315.29082837],\n",
       "       [301.65967063],\n",
       "       [301.65967063],\n",
       "       [303.4929558 ],\n",
       "       [290.09676247],\n",
       "       [290.09676247],\n",
       "       [290.09676247],\n",
       "       [294.9078607 ],\n",
       "       [297.01084834],\n",
       "       [299.49599024],\n",
       "       [294.7181478 ],\n",
       "       [299.43963929],\n",
       "       [293.07426186],\n",
       "       [298.23612045],\n",
       "       [299.92262166],\n",
       "       [308.19120581],\n",
       "       [322.24260693],\n",
       "       [324.9993276 ],\n",
       "       [326.90067677],\n",
       "       [330.08144291],\n",
       "       [330.08144291],\n",
       "       [333.0942397 ],\n",
       "       [336.03452576],\n",
       "       [322.44928664],\n",
       "       [329.29220187],\n",
       "       [329.29220187],\n",
       "       [331.11660504],\n",
       "       [333.52155956],\n",
       "       [327.65987575],\n",
       "       [329.39894545],\n",
       "       [335.1730159 ],\n",
       "       [335.1730159 ],\n",
       "       [336.66864121],\n",
       "       [337.94955821],\n",
       "       [341.90262801],\n",
       "       [346.62968894],\n",
       "       [352.7001635 ],\n",
       "       [356.88850549],\n",
       "       [351.57583144],\n",
       "       [343.48861224],\n",
       "       [343.48861224],\n",
       "       [352.15752333],\n",
       "       [365.88498559],\n",
       "       [369.66622659],\n",
       "       [373.16146904],\n",
       "       [375.25554832],\n",
       "       [375.25554832],\n",
       "       [380.56455877],\n",
       "       [388.09762524],\n",
       "       [388.09762524],\n",
       "       [388.09762524],\n",
       "       [391.37383509],\n",
       "       [393.60898048],\n",
       "       [397.11945276],\n",
       "       [388.88804501],\n",
       "       [393.0348872 ],\n",
       "       [393.0348872 ],\n",
       "       [393.0348872 ],\n",
       "       [396.04325104],\n",
       "       [401.75149473],\n",
       "       [403.85113194],\n",
       "       [385.79255685],\n",
       "       [387.49539999],\n",
       "       [387.49539999],\n",
       "       [391.48896909],\n",
       "       [373.96904359],\n",
       "       [380.01239329],\n",
       "       [371.17183798],\n",
       "       [371.17183798],\n",
       "       [353.85117122],\n",
       "       [353.85117122],\n",
       "       [356.60308559],\n",
       "       [359.64488288],\n",
       "       [359.64488288],\n",
       "       [349.34840128],\n",
       "       [349.34840128],\n",
       "       [341.16679888],\n",
       "       [348.12812184],\n",
       "       [351.72714314],\n",
       "       [351.72714314],\n",
       "       [351.72714314],\n",
       "       [353.19709437],\n",
       "       [355.80239237],\n",
       "       [355.80239237],\n",
       "       [340.93304325],\n",
       "       [348.80343366],\n",
       "       [354.08356947],\n",
       "       [355.6893253 ],\n",
       "       [360.6780793 ],\n",
       "       [355.74855537],\n",
       "       [359.89878203],\n",
       "       [364.05143536],\n",
       "       [369.12798871],\n",
       "       [372.18414387],\n",
       "       [366.78318279],\n",
       "       [370.51044695],\n",
       "       [372.10137682],\n",
       "       [374.70796753],\n",
       "       [374.70796753],\n",
       "       [364.13762784],\n",
       "       [364.13762784],\n",
       "       [366.95202383],\n",
       "       [368.78110026],\n",
       "       [368.78110026],\n",
       "       [368.78110026],\n",
       "       [363.61364113],\n",
       "       [363.61364113],\n",
       "       [368.62887111],\n",
       "       [370.94961579],\n",
       "       [370.94961579],\n",
       "       [362.61015918],\n",
       "       [363.74299278],\n",
       "       [355.65757113],\n",
       "       [357.66069854],\n",
       "       [358.990393  ],\n",
       "       [350.30222332],\n",
       "       [350.30222332],\n",
       "       [351.52345091],\n",
       "       [353.16546192],\n",
       "       [355.80103888],\n",
       "       [335.93253131],\n",
       "       [341.56093972],\n",
       "       [341.56093972],\n",
       "       [343.72154392],\n",
       "       [343.72154392],\n",
       "       [343.72154392],\n",
       "       [343.72154392],\n",
       "       [346.68313169],\n",
       "       [348.31624454],\n",
       "       [350.37236208],\n",
       "       [350.37236208],\n",
       "       [355.59144076],\n",
       "       [347.248737  ],\n",
       "       [351.47881377],\n",
       "       [354.31123037],\n",
       "       [354.31123037],\n",
       "       [354.31123037],\n",
       "       [355.68399837],\n",
       "       [347.14180983],\n",
       "       [351.12272727],\n",
       "       [351.12272727],\n",
       "       [356.28379353],\n",
       "       [340.53649226],\n",
       "       [346.31283695],\n",
       "       [351.04277569],\n",
       "       [342.69237243],\n",
       "       [344.92589486],\n",
       "       [348.31376025],\n",
       "       [339.59319619],\n",
       "       [326.52353714],\n",
       "       [338.13098444],\n",
       "       [340.66118754],\n",
       "       [344.50428617],\n",
       "       [344.50428617],\n",
       "       [355.97373144],\n",
       "       [348.75084631],\n",
       "       [351.26747976],\n",
       "       [346.64336198],\n",
       "       [349.84888275],\n",
       "       [351.35805728],\n",
       "       [354.75562828],\n",
       "       [356.39575675],\n",
       "       [356.39575675],\n",
       "       [357.93626294],\n",
       "       [361.42527432],\n",
       "       [356.61721878],\n",
       "       [359.20298262],\n",
       "       [361.72044214],\n",
       "       [367.06123473],\n",
       "       [358.52230662],\n",
       "       [363.68699094],\n",
       "       [367.02044974],\n",
       "       [368.96994891],\n",
       "       [368.96994891],\n",
       "       [368.96994891],\n",
       "       [374.36233638],\n",
       "       [384.68737285],\n",
       "       [386.14837748],\n",
       "       [387.91446706],\n",
       "       [387.91446706],\n",
       "       [392.86333323],\n",
       "       [387.62291958],\n",
       "       [387.62291958],\n",
       "       [390.9420259 ],\n",
       "       [390.9420259 ],\n",
       "       [390.9420259 ],\n",
       "       [393.99374711],\n",
       "       [393.99374711],\n",
       "       [395.64988964],\n",
       "       [405.96624172],\n",
       "       [410.46881011],\n",
       "       [392.84398459],\n",
       "       [397.73085556],\n",
       "       [397.73085556],\n",
       "       [398.6761242 ],\n",
       "       [400.67659986],\n",
       "       [400.67659986],\n",
       "       [408.97824505],\n",
       "       [408.97824505],\n",
       "       [408.97824505],\n",
       "       [413.96314193],\n",
       "       [429.99317233],\n",
       "       [419.45911321],\n",
       "       [422.08986639],\n",
       "       [422.08986639],\n",
       "       [422.08986639],\n",
       "       [429.04878741],\n",
       "       [429.04878741],\n",
       "       [429.04878741],\n",
       "       [420.4583478 ],\n",
       "       [421.41398633],\n",
       "       [427.06053424],\n",
       "       [418.16580184],\n",
       "       [419.09814531],\n",
       "       [401.62967051],\n",
       "       [402.77098939],\n",
       "       [402.77098939],\n",
       "       [402.77098939],\n",
       "       [409.02189032],\n",
       "       [398.72231862],\n",
       "       [402.0574501 ],\n",
       "       [403.09012983],\n",
       "       [395.11751282],\n",
       "       [396.18262544],\n",
       "       [396.18262544],\n",
       "       [396.18262544],\n",
       "       [397.95222529],\n",
       "       [399.86646284],\n",
       "       [394.4403168 ],\n",
       "       [402.97532083],\n",
       "       [416.07740462],\n",
       "       [424.21048895],\n",
       "       [424.21048895],\n",
       "       [426.26015862],\n",
       "       [429.20000188],\n",
       "       [432.69888078],\n",
       "       [434.07000582],\n",
       "       [435.77734824],\n",
       "       [435.77734824],\n",
       "       [435.77734824],\n",
       "       [435.77734824],\n",
       "       [435.77734824],\n",
       "       [437.3486409 ],\n",
       "       [438.89612334],\n",
       "       [440.71430515],\n",
       "       [442.53248697],\n",
       "       [443.44157788],\n",
       "       [444.35066879],\n",
       "       [447.07794152],\n",
       "       [449.80521425],\n",
       "       [449.80521425],\n",
       "       [449.80521425],\n",
       "       [452.80344446],\n",
       "       [455.72971485],\n",
       "       [456.88636566],\n",
       "       [458.02946509],\n",
       "       [461.36986909],\n",
       "       [464.59904755],\n",
       "       [469.22838695],\n",
       "       [473.77384149],\n",
       "       [473.77384149],\n",
       "       [473.77384149],\n",
       "       [475.5882876 ],\n",
       "       [477.3719142 ],\n",
       "       [477.3719142 ],\n",
       "       [477.3719142 ],\n",
       "       [478.28100511],\n",
       "       [479.19009602],\n",
       "       [470.85046128],\n",
       "       [462.64807034],\n",
       "       [456.37811817],\n",
       "       [450.27847511],\n",
       "       [455.02561335],\n",
       "       [459.57971387],\n",
       "       [463.95383845],\n",
       "       [468.15992785],\n",
       "       [461.8653292 ],\n",
       "       [455.74128338],\n",
       "       [447.93457576],\n",
       "       [440.28563449],\n",
       "       [432.79873069],\n",
       "       [425.47745555],\n",
       "       [425.47745555],\n",
       "       [425.47745555],\n",
       "       [426.52075862],\n",
       "       [427.55289075],\n",
       "       [418.62108202],\n",
       "       [409.79142341],\n",
       "       [403.08826218],\n",
       "       [396.55783205],\n",
       "       [400.84498247],\n",
       "       [404.9563637 ],\n",
       "       [409.89993571],\n",
       "       [414.70132244],\n",
       "       [414.70132244],\n",
       "       [414.70132244],\n",
       "       [421.20655032]])"
      ]
     },
     "execution_count": 62,
     "metadata": {},
     "output_type": "execute_result"
    }
   ],
   "source": [
    "h5f['Herediano'][:]"
   ]
  },
  {
   "cell_type": "code",
   "execution_count": null,
   "metadata": {
    "collapsed": true
   },
   "outputs": [],
   "source": []
  },
  {
   "cell_type": "code",
   "execution_count": null,
   "metadata": {
    "collapsed": true
   },
   "outputs": [],
   "source": []
  },
  {
   "cell_type": "code",
   "execution_count": null,
   "metadata": {
    "collapsed": true
   },
   "outputs": [],
   "source": []
  },
  {
   "cell_type": "code",
   "execution_count": 56,
   "metadata": {
    "collapsed": true
   },
   "outputs": [],
   "source": [
    "h5f.close()"
   ]
  },
  {
   "cell_type": "code",
   "execution_count": 39,
   "metadata": {},
   "outputs": [
    {
     "data": {
      "image/png": "[encoded data removed]",
      "text/plain": [
       "<matplotlib.figure.Figure at 0x7f14b600e2e8>"
      ]
     },
     "metadata": {},
     "output_type": "display_data"
    }
   ],
   "source": [
    "plt.plot(h5f[k][:][0]);"
   ]
  },
  {
   "cell_type": "code",
   "execution_count": 44,
   "metadata": {
    "collapsed": true
   },
   "outputs": [],
   "source": []
  },
  {
   "cell_type": "code",
   "execution_count": null,
   "metadata": {
    "scrolled": true
   },
   "outputs": [],
   "source": []
  },
  {
   "cell_type": "code",
   "execution_count": null,
   "metadata": {},
   "outputs": [],
   "source": [
    "elo_df[1]"
   ]
  },
  {
   "cell_type": "code",
   "execution_count": null,
   "metadata": {
    "scrolled": true
   },
   "outputs": [],
   "source": [
    "len(teams)"
   ]
  },
  {
   "cell_type": "code",
   "execution_count": null,
   "metadata": {
    "collapsed": true
   },
   "outputs": [],
   "source": []
  },
  {
   "cell_type": "code",
   "execution_count": null,
   "metadata": {
    "collapsed": true
   },
   "outputs": [],
   "source": []
  },
  {
   "cell_type": "code",
   "execution_count": null,
   "metadata": {
    "collapsed": true
   },
   "outputs": [],
   "source": []
  },
  {
   "cell_type": "code",
   "execution_count": null,
   "metadata": {
    "collapsed": true
   },
   "outputs": [],
   "source": []
  },
  {
   "cell_type": "code",
   "execution_count": null,
   "metadata": {
    "collapsed": true
   },
   "outputs": [],
   "source": []
  },
  {
   "cell_type": "code",
   "execution_count": null,
   "metadata": {
    "collapsed": true
   },
   "outputs": [],
   "source": []
  },
  {
   "cell_type": "code",
   "execution_count": null,
   "metadata": {
    "collapsed": true
   },
   "outputs": [],
   "source": []
  },
  {
   "cell_type": "code",
   "execution_count": null,
   "metadata": {
    "collapsed": true
   },
   "outputs": [],
   "source": []
  },
  {
   "cell_type": "code",
   "execution_count": null,
   "metadata": {
    "collapsed": true
   },
   "outputs": [],
   "source": []
  },
  {
   "cell_type": "code",
   "execution_count": null,
   "metadata": {
    "collapsed": true
   },
   "outputs": [],
   "source": []
  },
  {
   "cell_type": "code",
   "execution_count": null,
   "metadata": {
    "collapsed": true
   },
   "outputs": [],
   "source": []
  },
  {
   "cell_type": "code",
   "execution_count": null,
   "metadata": {
    "collapsed": true
   },
   "outputs": [],
   "source": []
  },
  {
   "cell_type": "code",
   "execution_count": null,
   "metadata": {
    "collapsed": true
   },
   "outputs": [],
   "source": []
  },
  {
   "cell_type": "code",
   "execution_count": null,
   "metadata": {
    "collapsed": true
   },
   "outputs": [],
   "source": []
  },
  {
   "cell_type": "code",
   "execution_count": null,
   "metadata": {
    "collapsed": true
   },
   "outputs": [],
   "source": []
  },
  {
   "cell_type": "code",
   "execution_count": null,
   "metadata": {
    "collapsed": true
   },
   "outputs": [],
   "source": []
  },
  {
   "cell_type": "code",
   "execution_count": null,
   "metadata": {
    "collapsed": true
   },
   "outputs": [],
   "source": []
  },
  {
   "cell_type": "code",
   "execution_count": null,
   "metadata": {
    "collapsed": true
   },
   "outputs": [],
   "source": []
  },
  {
   "cell_type": "code",
   "execution_count": null,
   "metadata": {
    "collapsed": true
   },
   "outputs": [],
   "source": []
  },
  {
   "cell_type": "code",
   "execution_count": null,
   "metadata": {
    "collapsed": true
   },
   "outputs": [],
   "source": []
  },
  {
   "cell_type": "code",
   "execution_count": null,
   "metadata": {
    "collapsed": true
   },
   "outputs": [],
   "source": []
  },
  {
   "cell_type": "code",
   "execution_count": null,
   "metadata": {
    "collapsed": true
   },
   "outputs": [],
   "source": []
  },
  {
   "cell_type": "code",
   "execution_count": null,
   "metadata": {
    "collapsed": true
   },
   "outputs": [],
   "source": []
  },
  {
   "cell_type": "code",
   "execution_count": null,
   "metadata": {
    "collapsed": true
   },
   "outputs": [],
   "source": []
  },
  {
   "cell_type": "code",
   "execution_count": null,
   "metadata": {
    "collapsed": true
   },
   "outputs": [],
   "source": []
  },
  {
   "cell_type": "code",
   "execution_count": null,
   "metadata": {
    "collapsed": true
   },
   "outputs": [],
   "source": []
  },
  {
   "cell_type": "code",
   "execution_count": null,
   "metadata": {
    "collapsed": true
   },
   "outputs": [],
   "source": []
  },
  {
   "cell_type": "code",
   "execution_count": null,
   "metadata": {},
   "outputs": [],
   "source": []
  }
 ],
 "metadata": {
  "kernelspec": {
   "display_name": "Python 3",
   "language": "python",
   "name": "python3"
  },
  "language_info": {
   "codemirror_mode": {
    "name": "ipython",
    "version": 3
   },
   "file_extension": ".py",
   "mimetype": "text/x-python",
   "name": "python",
   "nbconvert_exporter": "python",
   "pygments_lexer": "ipython3",
   "version": "3.5.2"
  }
 },
 "nbformat": 4,
 "nbformat_minor": 2
}
