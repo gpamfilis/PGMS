{
 "cells": [
  {
   "cell_type": "code",
   "execution_count": 1,
   "metadata": {},
   "outputs": [],
   "source": [
    "import scipy.io\n",
    "import numpy as np\n",
    "import pandas as pd"
   ]
  },
  {
   "cell_type": "code",
   "execution_count": 2,
   "metadata": {},
   "outputs": [],
   "source": [
    "import matplotlib.pyplot as plt"
   ]
  },
  {
   "cell_type": "code",
   "execution_count": 3,
   "metadata": {},
   "outputs": [],
   "source": [
    "%matplotlib inline"
   ]
  },
  {
   "cell_type": "markdown",
   "metadata": {},
   "source": [
    "### What problem do HMMS solve?"
   ]
  },
  {
   "cell_type": "raw",
   "metadata": {},
   "source": [
    "Given a sequence of observations y find the probability of a state"
   ]
  },
  {
   "cell_type": "markdown",
   "metadata": {},
   "source": [
    "$$P(x_t|y_{1:t}) = P(x_t|y_1,y_2,...,y_t)$$"
   ]
  },
  {
   "cell_type": "markdown",
   "metadata": {},
   "source": [
    "##### example 1."
   ]
  },
  {
   "cell_type": "raw",
   "metadata": {},
   "source": [
    "https://www.youtube.com/watch?v=jY2E6ExLxaw"
   ]
  },
  {
   "cell_type": "raw",
   "metadata": {},
   "source": [
    "a robot dog observes actions such as facebook, game of thrones watching, farting, and sleeping. what is the probability given a sequence from the above observation that the owner is sad or happy?"
   ]
  },
  {
   "cell_type": "markdown",
   "metadata": {},
   "source": [
    "##### example 2."
   ]
  },
  {
   "cell_type": "raw",
   "metadata": {},
   "source": [
    "weather (explain)"
   ]
  },
  {
   "cell_type": "markdown",
   "metadata": {},
   "source": [
    "##### example 3"
   ]
  },
  {
   "cell_type": "raw",
   "metadata": {},
   "source": [
    "predict volatility tomorow given prices today"
   ]
  },
  {
   "cell_type": "markdown",
   "metadata": {},
   "source": [
    "##### example 4"
   ]
  },
  {
   "cell_type": "raw",
   "metadata": {},
   "source": [
    "given observed video frames. find objects location"
   ]
  },
  {
   "cell_type": "code",
   "execution_count": null,
   "metadata": {},
   "outputs": [],
   "source": []
  },
  {
   "cell_type": "code",
   "execution_count": null,
   "metadata": {},
   "outputs": [],
   "source": []
  },
  {
   "cell_type": "raw",
   "metadata": {},
   "source": [
    "we derive a recursion to compute"
   ]
  },
  {
   "cell_type": "markdown",
   "metadata": {},
   "source": [
    "$$P(x_t|y_{1:t}) = P(x_t|y_1,y_2,...,y_t)$$"
   ]
  },
  {
   "cell_type": "raw",
   "metadata": {},
   "source": [
    "assuming that we have as input"
   ]
  },
  {
   "cell_type": "markdown",
   "metadata": {},
   "source": [
    "$$P(x_{t-1}|y_{1:t-1})$$"
   ]
  },
  {
   "cell_type": "markdown",
   "metadata": {},
   "source": [
    "the recursion has two steps:\n",
    "1. prediction\n",
    "2. bayesian update"
   ]
  },
  {
   "cell_type": "raw",
   "metadata": {},
   "source": [
    "we start of with"
   ]
  },
  {
   "cell_type": "markdown",
   "metadata": {},
   "source": [
    "$$P(x_0)$$\n",
    "$$y_1 \\rightarrow  P(x_1|y_{1})$$\n",
    "$$y_2 \\rightarrow  P(x_2|y_{1:2})$$\n",
    "$$y_3 \\rightarrow  P(x_3|y_{1:3})$$\n",
    "$$\\vdots $$\n",
    "$$y_t \\rightarrow  P(x_t|y_{1:t})$$"
   ]
  },
  {
   "cell_type": "raw",
   "metadata": {},
   "source": [
    "everytime we get new information we compute the posterior."
   ]
  },
  {
   "cell_type": "raw",
   "metadata": {},
   "source": [
    "each of the equations above is a table. that says how sad or how happy you are."
   ]
  },
  {
   "cell_type": "markdown",
   "metadata": {},
   "source": [
    "#### prediction "
   ]
  },
  {
   "cell_type": "markdown",
   "metadata": {},
   "source": [
    "$$P(x_t|y_{1:t-1}) =\\sum_{x_{t-1}\\epsilon \\left \\{  H,S \\right \\}}P(x_t,x_{t-1}|y_{1:t-1})$$"
   ]
  },
  {
   "cell_type": "markdown",
   "metadata": {},
   "source": [
    "$$P(x_t|y_{1:t-1}) =\\sum_{x_{t-1}\\epsilon \\left \\{  H,S \\right \\}}P(x_t|x_{t-1},y_{1:t-1})P(x_{t-1}|y_{1:t-1})$$"
   ]
  },
  {
   "cell_type": "raw",
   "metadata": {},
   "source": [
    "due to the markov blanker x_t does not depend upon y_t-1 therefore"
   ]
  },
  {
   "cell_type": "markdown",
   "metadata": {},
   "source": [
    "$$P(x_t|x_{t-1},y_{1:t-1}) \\rightarrow P(x_t|x_{t-1})$$"
   ]
  },
  {
   "cell_type": "markdown",
   "metadata": {},
   "source": [
    "$$P(x_t|y_{1:t-1}) =\\sum_{x_{t-1}\\epsilon \\left \\{  H,S \\right \\}}P(x_t|x_{t-1})P(x_{t-1}|y_{1:t-1})$$"
   ]
  },
  {
   "cell_type": "markdown",
   "metadata": {},
   "source": [
    "### bayes update"
   ]
  },
  {
   "cell_type": "markdown",
   "metadata": {},
   "source": [
    "$$P(x_t|y_{1:t}) = P(x_t|y_t,y_{1:t-1})\\overset{bayes}{\\rightarrow}P(x_t|y_t,y_{1:t-1})= \\frac{P(y_t|x_t,y_{1:t-1})P(x_t|y_{1:t-1})}\n",
    "{\\sum_{x_t}P(y_t|x_t,y_{1:t-1})P(x_t|y_{1:t-1})}$$"
   ]
  },
  {
   "cell_type": "raw",
   "metadata": {},
   "source": [
    "when x_t is given does y_t depend on the past? No. because of the markov blanked. eqyation above becomes"
   ]
  },
  {
   "cell_type": "markdown",
   "metadata": {},
   "source": [
    "$$P(x_t|y_{1:t}) = P(x_t|y_t,y_{1:t-1})\\overset{bayes}{\\rightarrow}P(x_t|y_t,y_{1:t-1})= \\frac{P(y_t|x_t,y_{1:t-1})P(x_t|y_{1:t-1})}\n",
    "{\\sum_{x_t}P(y_t|x_t,y_{1:t-1})P(x_t|y_{1:t-1})} = \\frac{P(y_t|x_t)P(x_t|y_{1:t-1})}\n",
    "{\\sum_{x_t}P(y_t|x_t)P(x_t|y_{1:t-1})}$$"
   ]
  },
  {
   "cell_type": "code",
   "execution_count": null,
   "metadata": {},
   "outputs": [],
   "source": []
  },
  {
   "cell_type": "code",
   "execution_count": null,
   "metadata": {},
   "outputs": [],
   "source": []
  },
  {
   "cell_type": "code",
   "execution_count": null,
   "metadata": {},
   "outputs": [],
   "source": []
  },
  {
   "cell_type": "code",
   "execution_count": null,
   "metadata": {},
   "outputs": [],
   "source": []
  },
  {
   "cell_type": "code",
   "execution_count": null,
   "metadata": {},
   "outputs": [],
   "source": []
  },
  {
   "cell_type": "code",
   "execution_count": null,
   "metadata": {},
   "outputs": [],
   "source": []
  },
  {
   "cell_type": "code",
   "execution_count": null,
   "metadata": {},
   "outputs": [],
   "source": []
  },
  {
   "cell_type": "markdown",
   "metadata": {},
   "source": [
    "### Problem Sets"
   ]
  },
  {
   "cell_type": "code",
   "execution_count": 4,
   "metadata": {},
   "outputs": [],
   "source": [
    "mat = scipy.io.loadmat('./TΕL606_labnotes_3.mat')"
   ]
  },
  {
   "cell_type": "code",
   "execution_count": 5,
   "metadata": {},
   "outputs": [],
   "source": [
    "data = mat['price_move']"
   ]
  },
  {
   "cell_type": "code",
   "execution_count": 6,
   "metadata": {},
   "outputs": [],
   "source": [
    "l =  data.shape[0]\n",
    "price_move = np.zeros(l)\n",
    "for i, p in enumerate(data):\n",
    "    price_move[i] = p[0]"
   ]
  },
  {
   "cell_type": "code",
   "execution_count": 7,
   "metadata": {},
   "outputs": [],
   "source": [
    "ys = price_move"
   ]
  },
  {
   "cell_type": "code",
   "execution_count": 8,
   "metadata": {},
   "outputs": [
    {
     "data": {
      "text/plain": [
       "array([-1., -1., -1., -1.,  1., -1., -1., -1., -1.,  1.,  1.,  1.,  1.,\n",
       "        1.,  1., -1.,  1.,  1., -1.,  1.,  1.,  1.,  1., -1., -1., -1.,\n",
       "       -1.,  1.,  1.,  1.,  1., -1.,  1.,  1., -1.,  1.,  1., -1.,  1.])"
      ]
     },
     "execution_count": 8,
     "metadata": {},
     "output_type": "execute_result"
    }
   ],
   "source": [
    "ys"
   ]
  },
  {
   "cell_type": "code",
   "execution_count": 9,
   "metadata": {},
   "outputs": [],
   "source": [
    "df = pd.DataFrame(price_move)"
   ]
  },
  {
   "cell_type": "code",
   "execution_count": 10,
   "metadata": {},
   "outputs": [],
   "source": [
    "q = 0.9\n",
    "px = np.array([0.8,0.2])\n",
    "pxx = np.array([[.8,.2],[.2,.8]])\n",
    "pyx = np.array([[1-q, q],[q,1-q]])"
   ]
  },
  {
   "cell_type": "code",
   "execution_count": 11,
   "metadata": {},
   "outputs": [
    {
     "data": {
      "text/plain": [
       "array([ 0.8,  0.2])"
      ]
     },
     "execution_count": 11,
     "metadata": {},
     "output_type": "execute_result"
    }
   ],
   "source": [
    "px"
   ]
  },
  {
   "cell_type": "code",
   "execution_count": 12,
   "metadata": {},
   "outputs": [
    {
     "data": {
      "text/plain": [
       "array([[ 0.8,  0.2],\n",
       "       [ 0.2,  0.8]])"
      ]
     },
     "execution_count": 12,
     "metadata": {},
     "output_type": "execute_result"
    }
   ],
   "source": [
    "pxx"
   ]
  },
  {
   "cell_type": "code",
   "execution_count": 13,
   "metadata": {},
   "outputs": [
    {
     "data": {
      "text/plain": [
       "array([[ 0.1,  0.9],\n",
       "       [ 0.9,  0.1]])"
      ]
     },
     "execution_count": 13,
     "metadata": {},
     "output_type": "execute_result"
    }
   ],
   "source": [
    "pyx"
   ]
  },
  {
   "cell_type": "code",
   "execution_count": null,
   "metadata": {},
   "outputs": [],
   "source": []
  },
  {
   "cell_type": "code",
   "execution_count": 14,
   "metadata": {},
   "outputs": [],
   "source": [
    "ytra = []\n",
    "for i in ys:\n",
    "    if i==-1:\n",
    "        ytra.append(1)\n",
    "    else:\n",
    "        ytra.append(0)"
   ]
  },
  {
   "cell_type": "raw",
   "metadata": {},
   "source": [
    "pxx[x[1-1]]"
   ]
  },
  {
   "cell_type": "code",
   "execution_count": 16,
   "metadata": {},
   "outputs": [
    {
     "data": {
      "text/plain": [
       "array([-1., -1., -1., -1.,  1., -1., -1., -1., -1.,  1.,  1.,  1.,  1.,\n",
       "        1.,  1., -1.,  1.,  1., -1.,  1.,  1.,  1.,  1., -1., -1., -1.,\n",
       "       -1.,  1.,  1.,  1.,  1., -1.,  1.,  1., -1.,  1.,  1., -1.,  1.])"
      ]
     },
     "execution_count": 16,
     "metadata": {},
     "output_type": "execute_result"
    }
   ],
   "source": [
    "ys"
   ]
  },
  {
   "cell_type": "raw",
   "metadata": {},
   "source": [
    "0 = good\n",
    "1 = bad"
   ]
  },
  {
   "cell_type": "code",
   "execution_count": 17,
   "metadata": {},
   "outputs": [],
   "source": [
    "a1g = (1-q)*0.2\n",
    "a1b = (q)*.8\n",
    "\n",
    "ai_ar = np.zeros((39,2))\n",
    "\n",
    "ai_ar[0,:] = [a1b,a1g]\n",
    "\n"
   ]
  },
  {
   "cell_type": "markdown",
   "metadata": {},
   "source": [
    "$$a_i(x_i)$$"
   ]
  },
  {
   "cell_type": "code",
   "execution_count": 18,
   "metadata": {},
   "outputs": [],
   "source": [
    "for xi in [0,1]:\n",
    "    for t in range(1, 39):                            #x  yi\n",
    "        ai_ar[t,xi] = (ai_ar[t-1, 0]* pxx[0, xi] * pyx[0, ytra[t]]) + (ai_ar[t-1, 1] * pxx[1, xi] * pyx[1, ytra[t]])"
   ]
  },
  {
   "cell_type": "markdown",
   "metadata": {},
   "source": [
    "$$b_i(x_i)$$"
   ]
  },
  {
   "cell_type": "code",
   "execution_count": 19,
   "metadata": {},
   "outputs": [],
   "source": [
    "b1g = 1\n",
    "b1b = 1\n",
    "bi_ar = np.zeros((39,2))\n",
    "bi_ar[-1,:] = [b1b,b1g]"
   ]
  },
  {
   "cell_type": "code",
   "execution_count": 20,
   "metadata": {},
   "outputs": [
    {
     "data": {
      "text/plain": [
       "array([[ 0.8,  0.2],\n",
       "       [ 0.2,  0.8]])"
      ]
     },
     "execution_count": 20,
     "metadata": {},
     "output_type": "execute_result"
    }
   ],
   "source": [
    "pxx"
   ]
  },
  {
   "cell_type": "code",
   "execution_count": 21,
   "metadata": {},
   "outputs": [
    {
     "data": {
      "text/plain": [
       "array([[ 0.1,  0.9],\n",
       "       [ 0.9,  0.1]])"
      ]
     },
     "execution_count": 21,
     "metadata": {},
     "output_type": "execute_result"
    }
   ],
   "source": [
    "pyx"
   ]
  },
  {
   "cell_type": "code",
   "execution_count": 22,
   "metadata": {},
   "outputs": [],
   "source": [
    "# xi is given\n",
    "for xi in [0,1]:\n",
    "    for t in np.arange(37,-1,-1):\n",
    "        bi_ar[t,xi] = (bi_ar[t+1, 0] * pxx[xi, 0] * pyx[0, ytra[t+1]]) + (bi_ar[t+1, 1] * pxx[xi, 1] * pyx[1, ytra[t+1]])"
   ]
  },
  {
   "cell_type": "code",
   "execution_count": 23,
   "metadata": {},
   "outputs": [],
   "source": [
    "l = []\n",
    "for t in range(39):\n",
    "    p = (ai_ar[t]*bi_ar[t])\n",
    "#     p = np.dot(ai_ar[t],bi_ar[t])\n",
    "    s = p.sum()\n",
    "    d = p/s\n",
    "    l.append(d)"
   ]
  },
  {
   "cell_type": "raw",
   "metadata": {},
   "source": [
    "np.dot(ai_ar[t],bi_ar[t])"
   ]
  },
  {
   "cell_type": "code",
   "execution_count": 24,
   "metadata": {},
   "outputs": [],
   "source": [
    "out = np.zeros((39,2))\n",
    "for i, a in enumerate(l):\n",
    "    out[i,:] = a"
   ]
  },
  {
   "cell_type": "code",
   "execution_count": 25,
   "metadata": {},
   "outputs": [
    {
     "data": {
      "text/plain": [
       "array([[  1.06557936e-04,   9.99893442e-01],\n",
       "       [  1.30062758e-06,   9.99998699e-01],\n",
       "       [  1.31415134e-07,   9.99999869e-01],\n",
       "       [  1.44560896e-08,   9.99999986e-01],\n",
       "       [  1.31551920e-08,   9.99999987e-01],\n",
       "       [  7.26843815e-09,   9.99999993e-01],\n",
       "       [  1.44577434e-09,   9.99999999e-01],\n",
       "       [  1.76103512e-10,   1.00000000e+00],\n",
       "       [  1.97785801e-11,   1.00000000e+00],\n",
       "       [  1.80029169e-11,   1.00000000e+00],\n",
       "       [  1.78251073e-11,   1.00000000e+00],\n",
       "       [  1.78055673e-11,   1.00000000e+00],\n",
       "       [  1.78033988e-11,   1.00000000e+00],\n",
       "       [  1.78031581e-11,   1.00000000e+00],\n",
       "       [  1.78031328e-11,   1.00000000e+00],\n",
       "       [  1.78029050e-11,   1.00000000e+00],\n",
       "       [  1.78028797e-11,   1.00000000e+00],\n",
       "       [  1.78028899e-11,   1.00000000e+00],\n",
       "       [  1.78029817e-11,   1.00000000e+00],\n",
       "       [  1.78029919e-11,   1.00000000e+00],\n",
       "       [  1.78031102e-11,   1.00000000e+00],\n",
       "       [  1.78041774e-11,   1.00000000e+00],\n",
       "       [  1.78137888e-11,   1.00000000e+00],\n",
       "       [  1.79007607e-11,   1.00000000e+00],\n",
       "       [  1.79104763e-11,   1.00000000e+00],\n",
       "       [  1.79115535e-11,   1.00000000e+00],\n",
       "       [  1.79116466e-11,   1.00000000e+00],\n",
       "       [  1.79116570e-11,   1.00000000e+00],\n",
       "       [  1.79117767e-11,   1.00000000e+00],\n",
       "       [  1.79128570e-11,   1.00000000e+00],\n",
       "       [  1.79225861e-11,   1.00000000e+00],\n",
       "       [  1.80106264e-11,   1.00000000e+00],\n",
       "       [  1.80204620e-11,   1.00000000e+00],\n",
       "       [  1.81094689e-11,   1.00000000e+00],\n",
       "       [  1.89519372e-11,   1.00000000e+00],\n",
       "       [  1.90504085e-11,   1.00000000e+00],\n",
       "       [  1.99849568e-11,   1.00000000e+00],\n",
       "       [  3.57838754e-11,   1.00000000e+00],\n",
       "       [  1.13162683e-11,   1.00000000e+00]])"
      ]
     },
     "execution_count": 25,
     "metadata": {},
     "output_type": "execute_result"
    }
   ],
   "source": [
    "out"
   ]
  },
  {
   "cell_type": "code",
   "execution_count": null,
   "metadata": {},
   "outputs": [],
   "source": []
  },
  {
   "cell_type": "code",
   "execution_count": null,
   "metadata": {},
   "outputs": [],
   "source": []
  },
  {
   "cell_type": "markdown",
   "metadata": {},
   "source": [
    "# Plot stock movements"
   ]
  },
  {
   "cell_type": "code",
   "execution_count": null,
   "metadata": {},
   "outputs": [],
   "source": [
    "df.plot()"
   ]
  },
  {
   "cell_type": "code",
   "execution_count": null,
   "metadata": {},
   "outputs": [],
   "source": []
  },
  {
   "cell_type": "code",
   "execution_count": null,
   "metadata": {},
   "outputs": [],
   "source": [
    "(0.4*.8)/((0.4*0.8)+(0.1*.2))"
   ]
  },
  {
   "cell_type": "code",
   "execution_count": null,
   "metadata": {},
   "outputs": [],
   "source": []
  },
  {
   "cell_type": "code",
   "execution_count": null,
   "metadata": {},
   "outputs": [],
   "source": []
  },
  {
   "cell_type": "code",
   "execution_count": null,
   "metadata": {},
   "outputs": [],
   "source": []
  },
  {
   "cell_type": "code",
   "execution_count": null,
   "metadata": {},
   "outputs": [],
   "source": []
  },
  {
   "cell_type": "code",
   "execution_count": null,
   "metadata": {},
   "outputs": [],
   "source": []
  },
  {
   "cell_type": "markdown",
   "metadata": {},
   "source": [
    "### Actual"
   ]
  },
  {
   "cell_type": "code",
   "execution_count": null,
   "metadata": {},
   "outputs": [],
   "source": [
    "df.cumsum().plot()"
   ]
  },
  {
   "cell_type": "code",
   "execution_count": null,
   "metadata": {},
   "outputs": [],
   "source": []
  },
  {
   "cell_type": "code",
   "execution_count": null,
   "metadata": {},
   "outputs": [],
   "source": []
  },
  {
   "cell_type": "code",
   "execution_count": null,
   "metadata": {},
   "outputs": [],
   "source": []
  },
  {
   "cell_type": "code",
   "execution_count": null,
   "metadata": {},
   "outputs": [],
   "source": []
  },
  {
   "cell_type": "code",
   "execution_count": null,
   "metadata": {},
   "outputs": [],
   "source": []
  },
  {
   "cell_type": "markdown",
   "metadata": {},
   "source": [
    "# ORIGINAL"
   ]
  },
  {
   "cell_type": "code",
   "execution_count": 27,
   "metadata": {},
   "outputs": [
    {
     "name": "stdout",
     "output_type": "stream",
     "text": [
      "Setting the Initial State\n",
      "Initial State: Sun\n",
      "The state was?: Sun\n",
      "Do this today?:  Shop\n",
      "\n",
      "\n",
      "The state was?: Rain\n",
      "Do this today?:  Clean\n",
      "\n",
      "\n",
      "The state was?: Rain\n",
      "Do this today?:  Clean\n",
      "\n",
      "\n",
      "The state was?: Sun\n",
      "Do this today?:  Walk\n",
      "\n",
      "\n"
     ]
    }
   ],
   "source": [
    "import numpy as np\n",
    "import time\n",
    "\n",
    "start = ['Rain','Sun']\n",
    "# state probabilities\n",
    "p_start = [0.2,0.8]\n",
    "\n",
    "#Transition probabilities\n",
    "# These are calculated beforehand\n",
    "t1 = ['Rain','Sun']\n",
    "p_t1=[[0.4,0.6],\n",
    "      [0.3,0.7]]\n",
    "\n",
    "#t2 = [['W|R','Sh|R','C|R'],['W|Su','Sh|Su','C|Su']]\n",
    "t2 = ['Walk','Shop','Clean']\n",
    "#Emission probability\n",
    "p_t2=[[0.1,0.4,0.5],\n",
    "      [0.6,0.3,0.1]]\n",
    "\n",
    "initial = np.random.choice(start, \n",
    "                           replace=True, \n",
    "                           p=p_start)\n",
    "\n",
    "n = 4\n",
    "\n",
    "st = 1\n",
    "for i in range(n):\n",
    "    if st:\n",
    "        print('Setting the Initial State')\n",
    "        state = initial\n",
    "        st = 0\n",
    "        print('Initial State:', state)\n",
    "    if state == 'Rain':\n",
    "        activity = np.random.choice(t2, p=p_t2[0])\n",
    "        print('The state was?:', state)\n",
    "        print('Do this today?: ', activity)\n",
    "        state = np.random.choice(t1, p=p_t1[0])\n",
    "    elif state == 'Sun':\n",
    "        activity = np.random.choice(t2, p=p_t2[1])\n",
    "        print('The state was?:',state)\n",
    "        print('Do this today?: ', activity)     \n",
    "        state = np.random.choice(t1, p=p_t1[1])\n",
    "    print(\"\\n\")\n",
    "#     time.sleep(0.5)\n",
    "    \n",
    "    # Output (I printed out the hidden state too)\n",
    "    # R R Shop -- R Clean -- Su Walk -- Su Walk -- Su Walk -- Su Clean -- Su Walk -- R Shop -- R Shop -- R Shop -- R Shop -- Su Shop -- R Clean -- Su Walk -- Su Walk -- R Shop -- R Clean -- R Clean -- Su Shop -- Su Shop\n",
    "    "
   ]
  },
  {
   "cell_type": "code",
   "execution_count": 26,
   "metadata": {},
   "outputs": [
    {
     "name": "stdout",
     "output_type": "stream",
     "text": [
      "Setting the Initial State\n",
      "Initial State: GOOD\n",
      "The state was?: GOOD\n",
      "Do this today?:  1\n",
      "\n",
      "\n",
      "The state was?: GOOD\n",
      "Do this today?:  -1\n",
      "\n",
      "\n",
      "The state was?: GOOD\n",
      "Do this today?:  1\n",
      "\n",
      "\n",
      "The state was?: GOOD\n",
      "Do this today?:  1\n",
      "\n",
      "\n",
      "The state was?: BAD\n",
      "Do this today?:  1\n",
      "\n",
      "\n",
      "The state was?: BAD\n",
      "Do this today?:  -1\n",
      "\n",
      "\n",
      "The state was?: GOOD\n",
      "Do this today?:  -1\n",
      "\n",
      "\n",
      "The state was?: GOOD\n",
      "Do this today?:  -1\n",
      "\n",
      "\n",
      "The state was?: GOOD\n",
      "Do this today?:  1\n",
      "\n",
      "\n",
      "The state was?: GOOD\n",
      "Do this today?:  1\n",
      "\n",
      "\n",
      "The state was?: GOOD\n",
      "Do this today?:  -1\n",
      "\n",
      "\n",
      "The state was?: GOOD\n",
      "Do this today?:  1\n",
      "\n",
      "\n",
      "The state was?: GOOD\n",
      "Do this today?:  1\n",
      "\n",
      "\n",
      "The state was?: BAD\n",
      "Do this today?:  -1\n",
      "\n",
      "\n",
      "The state was?: BAD\n",
      "Do this today?:  1\n",
      "\n",
      "\n",
      "The state was?: GOOD\n",
      "Do this today?:  1\n",
      "\n",
      "\n",
      "The state was?: GOOD\n",
      "Do this today?:  1\n",
      "\n",
      "\n",
      "The state was?: BAD\n",
      "Do this today?:  1\n",
      "\n",
      "\n",
      "The state was?: BAD\n",
      "Do this today?:  -1\n",
      "\n",
      "\n",
      "The state was?: BAD\n",
      "Do this today?:  -1\n",
      "\n",
      "\n",
      "The state was?: GOOD\n",
      "Do this today?:  1\n",
      "\n",
      "\n",
      "The state was?: GOOD\n",
      "Do this today?:  -1\n",
      "\n",
      "\n",
      "The state was?: GOOD\n",
      "Do this today?:  -1\n",
      "\n",
      "\n",
      "The state was?: BAD\n",
      "Do this today?:  1\n",
      "\n",
      "\n",
      "The state was?: BAD\n",
      "Do this today?:  -1\n",
      "\n",
      "\n",
      "The state was?: BAD\n",
      "Do this today?:  -1\n",
      "\n",
      "\n",
      "The state was?: BAD\n",
      "Do this today?:  1\n",
      "\n",
      "\n",
      "The state was?: GOOD\n",
      "Do this today?:  1\n",
      "\n",
      "\n",
      "The state was?: GOOD\n",
      "Do this today?:  1\n",
      "\n",
      "\n",
      "The state was?: GOOD\n",
      "Do this today?:  -1\n",
      "\n",
      "\n",
      "The state was?: GOOD\n",
      "Do this today?:  1\n",
      "\n",
      "\n",
      "The state was?: GOOD\n",
      "Do this today?:  1\n",
      "\n",
      "\n",
      "The state was?: GOOD\n",
      "Do this today?:  -1\n",
      "\n",
      "\n",
      "The state was?: BAD\n",
      "Do this today?:  1\n",
      "\n",
      "\n",
      "The state was?: BAD\n",
      "Do this today?:  -1\n",
      "\n",
      "\n",
      "The state was?: BAD\n",
      "Do this today?:  -1\n",
      "\n",
      "\n",
      "The state was?: GOOD\n",
      "Do this today?:  -1\n",
      "\n",
      "\n",
      "The state was?: BAD\n",
      "Do this today?:  1\n",
      "\n",
      "\n",
      "The state was?: BAD\n",
      "Do this today?:  -1\n",
      "\n",
      "\n"
     ]
    }
   ],
   "source": [
    "import numpy as np\n",
    "import time\n",
    "\n",
    "start = ['BAD','GOOD']\n",
    "# state probabilities\n",
    "p_start = [0.8, 0.2]\n",
    "\n",
    "#Transition probabilities\n",
    "# These are calculated beforehand\n",
    "t1 = ['BAD','GOOD']\n",
    "\n",
    "p_t1=[[0.8,0.2],\n",
    "      [0.2,0.8]]\n",
    "\n",
    "#t2 = [['W|R','Sh|R','C|R'],['W|Su','Sh|Su','C|Su']]\n",
    "t2 = [1,-1]\n",
    "#Emission probability\n",
    "p_t2=[[0.3,0.7],\n",
    "      [0.7,0.3]]\n",
    "\n",
    "initial = np.random.choice(start, \n",
    "                           replace=True, \n",
    "                           p=p_start)\n",
    "\n",
    "n = 39\n",
    "\n",
    "st = 1\n",
    "activities  = []\n",
    "for i in range(n):\n",
    "    if st:\n",
    "        print('Setting the Initial State')\n",
    "        state = initial\n",
    "        st = 0\n",
    "        print('Initial State:', state)\n",
    "    if state == 'BAD':\n",
    "        activity = np.random.choice(t2, p=p_t2[0])\n",
    "        print('The state was?:',state)\n",
    "        print('Do this today?: ', activity)\n",
    "        activities.append(activity)\n",
    "        state = np.random.choice(t1, p=p_t1[0])\n",
    "    elif state == 'GOOD':\n",
    "        activity = np.random.choice(t2, p=p_t2[1])\n",
    "        print('The state was?:',state)\n",
    "        print('Do this today?: ', activity)  \n",
    "        activities.append(activity)\n",
    "        state = np.random.choice(t1, p=p_t1[1])\n",
    "    print(\"\\n\")"
   ]
  },
  {
   "cell_type": "code",
   "execution_count": null,
   "metadata": {},
   "outputs": [],
   "source": [
    "df[0].values"
   ]
  },
  {
   "cell_type": "code",
   "execution_count": null,
   "metadata": {},
   "outputs": [],
   "source": [
    "orig = df[0].values\n",
    "orig"
   ]
  },
  {
   "cell_type": "raw",
   "metadata": {},
   "source": [
    "activities"
   ]
  },
  {
   "cell_type": "code",
   "execution_count": null,
   "metadata": {},
   "outputs": [],
   "source": [
    "plt.plot(orig, color='b')\n",
    "plt.plot(activities, color='r')\n",
    "# df.plot()\n",
    "plt.yticks([-1,+1])"
   ]
  },
  {
   "cell_type": "code",
   "execution_count": null,
   "metadata": {},
   "outputs": [],
   "source": [
    "len(activities)"
   ]
  },
  {
   "cell_type": "code",
   "execution_count": null,
   "metadata": {},
   "outputs": [],
   "source": [
    "len(orig)"
   ]
  },
  {
   "cell_type": "code",
   "execution_count": null,
   "metadata": {},
   "outputs": [],
   "source": []
  }
 ],
 "metadata": {
  "kernelspec": {
   "display_name": "Python 3",
   "language": "python",
   "name": "python3"
  },
  "language_info": {
   "codemirror_mode": {
    "name": "ipython",
    "version": 3
   },
   "file_extension": ".py",
   "mimetype": "text/x-python",
   "name": "python",
   "nbconvert_exporter": "python",
   "pygments_lexer": "ipython3",
   "version": "3.6.2"
  }
 },
 "nbformat": 4,
 "nbformat_minor": 2
}
