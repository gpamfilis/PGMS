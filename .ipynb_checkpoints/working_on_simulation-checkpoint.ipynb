{
 "cells": [
  {
   "cell_type": "raw",
   "metadata": {},
   "source": [
    "from os import sys, path\n",
    "sys.path.append(path.dirname(path.dirname(path.abspath('__file__'))))"
   ]
  },
  {
   "cell_type": "code",
   "execution_count": 141,
   "metadata": {
    "collapsed": true
   },
   "outputs": [],
   "source": [
    "import pandas as pd\n",
    "import numpy as np\n",
    "import pickle"
   ]
  },
  {
   "cell_type": "code",
   "execution_count": 9,
   "metadata": {
    "collapsed": true
   },
   "outputs": [],
   "source": [
    "import datetime"
   ]
  },
  {
   "cell_type": "code",
   "execution_count": 10,
   "metadata": {
    "collapsed": true
   },
   "outputs": [],
   "source": [
    "from models.hmm_seq_fit import Scoring"
   ]
  },
  {
   "cell_type": "code",
   "execution_count": 11,
   "metadata": {
    "collapsed": true
   },
   "outputs": [],
   "source": [
    "df = pd.read_csv('/home/kasper/Dropbox/Scrapping/soccerway/csv/final_data_soccerway.csv')\n",
    "df.loc[:,'date'] = pd.to_datetime(df.date)\n",
    "\n",
    "input_date = datetime.datetime(2018,1,31)\n",
    "\n",
    "input_data = df[df.date==input_date]\n",
    "\n",
    "home_teams = input_data.home_team.dropna().drop_duplicates().values\n",
    "teams_grouped = df.groupby('home_team').size()\n",
    "home_teams_consider = teams_grouped[home_teams].sort_values(ascending=False)\n",
    "\n",
    "away_teams = input_data.away_team.dropna().drop_duplicates().values\n",
    "teams_grouped = df.groupby('away_team').size()\n",
    "away_teams_consider = teams_grouped[away_teams].sort_values(ascending=False)\n",
    "\n",
    "threshold = 100\n",
    "home_final_teams = home_teams_consider[home_teams_consider > threshold].index\n",
    "away_final_teams = away_teams_consider[away_teams_consider > threshold].index\n",
    "\n",
    "final_matches = input_data[(input_data.home_team.isin(home_final_teams)) & (input_data.away_team.isin(away_final_teams))]"
   ]
  },
  {
   "cell_type": "markdown",
   "metadata": {},
   "source": [
    "# START FUNCTIONS"
   ]
  },
  {
   "cell_type": "code",
   "execution_count": 142,
   "metadata": {
    "collapsed": true
   },
   "outputs": [],
   "source": [
    "def get_date_x_y_for_team_alone(df,side,result_key,team):\n",
    "    if side is None:\n",
    "        da = df[(df['home_team']==team)|(df['away_team']==team)]\n",
    "        ix = da[result_key].dropna().index\n",
    "        dates = df.loc[ix,'date']\n",
    "        ys = scores.loc[ix].values.ravel()\n",
    "        xs = da.loc[ix,result_key].values\n",
    "        return dates, xs, ys, ix\n",
    "    else:\n",
    "        da = df[(df[side]==team)]\n",
    "        ix = da[result_key].dropna().index\n",
    "        dates = df.loc[ix,'date']\n",
    "        ys = scores.loc[ix].values.ravel()\n",
    "        xs = da.loc[ix,result_key].values\n",
    "        return dates, xs, ys, ix"
   ]
  },
  {
   "cell_type": "code",
   "execution_count": 143,
   "metadata": {
    "collapsed": true
   },
   "outputs": [],
   "source": [
    "def get_date_x_y_for_match(df,result_key, teamA, teamB):\n",
    "    da = df[(df['home_team']==teamA) & (df['away_team']==teamB)]\n",
    "    ix = da[result_key].dropna().index\n",
    "    dates = df.loc[ix,'date']\n",
    "    ysA = scores.loc[ix,teamA].values.ravel()\n",
    "    ysB = scores.loc[ix,teamB].values.ravel()\n",
    "    xs = da.loc[ix,result_key].values\n",
    "    return dates, xs, ysA, ysB, ix"
   ]
  },
  {
   "cell_type": "markdown",
   "metadata": {},
   "source": [
    "# END FUNCTIONS"
   ]
  },
  {
   "cell_type": "markdown",
   "metadata": {},
   "source": [
    "## Get Elo-Ratings"
   ]
  },
  {
   "cell_type": "code",
   "execution_count": null,
   "metadata": {
    "collapsed": true
   },
   "outputs": [],
   "source": [
    "! sshpass -p slave0123 scp -r slave0@192.168.0.106:~/elo.csv /home/kasper/PycharmProjects/PGMS/data/elo_ratings/ratings/elo.csv"
   ]
  },
  {
   "cell_type": "markdown",
   "metadata": {},
   "source": [
    "# Get Xs and Ys sequences"
   ]
  },
  {
   "cell_type": "code",
   "execution_count": 144,
   "metadata": {},
   "outputs": [
    {
     "data": {
      "text/html": [
       "<div>\n",
       "<table border=\"1\" class=\"dataframe\">\n",
       "  <thead>\n",
       "    <tr style=\"text-align: right;\">\n",
       "      <th></th>\n",
       "      <th>APOEL</th>\n",
       "      <th>Apollon</th>\n",
       "    </tr>\n",
       "  </thead>\n",
       "  <tbody>\n",
       "    <tr>\n",
       "      <th>149</th>\n",
       "      <td>100.0</td>\n",
       "      <td>100.0</td>\n",
       "    </tr>\n",
       "  </tbody>\n",
       "</table>\n",
       "</div>"
      ],
      "text/plain": [
       "     APOEL  Apollon\n",
       "149  100.0    100.0"
      ]
     },
     "execution_count": 144,
     "metadata": {},
     "output_type": "execute_result"
    }
   ],
   "source": [
    "scores = pd.read_csv('./data/elo_ratings/ratings/elo.csv', index_col='Unnamed: 0')\n",
    "scores.head(1)"
   ]
  },
  {
   "cell_type": "code",
   "execution_count": 146,
   "metadata": {
    "collapsed": true
   },
   "outputs": [],
   "source": [
    "matches = [['APOEL','Apollon']] # get from final_data?\n",
    "result_key = 'over_under_0.5'"
   ]
  },
  {
   "cell_type": "code",
   "execution_count": 147,
   "metadata": {},
   "outputs": [
    {
     "name": "stdout",
     "output_type": "stream",
     "text": [
      "['APOEL', 'Apollon']\n",
      "APOEL\n",
      "Apollon\n"
     ]
    }
   ],
   "source": [
    "jfile = {}\n",
    "\n",
    "sides = ['home_team', 'away_team', None]\n",
    "\n",
    "for match in matches:\n",
    "    print(match)\n",
    "    for team in match:\n",
    "        print(team)\n",
    "        outputs = []\n",
    "        for side in sides:\n",
    "            d,x,y,ix = get_date_x_y_for_team_alone(df, result_key=result_key, team=team, side=side)\n",
    "            output = pd.DataFrame(list(zip(d,x,y)),index = ix, columns=['date','xs','ys'])\n",
    "            outputs.append(output)\n",
    "        temp = {result_key:outputs}\n",
    "        jfile[team] = temp"
   ]
  },
  {
   "cell_type": "code",
   "execution_count": 149,
   "metadata": {},
   "outputs": [
    {
     "name": "stdout",
     "output_type": "stream",
     "text": [
      "['APOEL', 'Apollon']\n"
     ]
    }
   ],
   "source": [
    "m_outputs = []\n",
    "for match in matches:\n",
    "    print(match)\n",
    "    d,x,yA,yB,ix = get_date_x_y_for_match(df,result_key=result_key,teamA=match[0],teamB=match[1])\n",
    "    output = pd.DataFrame(list(zip(d,x,yA,yB)),index = ix, columns=['date', 'xs', 'yA', 'yB'])\n",
    "    m_outputs.append(output)\n",
    "    jfile[match[0]+':'+match[1]] = {result_key:outputs}"
   ]
  },
  {
   "cell_type": "code",
   "execution_count": 151,
   "metadata": {
    "collapsed": true
   },
   "outputs": [],
   "source": [
    "with open('data.pkl', 'wb') as fp:\n",
    "    pickle.dump(jfile, fp)"
   ]
  },
  {
   "cell_type": "code",
   "execution_count": null,
   "metadata": {
    "collapsed": true
   },
   "outputs": [],
   "source": []
  },
  {
   "cell_type": "code",
   "execution_count": null,
   "metadata": {
    "collapsed": true
   },
   "outputs": [],
   "source": []
  },
  {
   "cell_type": "code",
   "execution_count": null,
   "metadata": {
    "collapsed": true
   },
   "outputs": [],
   "source": []
  },
  {
   "cell_type": "code",
   "execution_count": null,
   "metadata": {
    "collapsed": true
   },
   "outputs": [],
   "source": []
  },
  {
   "cell_type": "code",
   "execution_count": null,
   "metadata": {
    "collapsed": true
   },
   "outputs": [],
   "source": []
  },
  {
   "cell_type": "code",
   "execution_count": null,
   "metadata": {
    "collapsed": true
   },
   "outputs": [],
   "source": []
  },
  {
   "cell_type": "code",
   "execution_count": null,
   "metadata": {
    "collapsed": true
   },
   "outputs": [],
   "source": []
  },
  {
   "cell_type": "code",
   "execution_count": null,
   "metadata": {
    "collapsed": true
   },
   "outputs": [],
   "source": []
  },
  {
   "cell_type": "code",
   "execution_count": null,
   "metadata": {
    "collapsed": true
   },
   "outputs": [],
   "source": []
  },
  {
   "cell_type": "code",
   "execution_count": null,
   "metadata": {
    "collapsed": true
   },
   "outputs": [],
   "source": []
  },
  {
   "cell_type": "raw",
   "metadata": {},
   "source": [
    "with open('data.pkl', 'rb') as fp:\n",
    "    jfile = pickle.load(fp)"
   ]
  }
 ],
 "metadata": {
  "kernelspec": {
   "display_name": "Python 3",
   "language": "python",
   "name": "python3"
  },
  "language_info": {
   "codemirror_mode": {
    "name": "ipython",
    "version": 3
   },
   "file_extension": ".py",
   "mimetype": "text/x-python",
   "name": "python",
   "nbconvert_exporter": "python",
   "pygments_lexer": "ipython3",
   "version": "3.5.2"
  }
 },
 "nbformat": 4,
 "nbformat_minor": 2
}
